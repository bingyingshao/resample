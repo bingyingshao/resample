{
 "cells": [
  {
   "cell_type": "markdown",
   "metadata": {},
   "source": [
    "## resample"
   ]
  },
  {
   "cell_type": "code",
   "execution_count": 1,
   "metadata": {},
   "outputs": [],
   "source": [
    "import warnings\n",
    "import numpy as np\n",
    "import scipy.stats as stats\n",
    "import pandas as pd\n",
    "from resample import permutation, bootstrap, utils\n",
    "from sklearn.datasets import load_boston\n",
    "import seaborn as sns\n",
    "\n",
    "warnings.simplefilter(\"ignore\")"
   ]
  },
  {
   "cell_type": "markdown",
   "metadata": {},
   "source": [
    "## Basic Functionality"
   ]
  },
  {
   "cell_type": "markdown",
   "metadata": {},
   "source": [
    "#### Generating bootstrap samples"
   ]
  },
  {
   "cell_type": "code",
   "execution_count": 2,
   "metadata": {},
   "outputs": [
    {
     "data": {
      "text/plain": [
       "array([ 1.84870586,  0.48223669, -2.04175351,  1.46062785,  0.22332245,\n",
       "       -0.95356258, -0.33451201,  0.01255765, -0.63661559,  0.87964592,\n",
       "       -1.21905675, -0.8032397 ,  1.47905911, -0.35131971, -1.92201173,\n",
       "       -0.50167055,  0.06019621,  0.22872293, -0.76341909,  0.04894944,\n",
       "       -1.20232088, -1.19803859, -0.40295859, -1.2224577 , -0.51582111])"
      ]
     },
     "execution_count": 2,
     "metadata": {},
     "output_type": "execute_result"
    }
   ],
   "source": [
    "x = np.random.randn(25)\n",
    "x"
   ]
  },
  {
   "cell_type": "markdown",
   "metadata": {},
   "source": [
    "The default is a balanced bootstrap.  This means that each element has the same distribution over all bootstrap samples as in the original sample (this is a technique used to reduce Monte Carlo variance caused by using only a finite number of bootstrap iterations)."
   ]
  },
  {
   "cell_type": "code",
   "execution_count": 3,
   "metadata": {},
   "outputs": [
    {
     "data": {
      "text/plain": [
       "array([[-1.20232088, -0.33451201, -1.2224577 , ..., -2.04175351,\n",
       "        -0.95356258, -0.51582111],\n",
       "       [ 1.47905911, -0.63661559,  0.06019621, ..., -0.63661559,\n",
       "         1.46062785,  0.01255765],\n",
       "       [ 0.22332245,  0.22872293, -0.35131971, ..., -0.40295859,\n",
       "         0.22332245, -0.51582111],\n",
       "       ...,\n",
       "       [-0.35131971,  1.84870586, -0.95356258, ...,  0.87964592,\n",
       "        -0.8032397 ,  1.46062785],\n",
       "       [ 1.46062785,  0.04894944, -2.04175351, ...,  0.22872293,\n",
       "         0.06019621, -0.33451201],\n",
       "       [-0.35131971,  0.22872293, -0.95356258, ...,  0.87964592,\n",
       "        -0.95356258, -1.21905675]])"
      ]
     },
     "execution_count": 3,
     "metadata": {},
     "output_type": "execute_result"
    }
   ],
   "source": [
    "bootstrap.bootstrap(x)"
   ]
  },
  {
   "cell_type": "markdown",
   "metadata": {},
   "source": [
    "Ordinary sampling with replacement can be done by modifying the `method` argument"
   ]
  },
  {
   "cell_type": "code",
   "execution_count": 4,
   "metadata": {},
   "outputs": [
    {
     "data": {
      "text/plain": [
       "array([[ 1.46062785, -0.51582111, -0.76341909, ...,  0.22332245,\n",
       "        -0.50167055,  1.46062785],\n",
       "       [-0.35131971,  1.84870586, -0.8032397 , ...,  0.22872293,\n",
       "         0.06019621,  1.84870586],\n",
       "       [ 0.06019621,  1.46062785,  0.06019621, ...,  0.48223669,\n",
       "        -0.33451201,  0.48223669],\n",
       "       ...,\n",
       "       [ 0.01255765, -0.40295859,  0.22332245, ...,  1.47905911,\n",
       "         0.48223669, -0.76341909],\n",
       "       [ 0.22332245,  0.22332245, -0.35131971, ..., -0.8032397 ,\n",
       "        -0.95356258,  0.01255765],\n",
       "       [-0.76341909,  0.87964592, -0.35131971, ...,  0.22332245,\n",
       "        -0.35131971, -0.76341909]])"
      ]
     },
     "execution_count": 4,
     "metadata": {},
     "output_type": "execute_result"
    }
   ],
   "source": [
    "bootstrap.bootstrap(x, method=\"ordinary\")"
   ]
  },
  {
   "cell_type": "markdown",
   "metadata": {},
   "source": [
    "Bootstrapping of higher-dimensional arrays is also possible, with resampling always occuring along the $0^{\\text{th}}$ axis (rows in the case of a two dimensional array)"
   ]
  },
  {
   "cell_type": "code",
   "execution_count": 5,
   "metadata": {},
   "outputs": [
    {
     "data": {
      "text/plain": [
       "array([[-0.71394076, -0.22240735],\n",
       "       [-2.24591242,  0.14783193],\n",
       "       [ 0.49076057,  0.42749461],\n",
       "       [-1.02336276, -0.82649799],\n",
       "       [-0.42475257, -1.33969147],\n",
       "       [ 0.9507745 ,  3.07049824],\n",
       "       [-0.27155024,  1.20259466],\n",
       "       [-0.3308935 , -1.03939956],\n",
       "       [ 0.1043107 , -0.60410097],\n",
       "       [ 1.55290914,  0.0307554 ]])"
      ]
     },
     "execution_count": 5,
     "metadata": {},
     "output_type": "execute_result"
    }
   ],
   "source": [
    "x = np.random.normal(size=(10, 2))\n",
    "x"
   ]
  },
  {
   "cell_type": "code",
   "execution_count": 6,
   "metadata": {},
   "outputs": [
    {
     "data": {
      "text/plain": [
       "array([[[ 0.9507745 ,  3.07049824],\n",
       "        [-2.24591242,  0.14783193],\n",
       "        [-0.3308935 , -1.03939956],\n",
       "        [ 0.1043107 , -0.60410097],\n",
       "        [ 0.1043107 , -0.60410097],\n",
       "        [ 1.55290914,  0.0307554 ],\n",
       "        [-0.42475257, -1.33969147],\n",
       "        [-0.71394076, -0.22240735],\n",
       "        [-2.24591242,  0.14783193],\n",
       "        [-1.02336276, -0.82649799]],\n",
       "\n",
       "       [[-0.42475257, -1.33969147],\n",
       "        [-1.02336276, -0.82649799],\n",
       "        [-2.24591242,  0.14783193],\n",
       "        [-0.27155024,  1.20259466],\n",
       "        [ 0.49076057,  0.42749461],\n",
       "        [-0.71394076, -0.22240735],\n",
       "        [ 0.9507745 ,  3.07049824],\n",
       "        [ 0.1043107 , -0.60410097],\n",
       "        [-1.02336276, -0.82649799],\n",
       "        [-0.71394076, -0.22240735]],\n",
       "\n",
       "       [[-0.3308935 , -1.03939956],\n",
       "        [ 0.49076057,  0.42749461],\n",
       "        [ 1.55290914,  0.0307554 ],\n",
       "        [ 0.49076057,  0.42749461],\n",
       "        [-0.3308935 , -1.03939956],\n",
       "        [-0.27155024,  1.20259466],\n",
       "        [ 1.55290914,  0.0307554 ],\n",
       "        [ 0.9507745 ,  3.07049824],\n",
       "        [-0.42475257, -1.33969147],\n",
       "        [-0.27155024,  1.20259466]]])"
      ]
     },
     "execution_count": 6,
     "metadata": {},
     "output_type": "execute_result"
    }
   ],
   "source": [
    "bootstrap.bootstrap(x, b=3)"
   ]
  },
  {
   "cell_type": "markdown",
   "metadata": {},
   "source": [
    "`bootstrap` can be called on any array-like object"
   ]
  },
  {
   "cell_type": "code",
   "execution_count": 7,
   "metadata": {},
   "outputs": [
    {
     "data": {
      "text/plain": [
       "array([['a', 'a', 'c', 'c'],\n",
       "       ['b', 'c', 'a', 'c'],\n",
       "       ['d', 'c', 'a', 'b'],\n",
       "       ['d', 'b', 'a', 'a'],\n",
       "       ['b', 'c', 'c', 'd'],\n",
       "       ['d', 'd', 'a', 'd'],\n",
       "       ['b', 'd', 'b', 'c'],\n",
       "       ['a', 'a', 'd', 'd'],\n",
       "       ['c', 'd', 'b', 'b'],\n",
       "       ['b', 'a', 'c', 'b']], dtype='<U1')"
      ]
     },
     "execution_count": 7,
     "metadata": {},
     "output_type": "execute_result"
    }
   ],
   "source": [
    "bootstrap.bootstrap(list(\"abcd\"), b=10)"
   ]
  },
  {
   "cell_type": "code",
   "execution_count": 8,
   "metadata": {},
   "outputs": [
    {
     "data": {
      "text/plain": [
       "array([[{'a': 1, 'b': 2}, {'a': 1, 'b': 2}, {'a': 1, 'b': 2}],\n",
       "       [{'a', 5}, {'a', 5}, {'c': 5, 'd': 3}],\n",
       "       [{'c': 5, 'd': 3}, {'a': 1, 'b': 2}, {'c': 5, 'd': 3}],\n",
       "       [{'a', 5}, {'a': 1, 'b': 2}, {'a', 5}],\n",
       "       [{'a', 5}, {'c': 5, 'd': 3}, {'c': 5, 'd': 3}],\n",
       "       [{'a': 1, 'b': 2}, {'a', 5}, {'a': 1, 'b': 2}],\n",
       "       [{'a', 5}, {'c': 5, 'd': 3}, {'a': 1, 'b': 2}],\n",
       "       [{'a', 5}, {'c': 5, 'd': 3}, {'a', 5}],\n",
       "       [{'c': 5, 'd': 3}, {'a', 5}, {'a': 1, 'b': 2}],\n",
       "       [{'c': 5, 'd': 3}, {'c': 5, 'd': 3}, {'a': 1, 'b': 2}]],\n",
       "      dtype=object)"
      ]
     },
     "execution_count": 8,
     "metadata": {},
     "output_type": "execute_result"
    }
   ],
   "source": [
    "bootstrap.bootstrap([{\"a\": 1, \"b\": 2}, {\"a\", 5}, {\"c\": 5, \"d\": 3}], b=10)"
   ]
  },
  {
   "cell_type": "markdown",
   "metadata": {},
   "source": [
    "This includes `numpy` arrays of arbitrary dimension"
   ]
  },
  {
   "cell_type": "code",
   "execution_count": 9,
   "metadata": {},
   "outputs": [
    {
     "data": {
      "text/plain": [
       "(100, 32, 16, 8, 4, 2)"
      ]
     },
     "execution_count": 9,
     "metadata": {},
     "output_type": "execute_result"
    }
   ],
   "source": [
    "x = np.random.normal(size=(32, 16, 8, 4, 2))\n",
    "bootstrap.bootstrap(x).shape"
   ]
  },
  {
   "cell_type": "markdown",
   "metadata": {},
   "source": [
    "#### Stratified sampling"
   ]
  },
  {
   "cell_type": "markdown",
   "metadata": {},
   "source": [
    "By using the `strata` argument we can ensure that the distributions of specific classes are maintained over all bootstrap samples.  This is especially useful in classification tasks where we wish to eliminate unwanted variance with respect to the class proportions when modeling.  To illustrate we create an indicator for whether or not the value of `x` is negative and pass this to `strata` when generating our samples.  (The value of `strata` can be of any type, it only needs to have the same length as the input array.  The stratification will simply be done with respect to the distinct values of the argument.)"
   ]
  },
  {
   "cell_type": "code",
   "execution_count": 10,
   "metadata": {},
   "outputs": [
    {
     "data": {
      "text/plain": [
       "array([-0.01719739,  0.57985727, -0.41852423, -0.26330506, -1.69722292,\n",
       "        0.7961383 ,  0.48331808, -0.31668236,  0.59240687,  0.93686513,\n",
       "        2.36271971, -0.50418153, -0.07489911,  0.65415726, -2.31539388,\n",
       "        1.04550274,  0.70179235,  0.83145556, -1.13206568, -1.347998  ,\n",
       "        0.84361891,  0.42227828,  0.07838832,  0.84126877, -0.43533091])"
      ]
     },
     "execution_count": 10,
     "metadata": {},
     "output_type": "execute_result"
    }
   ],
   "source": [
    "x = np.random.randn(25)\n",
    "x"
   ]
  },
  {
   "cell_type": "code",
   "execution_count": 11,
   "metadata": {},
   "outputs": [
    {
     "data": {
      "text/plain": [
       "0.44"
      ]
     },
     "execution_count": 11,
     "metadata": {},
     "output_type": "execute_result"
    }
   ],
   "source": [
    "y = x < 0\n",
    "np.mean(y)"
   ]
  },
  {
   "cell_type": "markdown",
   "metadata": {},
   "source": [
    "All bootstrap samples have the same proportion of negative values as in `x`"
   ]
  },
  {
   "cell_type": "code",
   "execution_count": 12,
   "metadata": {},
   "outputs": [
    {
     "data": {
      "text/plain": [
       "[0.44, 0.44, 0.44, 0.44, 0.44, 0.44, 0.44, 0.44, 0.44, 0.44]"
      ]
     },
     "execution_count": 12,
     "metadata": {},
     "output_type": "execute_result"
    }
   ],
   "source": [
    "boot = bootstrap.bootstrap(x, b=10, strata=y)\n",
    "[np.mean(s < 0) for s in boot]"
   ]
  },
  {
   "cell_type": "markdown",
   "metadata": {},
   "source": [
    "#### Applying functions to bootstrap samples"
   ]
  },
  {
   "cell_type": "markdown",
   "metadata": {},
   "source": [
    "An optional function `f` can be applied to each bootstrap sample"
   ]
  },
  {
   "cell_type": "code",
   "execution_count": 13,
   "metadata": {},
   "outputs": [
    {
     "data": {
      "text/plain": [
       "array([0.93572786, 0.9785982 , 1.77449376, 0.46236427, 1.06291345,\n",
       "       1.04524554, 0.71685776, 0.90949737, 1.06923577, 0.55928869])"
      ]
     },
     "execution_count": 13,
     "metadata": {},
     "output_type": "execute_result"
    }
   ],
   "source": [
    "bootstrap.bootstrap(x, f=np.var, b=10)"
   ]
  },
  {
   "cell_type": "markdown",
   "metadata": {},
   "source": [
    "`f` can have any return value, the only requirement is that it accept the bootstrapped elements as inputs.  Here we return an entire dictionary of summary statistics."
   ]
  },
  {
   "cell_type": "code",
   "execution_count": 14,
   "metadata": {},
   "outputs": [
    {
     "data": {
      "text/plain": [
       "array([{'min': -2.315393879859674, 'median': 0.6541572633833557, 'iqr': 1.1045738277487671, 'max': 2.3627197130219963},\n",
       "       {'min': -2.315393879859674, 'median': 0.07838832243029036, 'iqr': 1.0894881779383603, 'max': 2.3627197130219963},\n",
       "       {'min': -2.315393879859674, 'median': -0.07489910949597671, 'iqr': 1.0184747043464224, 'max': 2.3627197130219963},\n",
       "       {'min': -2.315393879859674, 'median': 0.07838832243029036, 'iqr': 0.9983814918209921, 'max': 2.3627197130219963},\n",
       "       {'min': -2.315393879859674, 'median': -0.07489910949597671, 'iqr': 1.2059738753162372, 'max': 1.0455027442992164},\n",
       "       {'min': -1.6972229180021488, 'median': 0.579857266436316, 'iqr': 1.2765996799615587, 'max': 2.3627197130219963},\n",
       "       {'min': -1.6972229180021488, 'median': 0.4833180763483096, 'iqr': 0.8710374099958055, 'max': 1.0455027442992164},\n",
       "       {'min': -1.6972229180021488, 'median': 0.6541572633833557, 'iqr': 0.8710374099958055, 'max': 2.3627197130219963},\n",
       "       {'min': -2.315393879859674, 'median': 0.07838832243029036, 'iqr': 1.0277377876171019, 'max': 2.3627197130219963},\n",
       "       {'min': -2.315393879859674, 'median': 0.579857266436316, 'iqr': 1.0947606268390453, 'max': 2.3627197130219963}],\n",
       "      dtype=object)"
      ]
     },
     "execution_count": 14,
     "metadata": {},
     "output_type": "execute_result"
    }
   ],
   "source": [
    "def summary(s):\n",
    "    return {\"min\": np.min(s),\n",
    "            \"median\": np.median(s),\n",
    "            \"iqr\": stats.iqr(s),\n",
    "            \"max\": np.max(s)}\n",
    "\n",
    "bootstrap.bootstrap(x, f=summary, b=10)"
   ]
  },
  {
   "cell_type": "markdown",
   "metadata": {},
   "source": [
    "#### Confidence intervals\n",
    "\n",
    "The `bootstrap_ci` function provides implementations of various methods for calculating bootstrap confidence intervals (e.g., percentile, BCA and bootstrap $t$)"
   ]
  },
  {
   "cell_type": "code",
   "execution_count": 15,
   "metadata": {},
   "outputs": [
    {
     "data": {
      "text/plain": [
       "array([-0.37982776,  2.19465326,  1.24419177,  0.19898646, -0.50657668,\n",
       "       -1.60361095, -0.25673015,  0.12491759,  2.20394672,  1.3974737 ,\n",
       "       -0.04434125,  1.89895602, -0.11136233, -1.57136479,  0.74307248,\n",
       "       -0.61612788,  0.51444194,  0.2898546 , -1.31953328,  1.16973664,\n",
       "       -0.13351863, -0.95427821, -0.99853782, -0.81013867, -0.40602795])"
      ]
     },
     "execution_count": 15,
     "metadata": {},
     "output_type": "execute_result"
    }
   ],
   "source": [
    "x = np.random.randn(25)\n",
    "x"
   ]
  },
  {
   "cell_type": "markdown",
   "metadata": {},
   "source": [
    "The default is a percentile interval"
   ]
  },
  {
   "cell_type": "code",
   "execution_count": 16,
   "metadata": {},
   "outputs": [
    {
     "data": {
      "text/plain": [
       "(0.630542008357575, 1.6301165840311316)"
      ]
     },
     "execution_count": 16,
     "metadata": {},
     "output_type": "execute_result"
    }
   ],
   "source": [
    "bootstrap.bootstrap_ci(x, f=np.var)"
   ]
  },
  {
   "cell_type": "markdown",
   "metadata": {},
   "source": [
    "The `ci_method` argument controls the confidence interval method"
   ]
  },
  {
   "cell_type": "code",
   "execution_count": 17,
   "metadata": {},
   "outputs": [
    {
     "data": {
      "text/plain": [
       "(0.6202426499107845, 1.6596895283091622)"
      ]
     },
     "execution_count": 17,
     "metadata": {},
     "output_type": "execute_result"
    }
   ],
   "source": [
    "ci = bootstrap.bootstrap_ci(x, f=np.var, b=10000, ci_method=\"percentile\", random_state=2357)\n",
    "ci"
   ]
  },
  {
   "cell_type": "markdown",
   "metadata": {},
   "source": [
    "Length"
   ]
  },
  {
   "cell_type": "code",
   "execution_count": 18,
   "metadata": {},
   "outputs": [
    {
     "data": {
      "text/plain": [
       "1.0394468783983777"
      ]
     },
     "execution_count": 18,
     "metadata": {},
     "output_type": "execute_result"
    }
   ],
   "source": [
    "ci[1] - ci[0]"
   ]
  },
  {
   "cell_type": "markdown",
   "metadata": {},
   "source": [
    "Bias-corrected and accelerated"
   ]
  },
  {
   "cell_type": "code",
   "execution_count": 19,
   "metadata": {},
   "outputs": [
    {
     "data": {
      "text/plain": [
       "(0.8011037901949534, 1.7274977702274619)"
      ]
     },
     "execution_count": 19,
     "metadata": {},
     "output_type": "execute_result"
    }
   ],
   "source": [
    "ci = bootstrap.bootstrap_ci(x, f=np.var, b=10000, ci_method=\"bca\", random_state=2357)\n",
    "ci"
   ]
  },
  {
   "cell_type": "markdown",
   "metadata": {},
   "source": [
    "Length"
   ]
  },
  {
   "cell_type": "code",
   "execution_count": 20,
   "metadata": {},
   "outputs": [
    {
     "data": {
      "text/plain": [
       "0.9263939800325085"
      ]
     },
     "execution_count": 20,
     "metadata": {},
     "output_type": "execute_result"
    }
   ],
   "source": [
    "ci[1] - ci[0]"
   ]
  },
  {
   "cell_type": "markdown",
   "metadata": {},
   "source": [
    "Bootstrap $t$ (the Studentized bootstrap)"
   ]
  },
  {
   "cell_type": "code",
   "execution_count": 21,
   "metadata": {},
   "outputs": [
    {
     "data": {
      "text/plain": [
       "(0.7717701819183578, 1.6497511046733884)"
      ]
     },
     "execution_count": 21,
     "metadata": {},
     "output_type": "execute_result"
    }
   ],
   "source": [
    "ci = bootstrap.bootstrap_ci(x, f=np.var, b=10000, ci_method=\"t\", random_state=2357)\n",
    "ci"
   ]
  },
  {
   "cell_type": "markdown",
   "metadata": {},
   "source": [
    "Length"
   ]
  },
  {
   "cell_type": "code",
   "execution_count": 22,
   "metadata": {},
   "outputs": [
    {
     "data": {
      "text/plain": [
       "0.8779809227550306"
      ]
     },
     "execution_count": 22,
     "metadata": {},
     "output_type": "execute_result"
    }
   ],
   "source": [
    "ci[1] - ci[0]"
   ]
  },
  {
   "cell_type": "markdown",
   "metadata": {},
   "source": [
    "#### Tools for working with empirical distributions"
   ]
  },
  {
   "cell_type": "code",
   "execution_count": 23,
   "metadata": {},
   "outputs": [],
   "source": [
    "x = np.random.randn(10**4)"
   ]
  },
  {
   "cell_type": "markdown",
   "metadata": {},
   "source": [
    "`ecdf` returns the empirical cumulative distribution function of a sample $\\{ x_i \\}_{i=1}^{n}$\n",
    "\n",
    "$$\n",
    "\\hat{F}_n(s) = n^{-1} \\sum_{i=1}^{n} I(x_i \\leq s) .\n",
    "$$\n",
    "\n",
    "This represents the proportion of the sample less than or equal to $s$."
   ]
  },
  {
   "cell_type": "code",
   "execution_count": 24,
   "metadata": {},
   "outputs": [],
   "source": [
    "F = utils.ecdf(x)"
   ]
  },
  {
   "cell_type": "code",
   "execution_count": 25,
   "metadata": {},
   "outputs": [
    {
     "data": {
      "text/plain": [
       "0.1586"
      ]
     },
     "execution_count": 25,
     "metadata": {},
     "output_type": "execute_result"
    }
   ],
   "source": [
    "F(-1)"
   ]
  },
  {
   "cell_type": "code",
   "execution_count": 26,
   "metadata": {},
   "outputs": [
    {
     "data": {
      "text/plain": [
       "0.4997"
      ]
     },
     "execution_count": 26,
     "metadata": {},
     "output_type": "execute_result"
    }
   ],
   "source": [
    "F(0)"
   ]
  },
  {
   "cell_type": "code",
   "execution_count": 27,
   "metadata": {},
   "outputs": [
    {
     "data": {
      "text/plain": [
       "0.8379"
      ]
     },
     "execution_count": 27,
     "metadata": {},
     "output_type": "execute_result"
    }
   ],
   "source": [
    "F(1)"
   ]
  },
  {
   "cell_type": "markdown",
   "metadata": {},
   "source": [
    "Once the function is created lookups are significantly faster than simply computing a direct average"
   ]
  },
  {
   "cell_type": "code",
   "execution_count": 28,
   "metadata": {},
   "outputs": [
    {
     "name": "stdout",
     "output_type": "stream",
     "text": [
      "2.3 µs ± 136 ns per loop (mean ± std. dev. of 7 runs, 100000 loops each)\n"
     ]
    }
   ],
   "source": [
    "%timeit F(0)"
   ]
  },
  {
   "cell_type": "code",
   "execution_count": 29,
   "metadata": {},
   "outputs": [
    {
     "name": "stdout",
     "output_type": "stream",
     "text": [
      "41 µs ± 7.53 µs per loop (mean ± std. dev. of 7 runs, 10000 loops each)\n"
     ]
    }
   ],
   "source": [
    "%timeit np.mean(x <= 0)"
   ]
  },
  {
   "cell_type": "markdown",
   "metadata": {},
   "source": [
    "`eqf` returns the empirical quantile function\n",
    "\n",
    "$$\n",
    "\\hat{G}_n(p) = \\hat{F}_n^{-1}(p) ,\n",
    "$$\n",
    "\n",
    "or the inverse of `ecdf`.\n",
    "\n",
    "(This statement is not strictly speaking true since $\\hat{F}_n$ is not invertible.  To get around this we use linear interpolation between the observed sample points so that $\\hat{F}_n^{-1}$ is well-defined.  The result is that $\\hat{G}_n(p)$ is defined for all $p \\in [0, 1]$.)"
   ]
  },
  {
   "cell_type": "code",
   "execution_count": 30,
   "metadata": {},
   "outputs": [],
   "source": [
    "G = utils.eqf(x)"
   ]
  },
  {
   "cell_type": "code",
   "execution_count": 31,
   "metadata": {},
   "outputs": [
    {
     "data": {
      "text/plain": [
       "-0.6675230143553635"
      ]
     },
     "execution_count": 31,
     "metadata": {},
     "output_type": "execute_result"
    }
   ],
   "source": [
    "G(0.25)"
   ]
  },
  {
   "cell_type": "code",
   "execution_count": 32,
   "metadata": {},
   "outputs": [
    {
     "data": {
      "text/plain": [
       "0.0008463886547689977"
      ]
     },
     "execution_count": 32,
     "metadata": {},
     "output_type": "execute_result"
    }
   ],
   "source": [
    "G(0.5)"
   ]
  },
  {
   "cell_type": "code",
   "execution_count": 33,
   "metadata": {},
   "outputs": [
    {
     "data": {
      "text/plain": [
       "0.68234460308311"
      ]
     },
     "execution_count": 33,
     "metadata": {},
     "output_type": "execute_result"
    }
   ],
   "source": [
    "G(0.75)"
   ]
  },
  {
   "cell_type": "markdown",
   "metadata": {},
   "source": [
    "## Boston Housing Example"
   ]
  },
  {
   "cell_type": "code",
   "execution_count": 34,
   "metadata": {},
   "outputs": [
    {
     "name": "stdout",
     "output_type": "stream",
     "text": [
      "Boston House Prices dataset\n",
      "===========================\n",
      "\n",
      "Notes\n",
      "------\n",
      "Data Set Characteristics:  \n",
      "\n",
      "    :Number of Instances: 506 \n",
      "\n",
      "    :Number of Attributes: 13 numeric/categorical predictive\n",
      "    \n",
      "    :Median Value (attribute 14) is usually the target\n",
      "\n",
      "    :Attribute Information (in order):\n",
      "        - CRIM     per capita crime rate by town\n",
      "        - ZN       proportion of residential land zoned for lots over 25,000 sq.ft.\n",
      "        - INDUS    proportion of non-retail business acres per town\n",
      "        - CHAS     Charles River dummy variable (= 1 if tract bounds river; 0 otherwise)\n",
      "        - NOX      nitric oxides concentration (parts per 10 million)\n",
      "        - RM       average number of rooms per dwelling\n",
      "        - AGE      proportion of owner-occupied units built prior to 1940\n",
      "        - DIS      weighted distances to five Boston employment centres\n",
      "        - RAD      index of accessibility to radial highways\n",
      "        - TAX      full-value property-tax rate per $10,000\n",
      "        - PTRATIO  pupil-teacher ratio by town\n",
      "        - B        1000(Bk - 0.63)^2 where Bk is the proportion of blacks by town\n",
      "        - LSTAT    % lower status of the population\n",
      "        - MEDV     Median value of owner-occupied homes in $1000's\n",
      "\n",
      "    :Missing Attribute Values: None\n",
      "\n",
      "    :Creator: Harrison, D. and Rubinfeld, D.L.\n",
      "\n",
      "This is a copy of UCI ML housing dataset.\n",
      "http://archive.ics.uci.edu/ml/datasets/Housing\n",
      "\n",
      "\n",
      "This dataset was taken from the StatLib library which is maintained at Carnegie Mellon University.\n",
      "\n",
      "The Boston house-price data of Harrison, D. and Rubinfeld, D.L. 'Hedonic\n",
      "prices and the demand for clean air', J. Environ. Economics & Management,\n",
      "vol.5, 81-102, 1978.   Used in Belsley, Kuh & Welsch, 'Regression diagnostics\n",
      "...', Wiley, 1980.   N.B. Various transformations are used in the table on\n",
      "pages 244-261 of the latter.\n",
      "\n",
      "The Boston house-price data has been used in many machine learning papers that address regression\n",
      "problems.   \n",
      "     \n",
      "**References**\n",
      "\n",
      "   - Belsley, Kuh & Welsch, 'Regression diagnostics: Identifying Influential Data and Sources of Collinearity', Wiley, 1980. 244-261.\n",
      "   - Quinlan,R. (1993). Combining Instance-Based and Model-Based Learning. In Proceedings on the Tenth International Conference of Machine Learning, 236-243, University of Massachusetts, Amherst. Morgan Kaufmann.\n",
      "   - many more! (see http://archive.ics.uci.edu/ml/datasets/Housing)\n",
      "\n"
     ]
    }
   ],
   "source": [
    "bost = load_boston()\n",
    "print(bost[\"DESCR\"])"
   ]
  },
  {
   "cell_type": "code",
   "execution_count": 35,
   "metadata": {},
   "outputs": [
    {
     "data": {
      "text/html": [
       "<div>\n",
       "<style scoped>\n",
       "    .dataframe tbody tr th:only-of-type {\n",
       "        vertical-align: middle;\n",
       "    }\n",
       "\n",
       "    .dataframe tbody tr th {\n",
       "        vertical-align: top;\n",
       "    }\n",
       "\n",
       "    .dataframe thead th {\n",
       "        text-align: right;\n",
       "    }\n",
       "</style>\n",
       "<table border=\"1\" class=\"dataframe\">\n",
       "  <thead>\n",
       "    <tr style=\"text-align: right;\">\n",
       "      <th></th>\n",
       "      <th>CRIM</th>\n",
       "      <th>ZN</th>\n",
       "      <th>INDUS</th>\n",
       "      <th>CHAS</th>\n",
       "      <th>NOX</th>\n",
       "      <th>RM</th>\n",
       "      <th>AGE</th>\n",
       "      <th>DIS</th>\n",
       "      <th>RAD</th>\n",
       "      <th>TAX</th>\n",
       "      <th>PTRATIO</th>\n",
       "      <th>B</th>\n",
       "      <th>LSTAT</th>\n",
       "    </tr>\n",
       "  </thead>\n",
       "  <tbody>\n",
       "    <tr>\n",
       "      <th>0</th>\n",
       "      <td>0.00632</td>\n",
       "      <td>18.0</td>\n",
       "      <td>2.31</td>\n",
       "      <td>0.0</td>\n",
       "      <td>0.538</td>\n",
       "      <td>6.575</td>\n",
       "      <td>65.2</td>\n",
       "      <td>4.0900</td>\n",
       "      <td>1.0</td>\n",
       "      <td>296.0</td>\n",
       "      <td>15.3</td>\n",
       "      <td>396.90</td>\n",
       "      <td>4.98</td>\n",
       "    </tr>\n",
       "    <tr>\n",
       "      <th>1</th>\n",
       "      <td>0.02731</td>\n",
       "      <td>0.0</td>\n",
       "      <td>7.07</td>\n",
       "      <td>0.0</td>\n",
       "      <td>0.469</td>\n",
       "      <td>6.421</td>\n",
       "      <td>78.9</td>\n",
       "      <td>4.9671</td>\n",
       "      <td>2.0</td>\n",
       "      <td>242.0</td>\n",
       "      <td>17.8</td>\n",
       "      <td>396.90</td>\n",
       "      <td>9.14</td>\n",
       "    </tr>\n",
       "    <tr>\n",
       "      <th>2</th>\n",
       "      <td>0.02729</td>\n",
       "      <td>0.0</td>\n",
       "      <td>7.07</td>\n",
       "      <td>0.0</td>\n",
       "      <td>0.469</td>\n",
       "      <td>7.185</td>\n",
       "      <td>61.1</td>\n",
       "      <td>4.9671</td>\n",
       "      <td>2.0</td>\n",
       "      <td>242.0</td>\n",
       "      <td>17.8</td>\n",
       "      <td>392.83</td>\n",
       "      <td>4.03</td>\n",
       "    </tr>\n",
       "    <tr>\n",
       "      <th>3</th>\n",
       "      <td>0.03237</td>\n",
       "      <td>0.0</td>\n",
       "      <td>2.18</td>\n",
       "      <td>0.0</td>\n",
       "      <td>0.458</td>\n",
       "      <td>6.998</td>\n",
       "      <td>45.8</td>\n",
       "      <td>6.0622</td>\n",
       "      <td>3.0</td>\n",
       "      <td>222.0</td>\n",
       "      <td>18.7</td>\n",
       "      <td>394.63</td>\n",
       "      <td>2.94</td>\n",
       "    </tr>\n",
       "    <tr>\n",
       "      <th>4</th>\n",
       "      <td>0.06905</td>\n",
       "      <td>0.0</td>\n",
       "      <td>2.18</td>\n",
       "      <td>0.0</td>\n",
       "      <td>0.458</td>\n",
       "      <td>7.147</td>\n",
       "      <td>54.2</td>\n",
       "      <td>6.0622</td>\n",
       "      <td>3.0</td>\n",
       "      <td>222.0</td>\n",
       "      <td>18.7</td>\n",
       "      <td>396.90</td>\n",
       "      <td>5.33</td>\n",
       "    </tr>\n",
       "  </tbody>\n",
       "</table>\n",
       "</div>"
      ],
      "text/plain": [
       "      CRIM    ZN  INDUS  CHAS    NOX     RM   AGE     DIS  RAD    TAX  \\\n",
       "0  0.00632  18.0   2.31   0.0  0.538  6.575  65.2  4.0900  1.0  296.0   \n",
       "1  0.02731   0.0   7.07   0.0  0.469  6.421  78.9  4.9671  2.0  242.0   \n",
       "2  0.02729   0.0   7.07   0.0  0.469  7.185  61.1  4.9671  2.0  242.0   \n",
       "3  0.03237   0.0   2.18   0.0  0.458  6.998  45.8  6.0622  3.0  222.0   \n",
       "4  0.06905   0.0   2.18   0.0  0.458  7.147  54.2  6.0622  3.0  222.0   \n",
       "\n",
       "   PTRATIO       B  LSTAT  \n",
       "0     15.3  396.90   4.98  \n",
       "1     17.8  396.90   9.14  \n",
       "2     17.8  392.83   4.03  \n",
       "3     18.7  394.63   2.94  \n",
       "4     18.7  396.90   5.33  "
      ]
     },
     "execution_count": 35,
     "metadata": {},
     "output_type": "execute_result"
    }
   ],
   "source": [
    "df = pd.DataFrame(bost[\"data\"], columns=bost[\"feature_names\"])\n",
    "df.head()"
   ]
  },
  {
   "cell_type": "code",
   "execution_count": 36,
   "metadata": {},
   "outputs": [
    {
     "data": {
      "text/plain": [
       "0    24.0\n",
       "1    21.6\n",
       "2    34.7\n",
       "3    33.4\n",
       "4    36.2\n",
       "Name: target, dtype: float64"
      ]
     },
     "execution_count": 36,
     "metadata": {},
     "output_type": "execute_result"
    }
   ],
   "source": [
    "y = pd.Series(bost[\"target\"], name=\"target\")\n",
    "y.head()"
   ]
  },
  {
   "cell_type": "markdown",
   "metadata": {},
   "source": [
    "Use `corr_test` to test the significance of the correlation coefficients.  We see that all the correlations are highly significant since they lie at the extremes of their respective permutation distributions."
   ]
  },
  {
   "cell_type": "code",
   "execution_count": 37,
   "metadata": {},
   "outputs": [
    {
     "data": {
      "text/html": [
       "<div>\n",
       "<style scoped>\n",
       "    .dataframe tbody tr th:only-of-type {\n",
       "        vertical-align: middle;\n",
       "    }\n",
       "\n",
       "    .dataframe tbody tr th {\n",
       "        vertical-align: top;\n",
       "    }\n",
       "\n",
       "    .dataframe thead th {\n",
       "        text-align: right;\n",
       "    }\n",
       "</style>\n",
       "<table border=\"1\" class=\"dataframe\">\n",
       "  <thead>\n",
       "    <tr style=\"text-align: right;\">\n",
       "      <th></th>\n",
       "      <th>c</th>\n",
       "      <th>prop</th>\n",
       "    </tr>\n",
       "  </thead>\n",
       "  <tbody>\n",
       "    <tr>\n",
       "      <th>CRIM</th>\n",
       "      <td>-0.385832</td>\n",
       "      <td>0.0</td>\n",
       "    </tr>\n",
       "    <tr>\n",
       "      <th>ZN</th>\n",
       "      <td>0.360445</td>\n",
       "      <td>1.0</td>\n",
       "    </tr>\n",
       "    <tr>\n",
       "      <th>INDUS</th>\n",
       "      <td>-0.483725</td>\n",
       "      <td>0.0</td>\n",
       "    </tr>\n",
       "    <tr>\n",
       "      <th>CHAS</th>\n",
       "      <td>0.175260</td>\n",
       "      <td>1.0</td>\n",
       "    </tr>\n",
       "    <tr>\n",
       "      <th>NOX</th>\n",
       "      <td>-0.427321</td>\n",
       "      <td>0.0</td>\n",
       "    </tr>\n",
       "    <tr>\n",
       "      <th>RM</th>\n",
       "      <td>0.695360</td>\n",
       "      <td>1.0</td>\n",
       "    </tr>\n",
       "    <tr>\n",
       "      <th>AGE</th>\n",
       "      <td>-0.376955</td>\n",
       "      <td>0.0</td>\n",
       "    </tr>\n",
       "    <tr>\n",
       "      <th>DIS</th>\n",
       "      <td>0.249929</td>\n",
       "      <td>1.0</td>\n",
       "    </tr>\n",
       "    <tr>\n",
       "      <th>RAD</th>\n",
       "      <td>-0.381626</td>\n",
       "      <td>0.0</td>\n",
       "    </tr>\n",
       "    <tr>\n",
       "      <th>TAX</th>\n",
       "      <td>-0.468536</td>\n",
       "      <td>0.0</td>\n",
       "    </tr>\n",
       "    <tr>\n",
       "      <th>PTRATIO</th>\n",
       "      <td>-0.507787</td>\n",
       "      <td>0.0</td>\n",
       "    </tr>\n",
       "    <tr>\n",
       "      <th>B</th>\n",
       "      <td>0.333461</td>\n",
       "      <td>1.0</td>\n",
       "    </tr>\n",
       "    <tr>\n",
       "      <th>LSTAT</th>\n",
       "      <td>-0.737663</td>\n",
       "      <td>0.0</td>\n",
       "    </tr>\n",
       "  </tbody>\n",
       "</table>\n",
       "</div>"
      ],
      "text/plain": [
       "                c  prop\n",
       "CRIM    -0.385832   0.0\n",
       "ZN       0.360445   1.0\n",
       "INDUS   -0.483725   0.0\n",
       "CHAS     0.175260   1.0\n",
       "NOX     -0.427321   0.0\n",
       "RM       0.695360   1.0\n",
       "AGE     -0.376955   0.0\n",
       "DIS      0.249929   1.0\n",
       "RAD     -0.381626   0.0\n",
       "TAX     -0.468536   0.0\n",
       "PTRATIO -0.507787   0.0\n",
       "B        0.333461   1.0\n",
       "LSTAT   -0.737663   0.0"
      ]
     },
     "execution_count": 37,
     "metadata": {},
     "output_type": "execute_result"
    }
   ],
   "source": [
    "df.apply(lambda x: pd.Series(permutation.corr_test(x.values, y.values, b=1000))).T"
   ]
  },
  {
   "cell_type": "markdown",
   "metadata": {},
   "source": [
    "Use `ttest` to determine if properties along the Charles River are more expensive"
   ]
  },
  {
   "cell_type": "code",
   "execution_count": 38,
   "metadata": {},
   "outputs": [
    {
     "data": {
      "text/plain": [
       "{'t': 3.113291312794837, 'prop': 1.0}"
      ]
     },
     "execution_count": 38,
     "metadata": {},
     "output_type": "execute_result"
    }
   ],
   "source": [
    "permutation.ttest(y[df[\"CHAS\"] == 1], y[df[\"CHAS\"] == 0], b=1000)"
   ]
  },
  {
   "cell_type": "markdown",
   "metadata": {},
   "source": [
    "`wilcoxon` can be used to test the same hypothesis"
   ]
  },
  {
   "cell_type": "code",
   "execution_count": 39,
   "metadata": {},
   "outputs": [
    {
     "data": {
      "text/plain": [
       "{'w': 11509.5, 'prop': 1.0}"
      ]
     },
     "execution_count": 39,
     "metadata": {},
     "output_type": "execute_result"
    }
   ],
   "source": [
    "permutation.wilcoxon(y[df[\"CHAS\"] == 1], y[df[\"CHAS\"] == 0], b=1000)"
   ]
  },
  {
   "cell_type": "markdown",
   "metadata": {},
   "source": [
    "Load linear model libraries"
   ]
  },
  {
   "cell_type": "code",
   "execution_count": 40,
   "metadata": {},
   "outputs": [],
   "source": [
    "from sklearn.preprocessing import StandardScaler\n",
    "from sklearn.linear_model import LinearRegression\n",
    "from sklearn.model_selection import cross_val_predict"
   ]
  },
  {
   "cell_type": "markdown",
   "metadata": {},
   "source": [
    "Here we define a function `fitreg` which takes a matrix `A` that contains both predictors and a response variable and returns the least squares coefficients of the predictors along with an intercept.  Note how the standardization is actually performed *inside* the function.  This means that the measures of center and scale (which are in fact model parameters) are estimated at every iteration, and so any variation in the coefficients that is induced by this process can be accounted-for by the bootstrapping process.  In theory a full modeling workflow can be defined as a function which can then be bootstrapped."
   ]
  },
  {
   "cell_type": "code",
   "execution_count": 41,
   "metadata": {},
   "outputs": [],
   "source": [
    "def fitreg(A):\n",
    "    scale = StandardScaler()\n",
    "    reg = LinearRegression(fit_intercept=True)\n",
    "    X_scale = scale.fit_transform(A[:, :A.shape[1]-2])\n",
    "    y = A[:, A.shape[1]-1]\n",
    "    reg.fit(X_scale, y)\n",
    "    return {\"coef\": reg.coef_, \"intercept\": reg.intercept_}"
   ]
  },
  {
   "cell_type": "markdown",
   "metadata": {},
   "source": [
    "Apply the function to 5,000 bootstrap copies of the Boston housing data.  The output is an array of dictionaries containing the coefficients and intercept for each data set.  We then wrap this array into a `pandas` `DataFrame`."
   ]
  },
  {
   "cell_type": "code",
   "execution_count": 42,
   "metadata": {},
   "outputs": [
    {
     "data": {
      "text/plain": [
       "array([{'coef': array([-1.24940008,  0.4521016 , -0.12226851,  0.49288441, -2.15744612,\n",
       "        4.35705272, -0.62892876, -2.66174889,  2.71151405, -1.62770767,\n",
       "       -2.29904926,  1.67548978]), 'intercept': 22.62193675889331},\n",
       "       {'coef': array([-1.98340371,  1.1962473 , -0.54160658,  1.49201159, -3.36253846,\n",
       "        3.21354932, -0.99205584, -3.63673274,  2.9456833 , -1.18162618,\n",
       "       -1.91532297,  1.51572313]), 'intercept': 22.14584980237155},\n",
       "       {'coef': array([-1.34135503,  0.61075114, -0.44502036,  0.77009715, -3.66622407,\n",
       "        4.28706396, -0.80467974, -4.41104731,  2.62514328, -1.77952508,\n",
       "       -2.65794962,  1.17814286]), 'intercept': 22.486956521739145}],\n",
       "      dtype=object)"
      ]
     },
     "execution_count": 42,
     "metadata": {},
     "output_type": "execute_result"
    }
   ],
   "source": [
    "boot_coef = bootstrap.bootstrap(a=df.join(y).values, f=fitreg, b=5000, random_state=2357)\n",
    "boot_coef[:3]"
   ]
  },
  {
   "cell_type": "code",
   "execution_count": 43,
   "metadata": {},
   "outputs": [
    {
     "data": {
      "text/html": [
       "<div>\n",
       "<style scoped>\n",
       "    .dataframe tbody tr th:only-of-type {\n",
       "        vertical-align: middle;\n",
       "    }\n",
       "\n",
       "    .dataframe tbody tr th {\n",
       "        vertical-align: top;\n",
       "    }\n",
       "\n",
       "    .dataframe thead th {\n",
       "        text-align: right;\n",
       "    }\n",
       "</style>\n",
       "<table border=\"1\" class=\"dataframe\">\n",
       "  <thead>\n",
       "    <tr style=\"text-align: right;\">\n",
       "      <th></th>\n",
       "      <th>coef</th>\n",
       "      <th>intercept</th>\n",
       "    </tr>\n",
       "  </thead>\n",
       "  <tbody>\n",
       "    <tr>\n",
       "      <th>0</th>\n",
       "      <td>[-1.2494000801862717, 0.452101603479378, -0.12...</td>\n",
       "      <td>22.621937</td>\n",
       "    </tr>\n",
       "    <tr>\n",
       "      <th>1</th>\n",
       "      <td>[-1.9834037094578212, 1.1962473015460426, -0.5...</td>\n",
       "      <td>22.145850</td>\n",
       "    </tr>\n",
       "    <tr>\n",
       "      <th>2</th>\n",
       "      <td>[-1.3413550287062634, 0.6107511396410703, -0.4...</td>\n",
       "      <td>22.486957</td>\n",
       "    </tr>\n",
       "    <tr>\n",
       "      <th>3</th>\n",
       "      <td>[-1.0252065314677028, 0.9423924278334428, 0.16...</td>\n",
       "      <td>22.636957</td>\n",
       "    </tr>\n",
       "    <tr>\n",
       "      <th>4</th>\n",
       "      <td>[-0.7618402285907614, 0.9359590077955342, -0.4...</td>\n",
       "      <td>22.729644</td>\n",
       "    </tr>\n",
       "  </tbody>\n",
       "</table>\n",
       "</div>"
      ],
      "text/plain": [
       "                                                coef  intercept\n",
       "0  [-1.2494000801862717, 0.452101603479378, -0.12...  22.621937\n",
       "1  [-1.9834037094578212, 1.1962473015460426, -0.5...  22.145850\n",
       "2  [-1.3413550287062634, 0.6107511396410703, -0.4...  22.486957\n",
       "3  [-1.0252065314677028, 0.9423924278334428, 0.16...  22.636957\n",
       "4  [-0.7618402285907614, 0.9359590077955342, -0.4...  22.729644"
      ]
     },
     "execution_count": 43,
     "metadata": {},
     "output_type": "execute_result"
    }
   ],
   "source": [
    "param_frame = pd.DataFrame([pd.Series(x) for x in boot_coef])\n",
    "param_frame.head()"
   ]
  },
  {
   "cell_type": "markdown",
   "metadata": {},
   "source": [
    "Extract the coefficients for the `CRIM` variable and plot the histogram"
   ]
  },
  {
   "cell_type": "code",
   "execution_count": 44,
   "metadata": {},
   "outputs": [],
   "source": [
    "crim_coef = param_frame[\"coef\"].map(lambda x: x[0])"
   ]
  },
  {
   "cell_type": "code",
   "execution_count": 45,
   "metadata": {},
   "outputs": [
    {
     "data": {
      "text/plain": [
       "<matplotlib.axes._subplots.AxesSubplot at 0x10da57da0>"
      ]
     },
     "execution_count": 45,
     "metadata": {},
     "output_type": "execute_result"
    },
    {
     "data": {
      "image/png": "[encoded data removed]",
      "text/plain": [
       "<Figure size 432x288 with 1 Axes>"
      ]
     },
     "metadata": {},
     "output_type": "display_data"
    }
   ],
   "source": [
    "sns.distplot(crim_coef, kde=False)"
   ]
  },
  {
   "cell_type": "markdown",
   "metadata": {},
   "source": [
    "Extract endpoints of percentile bootstrap confidence interval"
   ]
  },
  {
   "cell_type": "code",
   "execution_count": 46,
   "metadata": {},
   "outputs": [],
   "source": [
    "q = utils.eqf(crim_coef)"
   ]
  },
  {
   "cell_type": "code",
   "execution_count": 47,
   "metadata": {},
   "outputs": [
    {
     "data": {
      "text/plain": [
       "(-2.0578162377452105, -0.5423771568162123)"
      ]
     },
     "execution_count": 47,
     "metadata": {},
     "output_type": "execute_result"
    }
   ],
   "source": [
    "(q(0.025), q(0.975))"
   ]
  },
  {
   "cell_type": "markdown",
   "metadata": {},
   "source": [
    "Bootstrap confidence interval of correlation coefficient between `CRIM` and `target`.  This gives us a plausible range for the true correlation between these two quantities."
   ]
  },
  {
   "cell_type": "code",
   "execution_count": 48,
   "metadata": {},
   "outputs": [
    {
     "data": {
      "text/plain": [
       "(-0.4508508352669132, -0.3334594499656253)"
      ]
     },
     "execution_count": 48,
     "metadata": {},
     "output_type": "execute_result"
    }
   ],
   "source": [
    "bootstrap.bootstrap_ci(a=df[[\"CRIM\"]].join(y).values,\n",
    "                       f=lambda x: np.corrcoef(x[:, 0], x[:, 1])[0, 1],\n",
    "                       p=0.95,\n",
    "                       b=10000,\n",
    "                       ci_method=\"percentile\",\n",
    "                       random_state=2357)"
   ]
  }
 ],
 "metadata": {
  "kernelspec": {
   "display_name": "Python 3",
   "language": "python",
   "name": "python3"
  },
  "language_info": {
   "codemirror_mode": {
    "name": "ipython",
    "version": 3
   },
   "file_extension": ".py",
   "mimetype": "text/x-python",
   "name": "python",
   "nbconvert_exporter": "python",
   "pygments_lexer": "ipython3",
   "version": "3.6.5"
  }
 },
 "nbformat": 4,
 "nbformat_minor": 2
}
