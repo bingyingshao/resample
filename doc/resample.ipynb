{
 "cells": [
  {
   "cell_type": "markdown",
   "metadata": {},
   "source": [
    "## resample"
   ]
  },
  {
   "cell_type": "code",
   "execution_count": 1,
   "metadata": {},
   "outputs": [],
   "source": [
    "import warnings\n",
    "import numpy as np\n",
    "import scipy.stats as stats\n",
    "import pandas as pd\n",
    "from resample import permutation, bootstrap, utils\n",
    "from sklearn.datasets import load_boston\n",
    "import seaborn as sns\n",
    "\n",
    "warnings.simplefilter(\"ignore\")"
   ]
  },
  {
   "cell_type": "markdown",
   "metadata": {},
   "source": [
    "## Basic Functionality"
   ]
  },
  {
   "cell_type": "code",
   "execution_count": 2,
   "metadata": {},
   "outputs": [
    {
     "data": {
      "text/plain": [
       "array([-0.77372008, -0.62165242, -0.11751952,  0.53494397,  1.46339555,\n",
       "       -1.64514984, -1.2570796 , -0.61207131, -1.02946214, -1.06783493,\n",
       "       -0.38757417, -1.60524569,  1.09798325, -0.12147104, -0.17936334,\n",
       "        1.32612682,  0.27854015,  0.93293602,  0.58280674, -1.73636661,\n",
       "        0.89594826, -0.2337346 , -0.52110893,  0.46047334,  0.29781133])"
      ]
     },
     "execution_count": 2,
     "metadata": {},
     "output_type": "execute_result"
    }
   ],
   "source": [
    "x = np.random.randn(25)\n",
    "x"
   ]
  },
  {
   "cell_type": "markdown",
   "metadata": {},
   "source": [
    "The default is a balanced bootstrap.  This means that each element has the same distribution over all bootstrap samples as in the original sample (this is a variance reduction technique)."
   ]
  },
  {
   "cell_type": "code",
   "execution_count": 3,
   "metadata": {},
   "outputs": [
    {
     "data": {
      "text/plain": [
       "array([[ 0.89594826,  1.46339555,  0.29781133, ..., -1.02946214,\n",
       "         1.32612682,  0.93293602],\n",
       "       [ 0.46047334, -0.62165242,  0.29781133, ...,  0.89594826,\n",
       "         0.89594826,  1.09798325],\n",
       "       [-1.60524569, -0.11751952,  0.53494397, ...,  0.93293602,\n",
       "        -1.60524569,  0.29781133],\n",
       "       ...,\n",
       "       [-0.2337346 ,  0.27854015, -0.52110893, ..., -0.62165242,\n",
       "        -0.2337346 ,  0.53494397],\n",
       "       [ 1.32612682, -0.77372008, -1.60524569, ..., -0.17936334,\n",
       "         0.93293602, -1.73636661],\n",
       "       [ 0.27854015, -1.06783493,  1.46339555, ..., -0.17936334,\n",
       "         1.46339555, -1.73636661]])"
      ]
     },
     "execution_count": 3,
     "metadata": {},
     "output_type": "execute_result"
    }
   ],
   "source": [
    "bootstrap.bootstrap(x)"
   ]
  },
  {
   "cell_type": "markdown",
   "metadata": {},
   "source": [
    "Ordinary sampling with replacement can be done by modifying the `method` argument"
   ]
  },
  {
   "cell_type": "code",
   "execution_count": 4,
   "metadata": {},
   "outputs": [
    {
     "data": {
      "text/plain": [
       "array([[-1.06783493,  0.89594826, -1.06783493, ...,  1.32612682,\n",
       "         0.27854015, -1.73636661],\n",
       "       [-1.2570796 ,  0.93293602, -0.77372008, ..., -0.2337346 ,\n",
       "        -0.11751952, -1.02946214],\n",
       "       [-0.12147104, -1.73636661, -1.64514984, ...,  1.09798325,\n",
       "        -0.77372008,  0.89594826],\n",
       "       ...,\n",
       "       [-0.17936334, -1.02946214, -0.17936334, ..., -0.12147104,\n",
       "         0.27854015,  0.46047334],\n",
       "       [-0.17936334,  1.46339555, -1.2570796 , ..., -0.2337346 ,\n",
       "         1.09798325, -1.02946214],\n",
       "       [ 0.58280674, -0.12147104, -1.73636661, ...,  1.32612682,\n",
       "         0.29781133,  0.93293602]])"
      ]
     },
     "execution_count": 4,
     "metadata": {},
     "output_type": "execute_result"
    }
   ],
   "source": [
    "bootstrap.bootstrap(x, method=\"ordinary\")"
   ]
  },
  {
   "cell_type": "markdown",
   "metadata": {},
   "source": [
    "An optional function `f` can be applied to each bootstrap sample"
   ]
  },
  {
   "cell_type": "code",
   "execution_count": 5,
   "metadata": {},
   "outputs": [
    {
     "data": {
      "text/plain": [
       "array([0.61204321, 0.98011874, 0.71774738, 0.89202181, 0.91319184,\n",
       "       0.77154049, 0.87210944, 0.94414793, 0.70381792, 0.83254889])"
      ]
     },
     "execution_count": 5,
     "metadata": {},
     "output_type": "execute_result"
    }
   ],
   "source": [
    "bootstrap.bootstrap(x, f=np.var, b=10)"
   ]
  },
  {
   "cell_type": "markdown",
   "metadata": {},
   "source": [
    "`f` can have any return value, the only requirement is that it accept the bootstrapped elements as inputs.  Here we return an entire dictionary of summary statistics."
   ]
  },
  {
   "cell_type": "code",
   "execution_count": 6,
   "metadata": {},
   "outputs": [
    {
     "data": {
      "text/plain": [
       "array([{'min': -1.6052456904314485, 'median': -0.121471040081501, 'iqr': 1.1948780546474551, 'max': 1.4633955504694294},\n",
       "       {'min': -1.736366606773231, 'median': -0.11751951690159054, 'iqr': 1.103915673779697, 'max': 1.4633955504694294},\n",
       "       {'min': -1.736366606773231, 'median': -0.5211089323053049, 'iqr': 1.3463750809914494, 'max': 1.4633955504694294},\n",
       "       {'min': -1.736366606773231, 'median': -0.121471040081501, 'iqr': 1.072544657489776, 'max': 1.4633955504694294},\n",
       "       {'min': -1.6451498420936803, 'median': -0.621652420263393, 'iqr': 0.6802607535584368, 'max': 1.4633955504694294},\n",
       "       {'min': -1.6451498420936803, 'median': 0.4604733443167129, 'iqr': 1.1666706134059734, 'max': 1.3261268241981181},\n",
       "       {'min': -1.736366606773231, 'median': -0.121471040081501, 'iqr': 1.082125764580106, 'max': 1.4633955504694294},\n",
       "       {'min': -1.736366606773231, 'median': -0.612071313173063, 'iqr': 1.3272734701432358, 'max': 1.4633955504694294},\n",
       "       {'min': -1.736366606773231, 'median': -0.23373459800160007, 'iqr': 1.9623981543008682, 'max': 1.4633955504694294},\n",
       "       {'min': -1.736366606773231, 'median': -0.121471040081501, 'iqr': 1.204459161737785, 'max': 1.4633955504694294}],\n",
       "      dtype=object)"
      ]
     },
     "execution_count": 6,
     "metadata": {},
     "output_type": "execute_result"
    }
   ],
   "source": [
    "def summary(s):\n",
    "    return {\"min\": np.min(s),\n",
    "            \"median\": np.median(s),\n",
    "            \"iqr\": stats.iqr(s),\n",
    "            \"max\": np.max(s)}\n",
    "\n",
    "bootstrap.bootstrap(x, f=summary, b=10)"
   ]
  },
  {
   "cell_type": "markdown",
   "metadata": {},
   "source": [
    "Bootstrapping of higher-dimensional arrays is also possible, with resampling always occuring along the $0^{\\text{th}}$ axis (rows in the case of a two dimensional array)"
   ]
  },
  {
   "cell_type": "code",
   "execution_count": 7,
   "metadata": {},
   "outputs": [
    {
     "data": {
      "text/plain": [
       "array([[ 2.28403489, -0.22329021],\n",
       "       [-0.92655809,  0.50053913],\n",
       "       [-0.26522251,  0.61427015],\n",
       "       [-0.06370871,  0.20741074],\n",
       "       [ 0.35839485,  1.14578809],\n",
       "       [ 0.90386207,  1.14399738],\n",
       "       [ 0.33167855,  0.2947607 ],\n",
       "       [-0.53612408, -0.66518153],\n",
       "       [ 1.32860764, -0.24671515],\n",
       "       [-0.65173351,  0.2485499 ]])"
      ]
     },
     "execution_count": 7,
     "metadata": {},
     "output_type": "execute_result"
    }
   ],
   "source": [
    "x = np.random.normal(size=(10, 2))\n",
    "x"
   ]
  },
  {
   "cell_type": "code",
   "execution_count": 8,
   "metadata": {},
   "outputs": [
    {
     "data": {
      "text/plain": [
       "array([[[ 0.90386207,  1.14399738],\n",
       "        [-0.06370871,  0.20741074],\n",
       "        [-0.65173351,  0.2485499 ],\n",
       "        [ 0.33167855,  0.2947607 ],\n",
       "        [-0.06370871,  0.20741074],\n",
       "        [-0.65173351,  0.2485499 ],\n",
       "        [ 0.35839485,  1.14578809],\n",
       "        [-0.65173351,  0.2485499 ],\n",
       "        [-0.53612408, -0.66518153],\n",
       "        [ 0.90386207,  1.14399738]],\n",
       "\n",
       "       [[ 0.33167855,  0.2947607 ],\n",
       "        [ 0.33167855,  0.2947607 ],\n",
       "        [ 2.28403489, -0.22329021],\n",
       "        [ 0.35839485,  1.14578809],\n",
       "        [-0.26522251,  0.61427015],\n",
       "        [ 2.28403489, -0.22329021],\n",
       "        [ 2.28403489, -0.22329021],\n",
       "        [ 0.90386207,  1.14399738],\n",
       "        [-0.92655809,  0.50053913],\n",
       "        [-0.53612408, -0.66518153]],\n",
       "\n",
       "       [[-0.92655809,  0.50053913],\n",
       "        [-0.26522251,  0.61427015],\n",
       "        [-0.26522251,  0.61427015],\n",
       "        [-0.53612408, -0.66518153],\n",
       "        [-0.06370871,  0.20741074],\n",
       "        [ 1.32860764, -0.24671515],\n",
       "        [ 1.32860764, -0.24671515],\n",
       "        [-0.92655809,  0.50053913],\n",
       "        [ 1.32860764, -0.24671515],\n",
       "        [ 0.35839485,  1.14578809]]])"
      ]
     },
     "execution_count": 8,
     "metadata": {},
     "output_type": "execute_result"
    }
   ],
   "source": [
    "bootstrap.bootstrap(x, b=3)"
   ]
  },
  {
   "cell_type": "markdown",
   "metadata": {},
   "source": [
    "`bootstrap` can be called on any array-like object"
   ]
  },
  {
   "cell_type": "code",
   "execution_count": 9,
   "metadata": {},
   "outputs": [
    {
     "data": {
      "text/plain": [
       "array([['c', 'a', 'c', 'c'],\n",
       "       ['c', 'b', 'd', 'd'],\n",
       "       ['a', 'b', 'b', 'c'],\n",
       "       ['c', 'a', 'a', 'a'],\n",
       "       ['c', 'b', 'b', 'd'],\n",
       "       ['d', 'd', 'b', 'b'],\n",
       "       ['a', 'c', 'd', 'c'],\n",
       "       ['a', 'd', 'd', 'b'],\n",
       "       ['c', 'a', 'd', 'd'],\n",
       "       ['a', 'b', 'a', 'b']], dtype='<U1')"
      ]
     },
     "execution_count": 9,
     "metadata": {},
     "output_type": "execute_result"
    }
   ],
   "source": [
    "bootstrap.bootstrap(list(\"abcd\"), b=10)"
   ]
  },
  {
   "cell_type": "code",
   "execution_count": 10,
   "metadata": {},
   "outputs": [
    {
     "data": {
      "text/plain": [
       "array([[{'a': 1, 'b': 2}, {'a', 5}, {'c': 5, 'd': 3}],\n",
       "       [{'a', 5}, {'a': 1, 'b': 2}, {'a': 1, 'b': 2}],\n",
       "       [{'a': 1, 'b': 2}, {'c': 5, 'd': 3}, {'a': 1, 'b': 2}],\n",
       "       [{'a', 5}, {'a': 1, 'b': 2}, {'a', 5}],\n",
       "       [{'c': 5, 'd': 3}, {'a', 5}, {'c': 5, 'd': 3}],\n",
       "       [{'a': 1, 'b': 2}, {'c': 5, 'd': 3}, {'a', 5}],\n",
       "       [{'a': 1, 'b': 2}, {'a': 1, 'b': 2}, {'c': 5, 'd': 3}],\n",
       "       [{'a', 5}, {'c': 5, 'd': 3}, {'c': 5, 'd': 3}],\n",
       "       [{'c': 5, 'd': 3}, {'a', 5}, {'a': 1, 'b': 2}],\n",
       "       [{'c': 5, 'd': 3}, {'a', 5}, {'a', 5}]], dtype=object)"
      ]
     },
     "execution_count": 10,
     "metadata": {},
     "output_type": "execute_result"
    }
   ],
   "source": [
    "bootstrap.bootstrap([{\"a\": 1, \"b\": 2}, {\"a\", 5}, {\"c\": 5, \"d\": 3}], b=10)"
   ]
  },
  {
   "cell_type": "markdown",
   "metadata": {},
   "source": [
    "This includes `numpy` arrays of arbitrary dimension"
   ]
  },
  {
   "cell_type": "code",
   "execution_count": 11,
   "metadata": {},
   "outputs": [
    {
     "data": {
      "text/plain": [
       "(100, 32, 16, 8, 4, 2)"
      ]
     },
     "execution_count": 11,
     "metadata": {},
     "output_type": "execute_result"
    }
   ],
   "source": [
    "x = np.random.normal(size=(32, 16, 8, 4, 2))\n",
    "bootstrap.bootstrap(x).shape"
   ]
  },
  {
   "cell_type": "markdown",
   "metadata": {},
   "source": [
    "#### Confidence intervals\n",
    "\n",
    "The `bootstrap_ci` function provides implementations of various methods for calculating bootstrap confidence intervals (percentile, BCA and bootstrap $t$ at the moment)"
   ]
  },
  {
   "cell_type": "code",
   "execution_count": 12,
   "metadata": {},
   "outputs": [
    {
     "data": {
      "text/plain": [
       "array([-0.79092344,  0.36472271, -0.05421119, -0.27594493, -0.02902924,\n",
       "       -0.95952145, -0.022436  , -0.6370593 , -0.62727171, -0.92949044,\n",
       "       -1.64787815, -0.71205566, -1.57974024,  0.16834629,  0.56443727,\n",
       "        1.60185948,  1.37781068,  1.73685296,  0.60987075, -1.04979789,\n",
       "        1.02023457, -1.95545659, -0.67392452, -0.57206091,  2.39361911])"
      ]
     },
     "execution_count": 12,
     "metadata": {},
     "output_type": "execute_result"
    }
   ],
   "source": [
    "x = np.random.randn(25)\n",
    "x"
   ]
  },
  {
   "cell_type": "markdown",
   "metadata": {},
   "source": [
    "The default is a percentile interval"
   ]
  },
  {
   "cell_type": "code",
   "execution_count": 13,
   "metadata": {},
   "outputs": [
    {
     "data": {
      "text/plain": [
       "(0.5885340931056833, 1.6641111015361862)"
      ]
     },
     "execution_count": 13,
     "metadata": {},
     "output_type": "execute_result"
    }
   ],
   "source": [
    "bootstrap.bootstrap_ci(x, f=np.var)"
   ]
  },
  {
   "cell_type": "markdown",
   "metadata": {},
   "source": [
    "The `ci_method` argument controls the confidence interval method"
   ]
  },
  {
   "cell_type": "code",
   "execution_count": 14,
   "metadata": {},
   "outputs": [
    {
     "data": {
      "text/plain": [
       "(0.5945229223186204, 1.7371716647072817)"
      ]
     },
     "execution_count": 14,
     "metadata": {},
     "output_type": "execute_result"
    }
   ],
   "source": [
    "ci = bootstrap.bootstrap_ci(x, f=np.var, b=10000, ci_method=\"percentile\", random_state=2357)\n",
    "ci"
   ]
  },
  {
   "cell_type": "code",
   "execution_count": 15,
   "metadata": {},
   "outputs": [
    {
     "data": {
      "text/plain": [
       "1.1426487423886613"
      ]
     },
     "execution_count": 15,
     "metadata": {},
     "output_type": "execute_result"
    }
   ],
   "source": [
    "ci[1] - ci[0]"
   ]
  },
  {
   "cell_type": "markdown",
   "metadata": {},
   "source": [
    "Bias-corrected and accelerated"
   ]
  },
  {
   "cell_type": "code",
   "execution_count": 16,
   "metadata": {},
   "outputs": [
    {
     "data": {
      "text/plain": [
       "(0.798983479629268, 1.8287608797950612)"
      ]
     },
     "execution_count": 16,
     "metadata": {},
     "output_type": "execute_result"
    }
   ],
   "source": [
    "ci = bootstrap.bootstrap_ci(x, f=np.var, b=10000, ci_method=\"bca\", random_state=2357)\n",
    "ci"
   ]
  },
  {
   "cell_type": "code",
   "execution_count": 17,
   "metadata": {},
   "outputs": [
    {
     "data": {
      "text/plain": [
       "1.029777400165793"
      ]
     },
     "execution_count": 17,
     "metadata": {},
     "output_type": "execute_result"
    }
   ],
   "source": [
    "ci[1] - ci[0]"
   ]
  },
  {
   "cell_type": "markdown",
   "metadata": {},
   "source": [
    "Bootstrap $t$ (the Studentized bootstrap)"
   ]
  },
  {
   "cell_type": "code",
   "execution_count": 18,
   "metadata": {},
   "outputs": [
    {
     "data": {
      "text/plain": [
       "(0.7300699521752501, 1.696406956803171)"
      ]
     },
     "execution_count": 18,
     "metadata": {},
     "output_type": "execute_result"
    }
   ],
   "source": [
    "ci = bootstrap.bootstrap_ci(x, f=np.var, b=10000, ci_method=\"t\", random_state=2357)\n",
    "ci"
   ]
  },
  {
   "cell_type": "code",
   "execution_count": 19,
   "metadata": {},
   "outputs": [
    {
     "data": {
      "text/plain": [
       "0.9663370046279209"
      ]
     },
     "execution_count": 19,
     "metadata": {},
     "output_type": "execute_result"
    }
   ],
   "source": [
    "ci[1] - ci[0]"
   ]
  },
  {
   "cell_type": "markdown",
   "metadata": {},
   "source": [
    "#### Tools for working with empirical distributions"
   ]
  },
  {
   "cell_type": "code",
   "execution_count": 20,
   "metadata": {},
   "outputs": [
    {
     "data": {
      "text/plain": [
       "array([ 1.01699980e+00,  8.73984025e-01,  3.01531931e-01, -2.91570945e-01,\n",
       "        4.72285801e-01, -1.23614647e+00,  1.28876413e+00,  4.30371423e-01,\n",
       "       -8.67533193e-02,  4.21641088e-01, -1.15429183e+00, -8.64845212e-01,\n",
       "       -8.52194242e-01, -1.06587926e-01,  6.33354449e-01,  2.03671265e+00,\n",
       "        1.13097451e+00,  1.39035094e+00,  2.03806868e+00, -5.70558788e-01,\n",
       "        1.71405923e-01, -8.09188494e-01, -2.00102887e+00,  1.98594535e-01,\n",
       "       -6.02769183e-01,  1.50128720e-01,  1.11956145e+00,  4.86258370e-01,\n",
       "       -9.52260616e-01, -1.64868266e-01,  4.21291948e-01, -1.35783088e+00,\n",
       "        2.49469159e-03,  1.07039058e+00, -4.67556098e-01, -8.83079471e-01,\n",
       "       -4.95327447e-01, -2.28553456e+00,  1.34543240e+00,  5.08003754e-02,\n",
       "        2.13563248e-01,  4.62451914e-01,  8.90644173e-01, -1.65010954e-01,\n",
       "       -6.77303253e-01, -8.35885851e-01, -3.63073628e-01, -1.84801521e+00,\n",
       "       -2.41790838e+00,  2.11268023e+00, -4.98589572e-01,  5.51954660e-01,\n",
       "       -7.39972564e-01, -3.99772240e-01, -1.78525797e+00,  1.09336816e+00,\n",
       "        5.88012417e-01,  2.38779830e-01, -1.33851447e+00,  1.84142279e-01,\n",
       "        4.80182392e-01, -5.86871893e-01,  4.82111905e-02, -1.66759000e+00,\n",
       "        7.57062848e-01,  1.24150337e+00,  2.97832620e-01, -1.30680595e+00,\n",
       "       -1.53566243e+00,  8.34311445e-01,  1.06947360e+00, -2.88253874e-01,\n",
       "       -4.47165402e-01,  1.55214184e+00, -1.53321852e+00, -9.74185850e-01,\n",
       "       -4.40473656e-01,  1.09229486e+00,  7.49216844e-01,  8.26276139e-01,\n",
       "       -1.55287858e+00,  8.87070928e-01, -1.41732392e+00,  2.50928310e-01,\n",
       "       -7.89661293e-01, -1.74928860e-01, -8.90522859e-01, -6.23838411e-01,\n",
       "        1.11800773e+00,  1.55123039e+00, -7.01406416e-01,  2.60232678e+00,\n",
       "        6.25349784e-03, -3.04601896e-01, -4.56563106e-01, -1.90226656e+00,\n",
       "       -2.41642553e-01, -1.70549178e+00,  3.83053578e-01,  1.99998087e+00])"
      ]
     },
     "execution_count": 20,
     "metadata": {},
     "output_type": "execute_result"
    }
   ],
   "source": [
    "x = np.random.randn(100)\n",
    "x"
   ]
  },
  {
   "cell_type": "markdown",
   "metadata": {},
   "source": [
    "`ecdf` returns the empirical cumulative distribution function of a sample $\\{ x_i \\}_{i=1}^{n}$\n",
    "\n",
    "$$\n",
    "\\hat{F}_n(s) = n^{-1} \\sum_{i=1}^{n} I(x_i \\leq s) .\n",
    "$$\n",
    "\n",
    "This represents the proportion of the sample less than or equal to $s$"
   ]
  },
  {
   "cell_type": "code",
   "execution_count": 21,
   "metadata": {},
   "outputs": [],
   "source": [
    "F = utils.ecdf(x)"
   ]
  },
  {
   "cell_type": "code",
   "execution_count": 22,
   "metadata": {},
   "outputs": [
    {
     "data": {
      "text/plain": [
       "0.17"
      ]
     },
     "execution_count": 22,
     "metadata": {},
     "output_type": "execute_result"
    }
   ],
   "source": [
    "F(-1)"
   ]
  },
  {
   "cell_type": "code",
   "execution_count": 23,
   "metadata": {},
   "outputs": [
    {
     "data": {
      "text/plain": [
       "0.5"
      ]
     },
     "execution_count": 23,
     "metadata": {},
     "output_type": "execute_result"
    }
   ],
   "source": [
    "F(0)"
   ]
  },
  {
   "cell_type": "code",
   "execution_count": 24,
   "metadata": {},
   "outputs": [
    {
     "data": {
      "text/plain": [
       "0.81"
      ]
     },
     "execution_count": 24,
     "metadata": {},
     "output_type": "execute_result"
    }
   ],
   "source": [
    "F(1)"
   ]
  },
  {
   "cell_type": "markdown",
   "metadata": {},
   "source": [
    "`eqf` returns the empirical quantile function\n",
    "\n",
    "$$\n",
    "\\hat{G}_n(p) = \\hat{F}_n^{-1}(p) ,\n",
    "$$\n",
    "\n",
    "or the inverse of `ecdf`.\n",
    "\n",
    "(This statement is not strictly speaking true since $\\hat{F}_n$ is not invertible.  To get around this we use linear interpolation between the observed sample points so that $\\hat{F}_n^{-1}$ is well-defined.  The result is that $\\hat{G}_n(p)$ is defined for all $p \\in [0, 1]$.)"
   ]
  },
  {
   "cell_type": "code",
   "execution_count": 25,
   "metadata": {},
   "outputs": [],
   "source": [
    "G = utils.eqf(x)"
   ]
  },
  {
   "cell_type": "code",
   "execution_count": 26,
   "metadata": {},
   "outputs": [
    {
     "data": {
      "text/plain": [
       "-0.8091884943786485"
      ]
     },
     "execution_count": 26,
     "metadata": {},
     "output_type": "execute_result"
    }
   ],
   "source": [
    "G(0.25)"
   ]
  },
  {
   "cell_type": "code",
   "execution_count": 27,
   "metadata": {},
   "outputs": [
    {
     "data": {
      "text/plain": [
       "-0.08675331925216213"
      ]
     },
     "execution_count": 27,
     "metadata": {},
     "output_type": "execute_result"
    }
   ],
   "source": [
    "G(0.5)"
   ]
  },
  {
   "cell_type": "code",
   "execution_count": 28,
   "metadata": {},
   "outputs": [
    {
     "data": {
      "text/plain": [
       "0.7492168444739649"
      ]
     },
     "execution_count": 28,
     "metadata": {},
     "output_type": "execute_result"
    }
   ],
   "source": [
    "G(0.75)"
   ]
  },
  {
   "cell_type": "markdown",
   "metadata": {},
   "source": [
    "## Boston Housing Example"
   ]
  },
  {
   "cell_type": "code",
   "execution_count": 29,
   "metadata": {},
   "outputs": [
    {
     "name": "stdout",
     "output_type": "stream",
     "text": [
      "Boston House Prices dataset\n",
      "===========================\n",
      "\n",
      "Notes\n",
      "------\n",
      "Data Set Characteristics:  \n",
      "\n",
      "    :Number of Instances: 506 \n",
      "\n",
      "    :Number of Attributes: 13 numeric/categorical predictive\n",
      "    \n",
      "    :Median Value (attribute 14) is usually the target\n",
      "\n",
      "    :Attribute Information (in order):\n",
      "        - CRIM     per capita crime rate by town\n",
      "        - ZN       proportion of residential land zoned for lots over 25,000 sq.ft.\n",
      "        - INDUS    proportion of non-retail business acres per town\n",
      "        - CHAS     Charles River dummy variable (= 1 if tract bounds river; 0 otherwise)\n",
      "        - NOX      nitric oxides concentration (parts per 10 million)\n",
      "        - RM       average number of rooms per dwelling\n",
      "        - AGE      proportion of owner-occupied units built prior to 1940\n",
      "        - DIS      weighted distances to five Boston employment centres\n",
      "        - RAD      index of accessibility to radial highways\n",
      "        - TAX      full-value property-tax rate per $10,000\n",
      "        - PTRATIO  pupil-teacher ratio by town\n",
      "        - B        1000(Bk - 0.63)^2 where Bk is the proportion of blacks by town\n",
      "        - LSTAT    % lower status of the population\n",
      "        - MEDV     Median value of owner-occupied homes in $1000's\n",
      "\n",
      "    :Missing Attribute Values: None\n",
      "\n",
      "    :Creator: Harrison, D. and Rubinfeld, D.L.\n",
      "\n",
      "This is a copy of UCI ML housing dataset.\n",
      "http://archive.ics.uci.edu/ml/datasets/Housing\n",
      "\n",
      "\n",
      "This dataset was taken from the StatLib library which is maintained at Carnegie Mellon University.\n",
      "\n",
      "The Boston house-price data of Harrison, D. and Rubinfeld, D.L. 'Hedonic\n",
      "prices and the demand for clean air', J. Environ. Economics & Management,\n",
      "vol.5, 81-102, 1978.   Used in Belsley, Kuh & Welsch, 'Regression diagnostics\n",
      "...', Wiley, 1980.   N.B. Various transformations are used in the table on\n",
      "pages 244-261 of the latter.\n",
      "\n",
      "The Boston house-price data has been used in many machine learning papers that address regression\n",
      "problems.   \n",
      "     \n",
      "**References**\n",
      "\n",
      "   - Belsley, Kuh & Welsch, 'Regression diagnostics: Identifying Influential Data and Sources of Collinearity', Wiley, 1980. 244-261.\n",
      "   - Quinlan,R. (1993). Combining Instance-Based and Model-Based Learning. In Proceedings on the Tenth International Conference of Machine Learning, 236-243, University of Massachusetts, Amherst. Morgan Kaufmann.\n",
      "   - many more! (see http://archive.ics.uci.edu/ml/datasets/Housing)\n",
      "\n"
     ]
    }
   ],
   "source": [
    "bost = load_boston()\n",
    "print(bost[\"DESCR\"])"
   ]
  },
  {
   "cell_type": "code",
   "execution_count": 30,
   "metadata": {},
   "outputs": [
    {
     "data": {
      "text/html": [
       "<div>\n",
       "<style scoped>\n",
       "    .dataframe tbody tr th:only-of-type {\n",
       "        vertical-align: middle;\n",
       "    }\n",
       "\n",
       "    .dataframe tbody tr th {\n",
       "        vertical-align: top;\n",
       "    }\n",
       "\n",
       "    .dataframe thead th {\n",
       "        text-align: right;\n",
       "    }\n",
       "</style>\n",
       "<table border=\"1\" class=\"dataframe\">\n",
       "  <thead>\n",
       "    <tr style=\"text-align: right;\">\n",
       "      <th></th>\n",
       "      <th>CRIM</th>\n",
       "      <th>ZN</th>\n",
       "      <th>INDUS</th>\n",
       "      <th>CHAS</th>\n",
       "      <th>NOX</th>\n",
       "      <th>RM</th>\n",
       "      <th>AGE</th>\n",
       "      <th>DIS</th>\n",
       "      <th>RAD</th>\n",
       "      <th>TAX</th>\n",
       "      <th>PTRATIO</th>\n",
       "      <th>B</th>\n",
       "      <th>LSTAT</th>\n",
       "    </tr>\n",
       "  </thead>\n",
       "  <tbody>\n",
       "    <tr>\n",
       "      <th>0</th>\n",
       "      <td>0.00632</td>\n",
       "      <td>18.0</td>\n",
       "      <td>2.31</td>\n",
       "      <td>0.0</td>\n",
       "      <td>0.538</td>\n",
       "      <td>6.575</td>\n",
       "      <td>65.2</td>\n",
       "      <td>4.0900</td>\n",
       "      <td>1.0</td>\n",
       "      <td>296.0</td>\n",
       "      <td>15.3</td>\n",
       "      <td>396.90</td>\n",
       "      <td>4.98</td>\n",
       "    </tr>\n",
       "    <tr>\n",
       "      <th>1</th>\n",
       "      <td>0.02731</td>\n",
       "      <td>0.0</td>\n",
       "      <td>7.07</td>\n",
       "      <td>0.0</td>\n",
       "      <td>0.469</td>\n",
       "      <td>6.421</td>\n",
       "      <td>78.9</td>\n",
       "      <td>4.9671</td>\n",
       "      <td>2.0</td>\n",
       "      <td>242.0</td>\n",
       "      <td>17.8</td>\n",
       "      <td>396.90</td>\n",
       "      <td>9.14</td>\n",
       "    </tr>\n",
       "    <tr>\n",
       "      <th>2</th>\n",
       "      <td>0.02729</td>\n",
       "      <td>0.0</td>\n",
       "      <td>7.07</td>\n",
       "      <td>0.0</td>\n",
       "      <td>0.469</td>\n",
       "      <td>7.185</td>\n",
       "      <td>61.1</td>\n",
       "      <td>4.9671</td>\n",
       "      <td>2.0</td>\n",
       "      <td>242.0</td>\n",
       "      <td>17.8</td>\n",
       "      <td>392.83</td>\n",
       "      <td>4.03</td>\n",
       "    </tr>\n",
       "    <tr>\n",
       "      <th>3</th>\n",
       "      <td>0.03237</td>\n",
       "      <td>0.0</td>\n",
       "      <td>2.18</td>\n",
       "      <td>0.0</td>\n",
       "      <td>0.458</td>\n",
       "      <td>6.998</td>\n",
       "      <td>45.8</td>\n",
       "      <td>6.0622</td>\n",
       "      <td>3.0</td>\n",
       "      <td>222.0</td>\n",
       "      <td>18.7</td>\n",
       "      <td>394.63</td>\n",
       "      <td>2.94</td>\n",
       "    </tr>\n",
       "    <tr>\n",
       "      <th>4</th>\n",
       "      <td>0.06905</td>\n",
       "      <td>0.0</td>\n",
       "      <td>2.18</td>\n",
       "      <td>0.0</td>\n",
       "      <td>0.458</td>\n",
       "      <td>7.147</td>\n",
       "      <td>54.2</td>\n",
       "      <td>6.0622</td>\n",
       "      <td>3.0</td>\n",
       "      <td>222.0</td>\n",
       "      <td>18.7</td>\n",
       "      <td>396.90</td>\n",
       "      <td>5.33</td>\n",
       "    </tr>\n",
       "  </tbody>\n",
       "</table>\n",
       "</div>"
      ],
      "text/plain": [
       "      CRIM    ZN  INDUS  CHAS    NOX     RM   AGE     DIS  RAD    TAX  \\\n",
       "0  0.00632  18.0   2.31   0.0  0.538  6.575  65.2  4.0900  1.0  296.0   \n",
       "1  0.02731   0.0   7.07   0.0  0.469  6.421  78.9  4.9671  2.0  242.0   \n",
       "2  0.02729   0.0   7.07   0.0  0.469  7.185  61.1  4.9671  2.0  242.0   \n",
       "3  0.03237   0.0   2.18   0.0  0.458  6.998  45.8  6.0622  3.0  222.0   \n",
       "4  0.06905   0.0   2.18   0.0  0.458  7.147  54.2  6.0622  3.0  222.0   \n",
       "\n",
       "   PTRATIO       B  LSTAT  \n",
       "0     15.3  396.90   4.98  \n",
       "1     17.8  396.90   9.14  \n",
       "2     17.8  392.83   4.03  \n",
       "3     18.7  394.63   2.94  \n",
       "4     18.7  396.90   5.33  "
      ]
     },
     "execution_count": 30,
     "metadata": {},
     "output_type": "execute_result"
    }
   ],
   "source": [
    "df = pd.DataFrame(bost[\"data\"], columns=bost[\"feature_names\"])\n",
    "df.head()"
   ]
  },
  {
   "cell_type": "code",
   "execution_count": 31,
   "metadata": {},
   "outputs": [
    {
     "data": {
      "text/plain": [
       "0    24.0\n",
       "1    21.6\n",
       "2    34.7\n",
       "3    33.4\n",
       "4    36.2\n",
       "Name: target, dtype: float64"
      ]
     },
     "execution_count": 31,
     "metadata": {},
     "output_type": "execute_result"
    }
   ],
   "source": [
    "y = pd.Series(bost[\"target\"], name=\"target\")\n",
    "y.head()"
   ]
  },
  {
   "cell_type": "markdown",
   "metadata": {},
   "source": [
    "Use `corr_test` to test the significance of the correlation coefficients"
   ]
  },
  {
   "cell_type": "code",
   "execution_count": 32,
   "metadata": {},
   "outputs": [
    {
     "data": {
      "text/html": [
       "<div>\n",
       "<style scoped>\n",
       "    .dataframe tbody tr th:only-of-type {\n",
       "        vertical-align: middle;\n",
       "    }\n",
       "\n",
       "    .dataframe tbody tr th {\n",
       "        vertical-align: top;\n",
       "    }\n",
       "\n",
       "    .dataframe thead th {\n",
       "        text-align: right;\n",
       "    }\n",
       "</style>\n",
       "<table border=\"1\" class=\"dataframe\">\n",
       "  <thead>\n",
       "    <tr style=\"text-align: right;\">\n",
       "      <th></th>\n",
       "      <th>c</th>\n",
       "      <th>prop</th>\n",
       "    </tr>\n",
       "  </thead>\n",
       "  <tbody>\n",
       "    <tr>\n",
       "      <th>CRIM</th>\n",
       "      <td>-0.385832</td>\n",
       "      <td>0.0</td>\n",
       "    </tr>\n",
       "    <tr>\n",
       "      <th>ZN</th>\n",
       "      <td>0.360445</td>\n",
       "      <td>1.0</td>\n",
       "    </tr>\n",
       "    <tr>\n",
       "      <th>INDUS</th>\n",
       "      <td>-0.483725</td>\n",
       "      <td>0.0</td>\n",
       "    </tr>\n",
       "    <tr>\n",
       "      <th>CHAS</th>\n",
       "      <td>0.175260</td>\n",
       "      <td>1.0</td>\n",
       "    </tr>\n",
       "    <tr>\n",
       "      <th>NOX</th>\n",
       "      <td>-0.427321</td>\n",
       "      <td>0.0</td>\n",
       "    </tr>\n",
       "    <tr>\n",
       "      <th>RM</th>\n",
       "      <td>0.695360</td>\n",
       "      <td>1.0</td>\n",
       "    </tr>\n",
       "    <tr>\n",
       "      <th>AGE</th>\n",
       "      <td>-0.376955</td>\n",
       "      <td>0.0</td>\n",
       "    </tr>\n",
       "    <tr>\n",
       "      <th>DIS</th>\n",
       "      <td>0.249929</td>\n",
       "      <td>1.0</td>\n",
       "    </tr>\n",
       "    <tr>\n",
       "      <th>RAD</th>\n",
       "      <td>-0.381626</td>\n",
       "      <td>0.0</td>\n",
       "    </tr>\n",
       "    <tr>\n",
       "      <th>TAX</th>\n",
       "      <td>-0.468536</td>\n",
       "      <td>0.0</td>\n",
       "    </tr>\n",
       "    <tr>\n",
       "      <th>PTRATIO</th>\n",
       "      <td>-0.507787</td>\n",
       "      <td>0.0</td>\n",
       "    </tr>\n",
       "    <tr>\n",
       "      <th>B</th>\n",
       "      <td>0.333461</td>\n",
       "      <td>1.0</td>\n",
       "    </tr>\n",
       "    <tr>\n",
       "      <th>LSTAT</th>\n",
       "      <td>-0.737663</td>\n",
       "      <td>0.0</td>\n",
       "    </tr>\n",
       "  </tbody>\n",
       "</table>\n",
       "</div>"
      ],
      "text/plain": [
       "                c  prop\n",
       "CRIM    -0.385832   0.0\n",
       "ZN       0.360445   1.0\n",
       "INDUS   -0.483725   0.0\n",
       "CHAS     0.175260   1.0\n",
       "NOX     -0.427321   0.0\n",
       "RM       0.695360   1.0\n",
       "AGE     -0.376955   0.0\n",
       "DIS      0.249929   1.0\n",
       "RAD     -0.381626   0.0\n",
       "TAX     -0.468536   0.0\n",
       "PTRATIO -0.507787   0.0\n",
       "B        0.333461   1.0\n",
       "LSTAT   -0.737663   0.0"
      ]
     },
     "execution_count": 32,
     "metadata": {},
     "output_type": "execute_result"
    }
   ],
   "source": [
    "df.apply(lambda x: pd.Series(permutation.corr_test(x.values, y.values, b=1000))).T"
   ]
  },
  {
   "cell_type": "markdown",
   "metadata": {},
   "source": [
    "Use `ttest` to determine if properties along the Charles River are more expensive"
   ]
  },
  {
   "cell_type": "code",
   "execution_count": 33,
   "metadata": {},
   "outputs": [
    {
     "data": {
      "text/plain": [
       "{'t': 3.113291312794837, 'prop': 0.999}"
      ]
     },
     "execution_count": 33,
     "metadata": {},
     "output_type": "execute_result"
    }
   ],
   "source": [
    "permutation.ttest(y[df[\"CHAS\"] == 1], y[df[\"CHAS\"] == 0], b=1000)"
   ]
  },
  {
   "cell_type": "markdown",
   "metadata": {},
   "source": [
    "`wilcoxon` can be used to test the same hypothesis"
   ]
  },
  {
   "cell_type": "code",
   "execution_count": 34,
   "metadata": {},
   "outputs": [
    {
     "data": {
      "text/plain": [
       "{'w': 11509.5, 'prop': 1.0}"
      ]
     },
     "execution_count": 34,
     "metadata": {},
     "output_type": "execute_result"
    }
   ],
   "source": [
    "permutation.wilcoxon(y[df[\"CHAS\"] == 1], y[df[\"CHAS\"] == 0], b=1000)"
   ]
  },
  {
   "cell_type": "markdown",
   "metadata": {},
   "source": [
    "Load linear model libraries"
   ]
  },
  {
   "cell_type": "code",
   "execution_count": 35,
   "metadata": {},
   "outputs": [],
   "source": [
    "from sklearn.preprocessing import StandardScaler\n",
    "from sklearn.linear_model import LinearRegression"
   ]
  },
  {
   "cell_type": "markdown",
   "metadata": {},
   "source": [
    "Here we define a function `fitreg` which takes a matrix `A` that contains both predictors and a response variable and returns the least squares coefficients of the predictors along with an intercept.  Note how the standardization is actually performed *inside* the function.  This means that the measures of center and scale (which are in fact model parameters) are estimated at every iteration, and so any variation in the coefficients that is induced by this process can be accounted-for by the bootstrapping process.  In theory a full modeling workflow can be defined as a function which can then be bootstrapped."
   ]
  },
  {
   "cell_type": "code",
   "execution_count": 36,
   "metadata": {},
   "outputs": [],
   "source": [
    "def fitreg(A):\n",
    "    scale = StandardScaler()\n",
    "    reg = LinearRegression(fit_intercept=True)\n",
    "    X_scale = scale.fit_transform(A[:, :A.shape[1]-2])\n",
    "    y = A[:, A.shape[1]-1]\n",
    "    reg.fit(X_scale, y)\n",
    "    return {\"coef\": reg.coef_, \"intercept\": reg.intercept_}"
   ]
  },
  {
   "cell_type": "markdown",
   "metadata": {},
   "source": [
    "Apply the function to 5,000 bootstrap copies of the Boston housing data.  The output is an array of dictionaries containing the coefficients and intercept for each data set.  We then wrap this array into a `pandas` `DataFrame`."
   ]
  },
  {
   "cell_type": "code",
   "execution_count": 37,
   "metadata": {},
   "outputs": [
    {
     "data": {
      "text/plain": [
       "array([{'coef': array([-1.24940008,  0.4521016 , -0.12226851,  0.49288441, -2.15744612,\n",
       "        4.35705272, -0.62892876, -2.66174889,  2.71151405, -1.62770767,\n",
       "       -2.29904926,  1.67548978]), 'intercept': 22.62193675889331},\n",
       "       {'coef': array([-1.98340371,  1.1962473 , -0.54160658,  1.49201159, -3.36253846,\n",
       "        3.21354932, -0.99205584, -3.63673274,  2.9456833 , -1.18162618,\n",
       "       -1.91532297,  1.51572313]), 'intercept': 22.14584980237155},\n",
       "       {'coef': array([-1.34135503,  0.61075114, -0.44502036,  0.77009715, -3.66622407,\n",
       "        4.28706396, -0.80467974, -4.41104731,  2.62514328, -1.77952508,\n",
       "       -2.65794962,  1.17814286]), 'intercept': 22.486956521739145}],\n",
       "      dtype=object)"
      ]
     },
     "execution_count": 37,
     "metadata": {},
     "output_type": "execute_result"
    }
   ],
   "source": [
    "boot_coef = bootstrap.bootstrap(a=df.join(y).values, f=lambda s: fitreg(s), b=5000, random_state=2357)\n",
    "boot_coef[:3]"
   ]
  },
  {
   "cell_type": "code",
   "execution_count": 38,
   "metadata": {},
   "outputs": [
    {
     "data": {
      "text/html": [
       "<div>\n",
       "<style scoped>\n",
       "    .dataframe tbody tr th:only-of-type {\n",
       "        vertical-align: middle;\n",
       "    }\n",
       "\n",
       "    .dataframe tbody tr th {\n",
       "        vertical-align: top;\n",
       "    }\n",
       "\n",
       "    .dataframe thead th {\n",
       "        text-align: right;\n",
       "    }\n",
       "</style>\n",
       "<table border=\"1\" class=\"dataframe\">\n",
       "  <thead>\n",
       "    <tr style=\"text-align: right;\">\n",
       "      <th></th>\n",
       "      <th>coef</th>\n",
       "      <th>intercept</th>\n",
       "    </tr>\n",
       "  </thead>\n",
       "  <tbody>\n",
       "    <tr>\n",
       "      <th>0</th>\n",
       "      <td>[-1.2494000801862717, 0.452101603479378, -0.12...</td>\n",
       "      <td>22.621937</td>\n",
       "    </tr>\n",
       "    <tr>\n",
       "      <th>1</th>\n",
       "      <td>[-1.9834037094578212, 1.1962473015460426, -0.5...</td>\n",
       "      <td>22.145850</td>\n",
       "    </tr>\n",
       "    <tr>\n",
       "      <th>2</th>\n",
       "      <td>[-1.3413550287062634, 0.6107511396410703, -0.4...</td>\n",
       "      <td>22.486957</td>\n",
       "    </tr>\n",
       "    <tr>\n",
       "      <th>3</th>\n",
       "      <td>[-1.0252065314677028, 0.9423924278334428, 0.16...</td>\n",
       "      <td>22.636957</td>\n",
       "    </tr>\n",
       "    <tr>\n",
       "      <th>4</th>\n",
       "      <td>[-0.7618402285907614, 0.9359590077955342, -0.4...</td>\n",
       "      <td>22.729644</td>\n",
       "    </tr>\n",
       "  </tbody>\n",
       "</table>\n",
       "</div>"
      ],
      "text/plain": [
       "                                                coef  intercept\n",
       "0  [-1.2494000801862717, 0.452101603479378, -0.12...  22.621937\n",
       "1  [-1.9834037094578212, 1.1962473015460426, -0.5...  22.145850\n",
       "2  [-1.3413550287062634, 0.6107511396410703, -0.4...  22.486957\n",
       "3  [-1.0252065314677028, 0.9423924278334428, 0.16...  22.636957\n",
       "4  [-0.7618402285907614, 0.9359590077955342, -0.4...  22.729644"
      ]
     },
     "execution_count": 38,
     "metadata": {},
     "output_type": "execute_result"
    }
   ],
   "source": [
    "param_frame = pd.DataFrame([pd.Series(x) for x in boot_coef])\n",
    "param_frame.head()"
   ]
  },
  {
   "cell_type": "markdown",
   "metadata": {},
   "source": [
    "Extract the coefficients for the `CRIM` variable and plot the histogram"
   ]
  },
  {
   "cell_type": "code",
   "execution_count": 39,
   "metadata": {},
   "outputs": [],
   "source": [
    "crim_coef = param_frame[\"coef\"].map(lambda x: x[0])"
   ]
  },
  {
   "cell_type": "code",
   "execution_count": 40,
   "metadata": {},
   "outputs": [
    {
     "data": {
      "text/plain": [
       "<matplotlib.axes._subplots.AxesSubplot at 0x10c65d588>"
      ]
     },
     "execution_count": 40,
     "metadata": {},
     "output_type": "execute_result"
    },
    {
     "data": {
      "image/png": "[encoded data removed]",
      "text/plain": [
       "<Figure size 432x288 with 1 Axes>"
      ]
     },
     "metadata": {},
     "output_type": "display_data"
    }
   ],
   "source": [
    "sns.distplot(crim_coef, kde=False)"
   ]
  },
  {
   "cell_type": "markdown",
   "metadata": {},
   "source": [
    "Extract endpoints of percentile bootstrap confidence interval"
   ]
  },
  {
   "cell_type": "code",
   "execution_count": 41,
   "metadata": {},
   "outputs": [],
   "source": [
    "q = utils.eqf(crim_coef)"
   ]
  },
  {
   "cell_type": "code",
   "execution_count": 42,
   "metadata": {},
   "outputs": [
    {
     "data": {
      "text/plain": [
       "(-2.0578162377452105, -0.5423771568162123)"
      ]
     },
     "execution_count": 42,
     "metadata": {},
     "output_type": "execute_result"
    }
   ],
   "source": [
    "(q(0.025), q(0.975))"
   ]
  },
  {
   "cell_type": "markdown",
   "metadata": {},
   "source": [
    "Bootstrap confidence interval of correlation coefficient between `CRIM` and `target`"
   ]
  },
  {
   "cell_type": "code",
   "execution_count": 43,
   "metadata": {},
   "outputs": [
    {
     "data": {
      "text/plain": [
       "(-0.4494642322683301, -0.3335249121379983)"
      ]
     },
     "execution_count": 43,
     "metadata": {},
     "output_type": "execute_result"
    }
   ],
   "source": [
    "bootstrap.bootstrap_ci(a=df[[\"CRIM\"]].join(y).values,\n",
    "                       f=lambda x: np.corrcoef(x[:, 0], x[:, 1])[0, 1],\n",
    "                       p=0.95,\n",
    "                       b=10000,\n",
    "                       ci_method=\"percentile\",\n",
    "                       random_state=2357)"
   ]
  }
 ],
 "metadata": {
  "kernelspec": {
   "display_name": "Python 3",
   "language": "python",
   "name": "python3"
  },
  "language_info": {
   "codemirror_mode": {
    "name": "ipython",
    "version": 3
   },
   "file_extension": ".py",
   "mimetype": "text/x-python",
   "name": "python",
   "nbconvert_exporter": "python",
   "pygments_lexer": "ipython3",
   "version": "3.6.5"
  }
 },
 "nbformat": 4,
 "nbformat_minor": 2
}
