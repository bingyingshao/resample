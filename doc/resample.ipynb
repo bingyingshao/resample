{
 "cells": [
  {
   "cell_type": "markdown",
   "metadata": {},
   "source": [
    "## resample"
   ]
  },
  {
   "cell_type": "code",
   "execution_count": 1,
   "metadata": {},
   "outputs": [],
   "source": [
    "import warnings\n",
    "import numpy as np\n",
    "import scipy.stats as stats\n",
    "import pandas as pd\n",
    "from resample import permutation, bootstrap, utils\n",
    "from sklearn.datasets import load_boston\n",
    "import seaborn as sns\n",
    "\n",
    "warnings.simplefilter(\"ignore\")"
   ]
  },
  {
   "cell_type": "markdown",
   "metadata": {},
   "source": [
    "## Basic Functionality"
   ]
  },
  {
   "cell_type": "markdown",
   "metadata": {},
   "source": [
    "#### Generating bootstrap samples"
   ]
  },
  {
   "cell_type": "code",
   "execution_count": 2,
   "metadata": {},
   "outputs": [
    {
     "data": {
      "text/plain": [
       "array([ 9.26155577e-01, -1.96497475e-01, -2.91572534e-01, -4.15239362e-01,\n",
       "       -1.70057545e+00,  6.51402730e-01, -1.36016694e-01, -7.19864875e-01,\n",
       "       -4.68438069e-02,  9.83216172e-01,  1.06128417e+00,  6.94180265e-04,\n",
       "       -1.14113939e-01,  2.00821718e-01, -1.22590494e+00, -1.17810879e+00,\n",
       "        1.41029125e+00,  1.70300140e-01,  1.64181442e+00, -3.52884940e-02,\n",
       "       -1.50947735e+00, -4.18043646e-02,  1.56736144e+00,  7.42766195e-01,\n",
       "       -1.18784111e+00])"
      ]
     },
     "execution_count": 2,
     "metadata": {},
     "output_type": "execute_result"
    }
   ],
   "source": [
    "x = np.random.randn(25)\n",
    "x"
   ]
  },
  {
   "cell_type": "markdown",
   "metadata": {},
   "source": [
    "The default is a balanced bootstrap.  This means that each element has the same distribution over all bootstrap samples as in the original sample."
   ]
  },
  {
   "cell_type": "code",
   "execution_count": 3,
   "metadata": {},
   "outputs": [
    {
     "data": {
      "text/plain": [
       "array([[ 0.98321617,  0.92615558,  0.92615558, ..., -1.18784111,\n",
       "         1.56736144,  0.92615558],\n",
       "       [-0.04180436,  0.65140273, -1.18784111, ..., -1.17810879,\n",
       "        -1.17810879, -0.41523936],\n",
       "       [-1.17810879,  1.06128417, -0.03528849, ...,  0.20082172,\n",
       "         0.65140273,  0.17030014],\n",
       "       ...,\n",
       "       [-1.70057545,  1.06128417,  0.20082172, ...,  0.17030014,\n",
       "         0.65140273,  1.64181442],\n",
       "       [ 0.20082172,  0.92615558,  1.06128417, ..., -1.70057545,\n",
       "         0.98321617,  1.41029125],\n",
       "       [ 0.65140273, -1.22590494,  0.20082172, ..., -0.13601669,\n",
       "        -1.18784111,  1.06128417]])"
      ]
     },
     "execution_count": 3,
     "metadata": {},
     "output_type": "execute_result"
    }
   ],
   "source": [
    "bootstrap.bootstrap(x)"
   ]
  },
  {
   "cell_type": "markdown",
   "metadata": {},
   "source": [
    "Ordinary sampling with replacement can be done by modifying the `method` argument"
   ]
  },
  {
   "cell_type": "code",
   "execution_count": 4,
   "metadata": {},
   "outputs": [
    {
     "data": {
      "text/plain": [
       "array([[-1.70057545e+00,  1.64181442e+00,  1.41029125e+00, ...,\n",
       "         9.26155577e-01,  1.70300140e-01, -7.19864875e-01],\n",
       "       [ 1.64181442e+00, -4.18043646e-02,  2.00821718e-01, ...,\n",
       "         1.64181442e+00, -1.96497475e-01,  9.83216172e-01],\n",
       "       [ 6.51402730e-01,  7.42766195e-01, -1.36016694e-01, ...,\n",
       "         2.00821718e-01, -1.14113939e-01, -3.52884940e-02],\n",
       "       ...,\n",
       "       [-7.19864875e-01, -4.68438069e-02, -1.36016694e-01, ...,\n",
       "        -1.36016694e-01, -7.19864875e-01,  1.06128417e+00],\n",
       "       [ 1.41029125e+00, -4.18043646e-02,  1.56736144e+00, ...,\n",
       "        -4.15239362e-01,  9.26155577e-01, -1.50947735e+00],\n",
       "       [-7.19864875e-01,  6.94180265e-04, -4.68438069e-02, ...,\n",
       "        -1.50947735e+00, -2.91572534e-01, -7.19864875e-01]])"
      ]
     },
     "execution_count": 4,
     "metadata": {},
     "output_type": "execute_result"
    }
   ],
   "source": [
    "bootstrap.bootstrap(x, method=\"ordinary\")"
   ]
  },
  {
   "cell_type": "markdown",
   "metadata": {},
   "source": [
    "Bootstrapping of higher-dimensional arrays is also possible, with resampling always occuring along the $0^{\\text{th}}$ axis (rows in the case of a two dimensional array)"
   ]
  },
  {
   "cell_type": "code",
   "execution_count": 5,
   "metadata": {},
   "outputs": [
    {
     "data": {
      "text/plain": [
       "array([[ 1.95681593,  0.14751584],\n",
       "       [ 0.24095694,  1.48303193],\n",
       "       [-1.54215425,  1.50269161],\n",
       "       [-0.76595106, -0.07107003],\n",
       "       [ 1.01730531, -1.67614837],\n",
       "       [ 0.195971  ,  2.41201662],\n",
       "       [ 0.43391314,  0.97792489],\n",
       "       [ 0.71863615,  0.43271314],\n",
       "       [ 1.04909099,  0.15477402],\n",
       "       [ 0.58216337,  0.14168459]])"
      ]
     },
     "execution_count": 5,
     "metadata": {},
     "output_type": "execute_result"
    }
   ],
   "source": [
    "x = np.random.normal(size=(10, 2))\n",
    "x"
   ]
  },
  {
   "cell_type": "code",
   "execution_count": 6,
   "metadata": {},
   "outputs": [
    {
     "data": {
      "text/plain": [
       "array([[[-1.54215425,  1.50269161],\n",
       "        [ 1.04909099,  0.15477402],\n",
       "        [-1.54215425,  1.50269161],\n",
       "        [-0.76595106, -0.07107003],\n",
       "        [ 0.43391314,  0.97792489],\n",
       "        [-0.76595106, -0.07107003],\n",
       "        [ 0.195971  ,  2.41201662],\n",
       "        [ 0.24095694,  1.48303193],\n",
       "        [ 0.24095694,  1.48303193],\n",
       "        [ 1.04909099,  0.15477402]],\n",
       "\n",
       "       [[-1.54215425,  1.50269161],\n",
       "        [ 0.58216337,  0.14168459],\n",
       "        [ 0.24095694,  1.48303193],\n",
       "        [ 1.95681593,  0.14751584],\n",
       "        [ 1.01730531, -1.67614837],\n",
       "        [ 0.71863615,  0.43271314],\n",
       "        [ 1.04909099,  0.15477402],\n",
       "        [-0.76595106, -0.07107003],\n",
       "        [ 1.95681593,  0.14751584],\n",
       "        [ 0.71863615,  0.43271314]],\n",
       "\n",
       "       [[ 0.195971  ,  2.41201662],\n",
       "        [ 0.195971  ,  2.41201662],\n",
       "        [ 0.71863615,  0.43271314],\n",
       "        [ 1.01730531, -1.67614837],\n",
       "        [ 0.43391314,  0.97792489],\n",
       "        [ 0.43391314,  0.97792489],\n",
       "        [ 0.58216337,  0.14168459],\n",
       "        [ 1.95681593,  0.14751584],\n",
       "        [ 1.01730531, -1.67614837],\n",
       "        [ 0.58216337,  0.14168459]]])"
      ]
     },
     "execution_count": 6,
     "metadata": {},
     "output_type": "execute_result"
    }
   ],
   "source": [
    "bootstrap.bootstrap(x, b=3)"
   ]
  },
  {
   "cell_type": "markdown",
   "metadata": {},
   "source": [
    "`bootstrap` can be called on any array-like object"
   ]
  },
  {
   "cell_type": "code",
   "execution_count": 7,
   "metadata": {},
   "outputs": [
    {
     "data": {
      "text/plain": [
       "array([['d', 'd', 'a', 'c'],\n",
       "       ['a', 'b', 'd', 'd'],\n",
       "       ['a', 'b', 'd', 'd'],\n",
       "       ['c', 'd', 'd', 'b'],\n",
       "       ['c', 'c', 'a', 'c'],\n",
       "       ['a', 'a', 'c', 'c'],\n",
       "       ['c', 'b', 'd', 'b'],\n",
       "       ['a', 'b', 'b', 'a'],\n",
       "       ['a', 'b', 'c', 'a'],\n",
       "       ['c', 'd', 'b', 'b']], dtype='<U1')"
      ]
     },
     "execution_count": 7,
     "metadata": {},
     "output_type": "execute_result"
    }
   ],
   "source": [
    "bootstrap.bootstrap(list(\"abcd\"), b=10)"
   ]
  },
  {
   "cell_type": "code",
   "execution_count": 8,
   "metadata": {},
   "outputs": [
    {
     "data": {
      "text/plain": [
       "array([[{'a': 1, 'b': 2}, {5, 'a'}, {5, 'a'}],\n",
       "       [{'a': 1, 'b': 2}, {5, 'a'}, {5, 'a'}],\n",
       "       [{'c': 5, 'd': 3}, {5, 'a'}, {'c': 5, 'd': 3}],\n",
       "       [{'a': 1, 'b': 2}, {'a': 1, 'b': 2}, {'c': 5, 'd': 3}],\n",
       "       [{5, 'a'}, {'c': 5, 'd': 3}, {'a': 1, 'b': 2}],\n",
       "       [{'c': 5, 'd': 3}, {'a': 1, 'b': 2}, {'a': 1, 'b': 2}],\n",
       "       [{'c': 5, 'd': 3}, {'a': 1, 'b': 2}, {'c': 5, 'd': 3}],\n",
       "       [{'c': 5, 'd': 3}, {5, 'a'}, {'c': 5, 'd': 3}],\n",
       "       [{5, 'a'}, {'c': 5, 'd': 3}, {5, 'a'}],\n",
       "       [{'a': 1, 'b': 2}, {'a': 1, 'b': 2}, {5, 'a'}]], dtype=object)"
      ]
     },
     "execution_count": 8,
     "metadata": {},
     "output_type": "execute_result"
    }
   ],
   "source": [
    "bootstrap.bootstrap([{\"a\": 1, \"b\": 2}, {\"a\", 5}, {\"c\": 5, \"d\": 3}], b=10)"
   ]
  },
  {
   "cell_type": "markdown",
   "metadata": {},
   "source": [
    "This includes `numpy` arrays of arbitrary dimension"
   ]
  },
  {
   "cell_type": "code",
   "execution_count": 9,
   "metadata": {},
   "outputs": [
    {
     "data": {
      "text/plain": [
       "(100, 32, 16, 8, 4, 2)"
      ]
     },
     "execution_count": 9,
     "metadata": {},
     "output_type": "execute_result"
    }
   ],
   "source": [
    "x = np.random.normal(size=(32, 16, 8, 4, 2))\n",
    "bootstrap.bootstrap(x).shape"
   ]
  },
  {
   "cell_type": "markdown",
   "metadata": {},
   "source": [
    "#### Stratified sampling"
   ]
  },
  {
   "cell_type": "markdown",
   "metadata": {},
   "source": [
    "By using the `strata` argument we can ensure that the distributions of specific classes are maintained over all bootstrap samples.  This is especially useful in classification tasks where we wish to eliminate unwanted variance with respect to the class proportions when modeling.  To illustrate we create an indicator for whether or not the value of `x` is negative and pass this to `strata` when generating our samples.  (The value of `strata` can be of any type, it only needs to have the same length as the input array.  The stratification will simply be done with respect to the distinct values of the argument.)"
   ]
  },
  {
   "cell_type": "code",
   "execution_count": 10,
   "metadata": {},
   "outputs": [
    {
     "data": {
      "text/plain": [
       "array([ 1.28904194, -1.37610982,  0.14483544, -0.12125535, -0.90180188,\n",
       "       -0.19524473,  2.31795662, -0.45415699, -1.01944009, -0.53772844,\n",
       "       -0.46748605,  3.4123845 ,  0.36974458, -0.13901472,  0.68169829,\n",
       "       -1.08207853,  0.23355759,  0.53030963,  1.68604835,  1.58480392,\n",
       "        0.50066687,  0.20275297,  0.69547294,  0.09406791,  0.80477998])"
      ]
     },
     "execution_count": 10,
     "metadata": {},
     "output_type": "execute_result"
    }
   ],
   "source": [
    "x = np.random.randn(25)\n",
    "x"
   ]
  },
  {
   "cell_type": "code",
   "execution_count": 11,
   "metadata": {},
   "outputs": [
    {
     "data": {
      "text/plain": [
       "0.4"
      ]
     },
     "execution_count": 11,
     "metadata": {},
     "output_type": "execute_result"
    }
   ],
   "source": [
    "y = x < 0\n",
    "np.mean(y)"
   ]
  },
  {
   "cell_type": "markdown",
   "metadata": {},
   "source": [
    "All bootstrap samples have the same proportion of negative values as in `x`"
   ]
  },
  {
   "cell_type": "code",
   "execution_count": 12,
   "metadata": {},
   "outputs": [
    {
     "data": {
      "text/plain": [
       "[0.4, 0.4, 0.4, 0.4, 0.4, 0.4, 0.4, 0.4, 0.4, 0.4]"
      ]
     },
     "execution_count": 12,
     "metadata": {},
     "output_type": "execute_result"
    }
   ],
   "source": [
    "boot = bootstrap.bootstrap(x, b=10, strata=y)\n",
    "[np.mean(s < 0) for s in boot]"
   ]
  },
  {
   "cell_type": "markdown",
   "metadata": {},
   "source": [
    "#### Parametric bootstrap"
   ]
  },
  {
   "cell_type": "markdown",
   "metadata": {},
   "source": [
    "We can use the function `param_bootstrap` to perform parametric bootstrapping of one dimensional arrays.  To do this we specify a class of distributions using the `family` argument, with the parameters being fit automatically by maximum likelihood.  The function then returns either bootstrap samples of i.i.d. (independent and identically distributed) copies from the fitted distribution, or function values applied to these samples (just as in the case of `bootstrap`)."
   ]
  },
  {
   "cell_type": "markdown",
   "metadata": {},
   "source": [
    "Here we take our original Gaussian array and square it, which yields a $\\chi^2$ sample"
   ]
  },
  {
   "cell_type": "code",
   "execution_count": 13,
   "metadata": {},
   "outputs": [
    {
     "data": {
      "text/plain": [
       "array([1.66162911e+00, 1.89367824e+00, 2.09773058e-02, 1.47028608e-02,\n",
       "       8.13246625e-01, 3.81205041e-02, 5.37292291e+00, 2.06258575e-01,\n",
       "       1.03925810e+00, 2.89151871e-01, 2.18543202e-01, 1.16443680e+01,\n",
       "       1.36711051e-01, 1.93250911e-02, 4.64712557e-01, 1.17089395e+00,\n",
       "       5.45491459e-02, 2.81228302e-01, 2.84275903e+00, 2.51160347e+00,\n",
       "       2.50667312e-01, 4.11087685e-02, 4.83682608e-01, 8.84877166e-03,\n",
       "       6.47670810e-01])"
      ]
     },
     "execution_count": 13,
     "metadata": {},
     "output_type": "execute_result"
    }
   ],
   "source": [
    "x = x**2\n",
    "x"
   ]
  },
  {
   "cell_type": "code",
   "execution_count": 14,
   "metadata": {},
   "outputs": [
    {
     "data": {
      "text/plain": [
       "<matplotlib.axes._subplots.AxesSubplot at 0x114161710>"
      ]
     },
     "execution_count": 14,
     "metadata": {},
     "output_type": "execute_result"
    },
    {
     "data": {
      "image/png": "[encoded data removed]",
      "text/plain": [
       "<Figure size 432x288 with 1 Axes>"
      ]
     },
     "metadata": {},
     "output_type": "display_data"
    }
   ],
   "source": [
    "sns.distplot(x, hist=False)"
   ]
  },
  {
   "cell_type": "markdown",
   "metadata": {},
   "source": [
    "If we knew that our underlying sample was $\\chi^2$ or close to it, then it would make sense to use this information and draw our bootstrap samples from a fitted gamma distribution (which includes the $\\chi^2$ as a special case)"
   ]
  },
  {
   "cell_type": "code",
   "execution_count": 15,
   "metadata": {},
   "outputs": [
    {
     "data": {
      "text/plain": [
       "array([[5.02447489e+00, 3.01505445e-01, 2.08767041e-01, ...,\n",
       "        1.49469842e+00, 5.76689023e+00, 7.81637126e-02],\n",
       "       [9.75172713e-02, 1.36394799e+00, 1.18514536e-03, ...,\n",
       "        3.53894251e-01, 5.48860005e-01, 6.29518525e-01],\n",
       "       [7.76591445e-01, 4.54355843e+00, 1.50266226e+00, ...,\n",
       "        5.45492626e-03, 1.01991864e-01, 5.55802166e-01],\n",
       "       ...,\n",
       "       [2.40910811e-04, 5.52629104e+00, 2.53340469e-01, ...,\n",
       "        3.58123765e-01, 1.48791517e-01, 2.84841074e+00],\n",
       "       [2.29954780e-01, 3.05000621e-01, 3.89573518e-01, ...,\n",
       "        2.31905398e+00, 7.56598495e+00, 5.26017486e-01],\n",
       "       [2.58862318e+00, 1.87886215e+00, 3.07567019e-01, ...,\n",
       "        3.48040488e-02, 3.81678175e+00, 1.77022457e+00]])"
      ]
     },
     "execution_count": 15,
     "metadata": {},
     "output_type": "execute_result"
    }
   ],
   "source": [
    "bootstrap.param_bootstrap(x, family=\"gamma\")"
   ]
  },
  {
   "cell_type": "markdown",
   "metadata": {},
   "source": [
    "#### Applying functions to bootstrap samples"
   ]
  },
  {
   "cell_type": "markdown",
   "metadata": {},
   "source": [
    "An optional function `f` can be applied to each bootstrap sample"
   ]
  },
  {
   "cell_type": "code",
   "execution_count": 16,
   "metadata": {},
   "outputs": [
    {
     "data": {
      "text/plain": [
       "array([ 1.28778168,  5.48955867,  9.3805074 ,  0.83648782,  1.26378782,\n",
       "       13.29543793,  9.88567253,  3.57294146,  5.94192036,  6.58475811])"
      ]
     },
     "execution_count": 16,
     "metadata": {},
     "output_type": "execute_result"
    }
   ],
   "source": [
    "bootstrap.bootstrap(x, f=np.var, b=10)"
   ]
  },
  {
   "cell_type": "markdown",
   "metadata": {},
   "source": [
    "This can also be done using the parametric bootstrap"
   ]
  },
  {
   "cell_type": "code",
   "execution_count": 17,
   "metadata": {},
   "outputs": [
    {
     "data": {
      "text/plain": [
       "array([ 0.91121073,  0.29322256,  8.95564323,  0.92452967,  2.36614806,\n",
       "        6.10068136,  0.49365382,  2.54537691,  3.08300229, 12.11865503])"
      ]
     },
     "execution_count": 17,
     "metadata": {},
     "output_type": "execute_result"
    }
   ],
   "source": [
    "bootstrap.param_bootstrap(x, f=np.var, b=10, family=\"gamma\")"
   ]
  },
  {
   "cell_type": "markdown",
   "metadata": {},
   "source": [
    "`f` can have any return value, the only requirement is that it accept the bootstrapped elements as inputs.  Here we return an entire dictionary of summary statistics."
   ]
  },
  {
   "cell_type": "code",
   "execution_count": 18,
   "metadata": {},
   "outputs": [
    {
     "data": {
      "text/plain": [
       "array([{'min': 0.014702860824161368, 'median': 0.289151871380086, 'iqr': 1.5249180628593804, 'max': 5.372922909257068},\n",
       "       {'min': 0.008848771664295133, 'median': 0.46471255738409906, 'iqr': 1.8525694729890578, 'max': 2.8427590300569827},\n",
       "       {'min': 0.008848771664295133, 'median': 0.6476708095333219, 'iqr': 2.4734829640678333, 'max': 11.644367960781109},\n",
       "       {'min': 0.008848771664295133, 'median': 0.2062585751627399, 'iqr': 0.7751261204312236, 'max': 5.372922909257068},\n",
       "       {'min': 0.014702860824161368, 'median': 0.46471255738409906, 'iqr': 0.44141223437058197, 'max': 2.8427590300569827},\n",
       "       {'min': 0.008848771664295133, 'median': 0.2812283016811328, 'iqr': 0.6765355732373719, 'max': 11.644367960781109},\n",
       "       {'min': 0.014702860824161368, 'median': 0.46471255738409906, 'iqr': 1.5249180628593804, 'max': 11.644367960781109},\n",
       "       {'min': 0.008848771664295133, 'median': 0.46471255738409906, 'iqr': 0.9646353795064702, 'max': 11.644367960781109},\n",
       "       {'min': 0.008848771664295133, 'median': 0.4836826077279392, 'iqr': 0.9847089514487375, 'max': 11.644367960781109},\n",
       "       {'min': 0.019325091127168726, 'median': 0.2185432024701085, 'iqr': 0.34697155640814215, 'max': 2.5116034681937784}],\n",
       "      dtype=object)"
      ]
     },
     "execution_count": 18,
     "metadata": {},
     "output_type": "execute_result"
    }
   ],
   "source": [
    "def summary(s):\n",
    "    return {\"min\": np.min(s),\n",
    "            \"median\": np.median(s),\n",
    "            \"iqr\": stats.iqr(s),\n",
    "            \"max\": np.max(s)}\n",
    "\n",
    "bootstrap.bootstrap(x, f=summary, b=10)"
   ]
  },
  {
   "cell_type": "markdown",
   "metadata": {},
   "source": [
    "#### Confidence intervals\n",
    "\n",
    "The `bootstrap_ci` function provides implementations of various methods for calculating bootstrap confidence intervals (e.g., percentile, BCA and bootstrap $t$)"
   ]
  },
  {
   "cell_type": "code",
   "execution_count": 19,
   "metadata": {},
   "outputs": [
    {
     "data": {
      "text/plain": [
       "array([-0.47578346,  1.29306847, -0.2476759 , -0.79685563, -0.7531988 ,\n",
       "       -0.19751549, -1.3674637 , -0.02497134, -0.5029591 ,  0.27986966,\n",
       "        0.50577734,  2.51036612,  0.51058365, -0.81916781, -1.57862723,\n",
       "       -0.11507205,  0.15821979, -0.08808678,  0.07174988,  0.12458182,\n",
       "        0.44536272, -0.62582141, -0.23918294,  0.63495653,  0.24723523])"
      ]
     },
     "execution_count": 19,
     "metadata": {},
     "output_type": "execute_result"
    }
   ],
   "source": [
    "x = np.random.randn(25)\n",
    "x"
   ]
  },
  {
   "cell_type": "markdown",
   "metadata": {},
   "source": [
    "The default is a percentile interval"
   ]
  },
  {
   "cell_type": "code",
   "execution_count": 20,
   "metadata": {},
   "outputs": [
    {
     "data": {
      "text/plain": [
       "(0.23925176983520408, 1.118166771065817)"
      ]
     },
     "execution_count": 20,
     "metadata": {},
     "output_type": "execute_result"
    }
   ],
   "source": [
    "bootstrap.bootstrap_ci(x, f=np.var)"
   ]
  },
  {
   "cell_type": "markdown",
   "metadata": {},
   "source": [
    "The `ci_method` argument controls the confidence interval method"
   ]
  },
  {
   "cell_type": "code",
   "execution_count": 21,
   "metadata": {},
   "outputs": [
    {
     "data": {
      "text/plain": [
       "(0.22758431353982128, 1.1963578338044438)"
      ]
     },
     "execution_count": 21,
     "metadata": {},
     "output_type": "execute_result"
    }
   ],
   "source": [
    "bootstrap.bootstrap_ci(x, f=np.var, b=10000, ci_method=\"percentile\")"
   ]
  },
  {
   "cell_type": "markdown",
   "metadata": {},
   "source": [
    "Bias-corrected and accelerated"
   ]
  },
  {
   "cell_type": "code",
   "execution_count": 22,
   "metadata": {},
   "outputs": [
    {
     "data": {
      "text/plain": [
       "(0.35235155205915775, 1.3802688323908958)"
      ]
     },
     "execution_count": 22,
     "metadata": {},
     "output_type": "execute_result"
    }
   ],
   "source": [
    "bootstrap.bootstrap_ci(x, f=np.var, b=10000, ci_method=\"bca\")"
   ]
  },
  {
   "cell_type": "markdown",
   "metadata": {},
   "source": [
    "Bootstrap $t$ (the Studentized bootstrap)"
   ]
  },
  {
   "cell_type": "code",
   "execution_count": 23,
   "metadata": {},
   "outputs": [
    {
     "data": {
      "text/plain": [
       "(0.21807923671065232, 1.0548527026738463)"
      ]
     },
     "execution_count": 23,
     "metadata": {},
     "output_type": "execute_result"
    }
   ],
   "source": [
    "bootstrap.bootstrap_ci(x, f=np.var, b=10000, ci_method=\"t\")"
   ]
  },
  {
   "cell_type": "markdown",
   "metadata": {},
   "source": [
    "We can also use parametric sampling when constructing confidence intervals by setting `boot_method=\"parametric\"` and providing a distribution family.  This can improve efficiency if the underlying distribution is well-specified."
   ]
  },
  {
   "cell_type": "code",
   "execution_count": 24,
   "metadata": {},
   "outputs": [
    {
     "data": {
      "text/plain": [
       "(0.3589158722544531, 0.9603701061931937)"
      ]
     },
     "execution_count": 24,
     "metadata": {},
     "output_type": "execute_result"
    }
   ],
   "source": [
    "bootstrap.bootstrap_ci(x, f=np.var, b=10000, boot_method=\"parametric\", family=\"gaussian\", ci_method=\"t\")"
   ]
  },
  {
   "cell_type": "markdown",
   "metadata": {},
   "source": [
    "#### Tools for working with empirical distributions"
   ]
  },
  {
   "cell_type": "code",
   "execution_count": 25,
   "metadata": {},
   "outputs": [],
   "source": [
    "x = np.random.randn(10**4)"
   ]
  },
  {
   "cell_type": "markdown",
   "metadata": {},
   "source": [
    "`ecdf` returns the empirical cumulative distribution function of a sample $\\{ x_i \\}_{i=1}^{n}$\n",
    "\n",
    "$$\n",
    "\\hat{F}_n(s) = n^{-1} \\sum_{i=1}^{n} I(x_i \\leq s) .\n",
    "$$\n",
    "\n",
    "This represents the proportion of the sample less than or equal to $s$."
   ]
  },
  {
   "cell_type": "code",
   "execution_count": 26,
   "metadata": {},
   "outputs": [],
   "source": [
    "F = utils.ecdf(x)"
   ]
  },
  {
   "cell_type": "code",
   "execution_count": 27,
   "metadata": {},
   "outputs": [
    {
     "data": {
      "text/plain": [
       "0.1596"
      ]
     },
     "execution_count": 27,
     "metadata": {},
     "output_type": "execute_result"
    }
   ],
   "source": [
    "F(-1)"
   ]
  },
  {
   "cell_type": "code",
   "execution_count": 28,
   "metadata": {},
   "outputs": [
    {
     "data": {
      "text/plain": [
       "0.5068"
      ]
     },
     "execution_count": 28,
     "metadata": {},
     "output_type": "execute_result"
    }
   ],
   "source": [
    "F(0)"
   ]
  },
  {
   "cell_type": "code",
   "execution_count": 29,
   "metadata": {},
   "outputs": [
    {
     "data": {
      "text/plain": [
       "0.8433"
      ]
     },
     "execution_count": 29,
     "metadata": {},
     "output_type": "execute_result"
    }
   ],
   "source": [
    "F(1)"
   ]
  },
  {
   "cell_type": "markdown",
   "metadata": {},
   "source": [
    "Once the function is created lookups are significantly faster than simply computing a direct average"
   ]
  },
  {
   "cell_type": "code",
   "execution_count": 30,
   "metadata": {},
   "outputs": [
    {
     "name": "stdout",
     "output_type": "stream",
     "text": [
      "1.9 µs ± 59.5 ns per loop (mean ± std. dev. of 7 runs, 1000000 loops each)\n"
     ]
    }
   ],
   "source": [
    "%timeit F(0)"
   ]
  },
  {
   "cell_type": "code",
   "execution_count": 31,
   "metadata": {},
   "outputs": [
    {
     "name": "stdout",
     "output_type": "stream",
     "text": [
      "35.1 µs ± 3.28 µs per loop (mean ± std. dev. of 7 runs, 10000 loops each)\n"
     ]
    }
   ],
   "source": [
    "%timeit np.mean(x <= 0)"
   ]
  },
  {
   "cell_type": "markdown",
   "metadata": {},
   "source": [
    "`eqf` returns the empirical quantile function\n",
    "\n",
    "$$\n",
    "\\hat{G}_n(p) = \\hat{F}_n^{-1}(p) ,\n",
    "$$\n",
    "\n",
    "or the inverse of `ecdf`.\n",
    "\n",
    "(This statement is not strictly speaking true since $\\hat{F}_n$ is not invertible.  To get around this we use linear interpolation between the observed sample points so that $\\hat{F}_n^{-1}$ is well-defined.  The result is that $\\hat{G}_n(p)$ is defined for all $p \\in [0, 1]$.)"
   ]
  },
  {
   "cell_type": "code",
   "execution_count": 32,
   "metadata": {},
   "outputs": [],
   "source": [
    "G = utils.eqf(x)"
   ]
  },
  {
   "cell_type": "code",
   "execution_count": 33,
   "metadata": {},
   "outputs": [
    {
     "data": {
      "text/plain": [
       "-0.6879800521650289"
      ]
     },
     "execution_count": 33,
     "metadata": {},
     "output_type": "execute_result"
    }
   ],
   "source": [
    "G(0.25)"
   ]
  },
  {
   "cell_type": "code",
   "execution_count": 34,
   "metadata": {},
   "outputs": [
    {
     "data": {
      "text/plain": [
       "-0.017048061347687857"
      ]
     },
     "execution_count": 34,
     "metadata": {},
     "output_type": "execute_result"
    }
   ],
   "source": [
    "G(0.5)"
   ]
  },
  {
   "cell_type": "code",
   "execution_count": 35,
   "metadata": {},
   "outputs": [
    {
     "data": {
      "text/plain": [
       "0.661843717958337"
      ]
     },
     "execution_count": 35,
     "metadata": {},
     "output_type": "execute_result"
    }
   ],
   "source": [
    "G(0.75)"
   ]
  },
  {
   "cell_type": "markdown",
   "metadata": {},
   "source": [
    "## Boston Housing Example"
   ]
  },
  {
   "cell_type": "code",
   "execution_count": 36,
   "metadata": {},
   "outputs": [
    {
     "name": "stdout",
     "output_type": "stream",
     "text": [
      "Boston House Prices dataset\n",
      "===========================\n",
      "\n",
      "Notes\n",
      "------\n",
      "Data Set Characteristics:  \n",
      "\n",
      "    :Number of Instances: 506 \n",
      "\n",
      "    :Number of Attributes: 13 numeric/categorical predictive\n",
      "    \n",
      "    :Median Value (attribute 14) is usually the target\n",
      "\n",
      "    :Attribute Information (in order):\n",
      "        - CRIM     per capita crime rate by town\n",
      "        - ZN       proportion of residential land zoned for lots over 25,000 sq.ft.\n",
      "        - INDUS    proportion of non-retail business acres per town\n",
      "        - CHAS     Charles River dummy variable (= 1 if tract bounds river; 0 otherwise)\n",
      "        - NOX      nitric oxides concentration (parts per 10 million)\n",
      "        - RM       average number of rooms per dwelling\n",
      "        - AGE      proportion of owner-occupied units built prior to 1940\n",
      "        - DIS      weighted distances to five Boston employment centres\n",
      "        - RAD      index of accessibility to radial highways\n",
      "        - TAX      full-value property-tax rate per $10,000\n",
      "        - PTRATIO  pupil-teacher ratio by town\n",
      "        - B        1000(Bk - 0.63)^2 where Bk is the proportion of blacks by town\n",
      "        - LSTAT    % lower status of the population\n",
      "        - MEDV     Median value of owner-occupied homes in $1000's\n",
      "\n",
      "    :Missing Attribute Values: None\n",
      "\n",
      "    :Creator: Harrison, D. and Rubinfeld, D.L.\n",
      "\n",
      "This is a copy of UCI ML housing dataset.\n",
      "http://archive.ics.uci.edu/ml/datasets/Housing\n",
      "\n",
      "\n",
      "This dataset was taken from the StatLib library which is maintained at Carnegie Mellon University.\n",
      "\n",
      "The Boston house-price data of Harrison, D. and Rubinfeld, D.L. 'Hedonic\n",
      "prices and the demand for clean air', J. Environ. Economics & Management,\n",
      "vol.5, 81-102, 1978.   Used in Belsley, Kuh & Welsch, 'Regression diagnostics\n",
      "...', Wiley, 1980.   N.B. Various transformations are used in the table on\n",
      "pages 244-261 of the latter.\n",
      "\n",
      "The Boston house-price data has been used in many machine learning papers that address regression\n",
      "problems.   \n",
      "     \n",
      "**References**\n",
      "\n",
      "   - Belsley, Kuh & Welsch, 'Regression diagnostics: Identifying Influential Data and Sources of Collinearity', Wiley, 1980. 244-261.\n",
      "   - Quinlan,R. (1993). Combining Instance-Based and Model-Based Learning. In Proceedings on the Tenth International Conference of Machine Learning, 236-243, University of Massachusetts, Amherst. Morgan Kaufmann.\n",
      "   - many more! (see http://archive.ics.uci.edu/ml/datasets/Housing)\n",
      "\n"
     ]
    }
   ],
   "source": [
    "bost = load_boston()\n",
    "print(bost[\"DESCR\"])"
   ]
  },
  {
   "cell_type": "code",
   "execution_count": 37,
   "metadata": {},
   "outputs": [
    {
     "data": {
      "text/html": [
       "<div>\n",
       "<style scoped>\n",
       "    .dataframe tbody tr th:only-of-type {\n",
       "        vertical-align: middle;\n",
       "    }\n",
       "\n",
       "    .dataframe tbody tr th {\n",
       "        vertical-align: top;\n",
       "    }\n",
       "\n",
       "    .dataframe thead th {\n",
       "        text-align: right;\n",
       "    }\n",
       "</style>\n",
       "<table border=\"1\" class=\"dataframe\">\n",
       "  <thead>\n",
       "    <tr style=\"text-align: right;\">\n",
       "      <th></th>\n",
       "      <th>CRIM</th>\n",
       "      <th>ZN</th>\n",
       "      <th>INDUS</th>\n",
       "      <th>CHAS</th>\n",
       "      <th>NOX</th>\n",
       "      <th>RM</th>\n",
       "      <th>AGE</th>\n",
       "      <th>DIS</th>\n",
       "      <th>RAD</th>\n",
       "      <th>TAX</th>\n",
       "      <th>PTRATIO</th>\n",
       "      <th>B</th>\n",
       "      <th>LSTAT</th>\n",
       "    </tr>\n",
       "  </thead>\n",
       "  <tbody>\n",
       "    <tr>\n",
       "      <th>0</th>\n",
       "      <td>0.00632</td>\n",
       "      <td>18.0</td>\n",
       "      <td>2.31</td>\n",
       "      <td>0.0</td>\n",
       "      <td>0.538</td>\n",
       "      <td>6.575</td>\n",
       "      <td>65.2</td>\n",
       "      <td>4.0900</td>\n",
       "      <td>1.0</td>\n",
       "      <td>296.0</td>\n",
       "      <td>15.3</td>\n",
       "      <td>396.90</td>\n",
       "      <td>4.98</td>\n",
       "    </tr>\n",
       "    <tr>\n",
       "      <th>1</th>\n",
       "      <td>0.02731</td>\n",
       "      <td>0.0</td>\n",
       "      <td>7.07</td>\n",
       "      <td>0.0</td>\n",
       "      <td>0.469</td>\n",
       "      <td>6.421</td>\n",
       "      <td>78.9</td>\n",
       "      <td>4.9671</td>\n",
       "      <td>2.0</td>\n",
       "      <td>242.0</td>\n",
       "      <td>17.8</td>\n",
       "      <td>396.90</td>\n",
       "      <td>9.14</td>\n",
       "    </tr>\n",
       "    <tr>\n",
       "      <th>2</th>\n",
       "      <td>0.02729</td>\n",
       "      <td>0.0</td>\n",
       "      <td>7.07</td>\n",
       "      <td>0.0</td>\n",
       "      <td>0.469</td>\n",
       "      <td>7.185</td>\n",
       "      <td>61.1</td>\n",
       "      <td>4.9671</td>\n",
       "      <td>2.0</td>\n",
       "      <td>242.0</td>\n",
       "      <td>17.8</td>\n",
       "      <td>392.83</td>\n",
       "      <td>4.03</td>\n",
       "    </tr>\n",
       "    <tr>\n",
       "      <th>3</th>\n",
       "      <td>0.03237</td>\n",
       "      <td>0.0</td>\n",
       "      <td>2.18</td>\n",
       "      <td>0.0</td>\n",
       "      <td>0.458</td>\n",
       "      <td>6.998</td>\n",
       "      <td>45.8</td>\n",
       "      <td>6.0622</td>\n",
       "      <td>3.0</td>\n",
       "      <td>222.0</td>\n",
       "      <td>18.7</td>\n",
       "      <td>394.63</td>\n",
       "      <td>2.94</td>\n",
       "    </tr>\n",
       "    <tr>\n",
       "      <th>4</th>\n",
       "      <td>0.06905</td>\n",
       "      <td>0.0</td>\n",
       "      <td>2.18</td>\n",
       "      <td>0.0</td>\n",
       "      <td>0.458</td>\n",
       "      <td>7.147</td>\n",
       "      <td>54.2</td>\n",
       "      <td>6.0622</td>\n",
       "      <td>3.0</td>\n",
       "      <td>222.0</td>\n",
       "      <td>18.7</td>\n",
       "      <td>396.90</td>\n",
       "      <td>5.33</td>\n",
       "    </tr>\n",
       "  </tbody>\n",
       "</table>\n",
       "</div>"
      ],
      "text/plain": [
       "      CRIM    ZN  INDUS  CHAS    NOX     RM   AGE     DIS  RAD    TAX  \\\n",
       "0  0.00632  18.0   2.31   0.0  0.538  6.575  65.2  4.0900  1.0  296.0   \n",
       "1  0.02731   0.0   7.07   0.0  0.469  6.421  78.9  4.9671  2.0  242.0   \n",
       "2  0.02729   0.0   7.07   0.0  0.469  7.185  61.1  4.9671  2.0  242.0   \n",
       "3  0.03237   0.0   2.18   0.0  0.458  6.998  45.8  6.0622  3.0  222.0   \n",
       "4  0.06905   0.0   2.18   0.0  0.458  7.147  54.2  6.0622  3.0  222.0   \n",
       "\n",
       "   PTRATIO       B  LSTAT  \n",
       "0     15.3  396.90   4.98  \n",
       "1     17.8  396.90   9.14  \n",
       "2     17.8  392.83   4.03  \n",
       "3     18.7  394.63   2.94  \n",
       "4     18.7  396.90   5.33  "
      ]
     },
     "execution_count": 37,
     "metadata": {},
     "output_type": "execute_result"
    }
   ],
   "source": [
    "df = pd.DataFrame(bost[\"data\"], columns=bost[\"feature_names\"])\n",
    "df.head()"
   ]
  },
  {
   "cell_type": "markdown",
   "metadata": {},
   "source": [
    "Take the natural logarithm of the median sales price"
   ]
  },
  {
   "cell_type": "code",
   "execution_count": 38,
   "metadata": {},
   "outputs": [
    {
     "data": {
      "text/plain": [
       "0    3.178054\n",
       "1    3.072693\n",
       "2    3.546740\n",
       "3    3.508556\n",
       "4    3.589059\n",
       "Name: target, dtype: float64"
      ]
     },
     "execution_count": 38,
     "metadata": {},
     "output_type": "execute_result"
    }
   ],
   "source": [
    "y = pd.Series(np.log(bost[\"target\"]), name=\"target\")\n",
    "y.head()"
   ]
  },
  {
   "cell_type": "markdown",
   "metadata": {},
   "source": [
    "Use `corr_test` to test the significance of the correlation coefficients.  We see that all the correlations are highly significant since they lie at the extremes of their respective permutation distributions."
   ]
  },
  {
   "cell_type": "code",
   "execution_count": 39,
   "metadata": {},
   "outputs": [
    {
     "data": {
      "text/html": [
       "<div>\n",
       "<style scoped>\n",
       "    .dataframe tbody tr th:only-of-type {\n",
       "        vertical-align: middle;\n",
       "    }\n",
       "\n",
       "    .dataframe tbody tr th {\n",
       "        vertical-align: top;\n",
       "    }\n",
       "\n",
       "    .dataframe thead th {\n",
       "        text-align: right;\n",
       "    }\n",
       "</style>\n",
       "<table border=\"1\" class=\"dataframe\">\n",
       "  <thead>\n",
       "    <tr style=\"text-align: right;\">\n",
       "      <th></th>\n",
       "      <th>c</th>\n",
       "      <th>prop</th>\n",
       "    </tr>\n",
       "  </thead>\n",
       "  <tbody>\n",
       "    <tr>\n",
       "      <th>CRIM</th>\n",
       "      <td>-0.525047</td>\n",
       "      <td>0.0</td>\n",
       "    </tr>\n",
       "    <tr>\n",
       "      <th>ZN</th>\n",
       "      <td>0.363344</td>\n",
       "      <td>1.0</td>\n",
       "    </tr>\n",
       "    <tr>\n",
       "      <th>INDUS</th>\n",
       "      <td>-0.541556</td>\n",
       "      <td>0.0</td>\n",
       "    </tr>\n",
       "    <tr>\n",
       "      <th>CHAS</th>\n",
       "      <td>0.158412</td>\n",
       "      <td>1.0</td>\n",
       "    </tr>\n",
       "    <tr>\n",
       "      <th>NOX</th>\n",
       "      <td>-0.510600</td>\n",
       "      <td>0.0</td>\n",
       "    </tr>\n",
       "    <tr>\n",
       "      <th>RM</th>\n",
       "      <td>0.632021</td>\n",
       "      <td>1.0</td>\n",
       "    </tr>\n",
       "    <tr>\n",
       "      <th>AGE</th>\n",
       "      <td>-0.453422</td>\n",
       "      <td>0.0</td>\n",
       "    </tr>\n",
       "    <tr>\n",
       "      <th>DIS</th>\n",
       "      <td>0.342780</td>\n",
       "      <td>1.0</td>\n",
       "    </tr>\n",
       "    <tr>\n",
       "      <th>RAD</th>\n",
       "      <td>-0.481971</td>\n",
       "      <td>0.0</td>\n",
       "    </tr>\n",
       "    <tr>\n",
       "      <th>TAX</th>\n",
       "      <td>-0.561466</td>\n",
       "      <td>0.0</td>\n",
       "    </tr>\n",
       "    <tr>\n",
       "      <th>PTRATIO</th>\n",
       "      <td>-0.501729</td>\n",
       "      <td>0.0</td>\n",
       "    </tr>\n",
       "    <tr>\n",
       "      <th>B</th>\n",
       "      <td>0.402382</td>\n",
       "      <td>1.0</td>\n",
       "    </tr>\n",
       "    <tr>\n",
       "      <th>LSTAT</th>\n",
       "      <td>-0.805034</td>\n",
       "      <td>0.0</td>\n",
       "    </tr>\n",
       "  </tbody>\n",
       "</table>\n",
       "</div>"
      ],
      "text/plain": [
       "                c  prop\n",
       "CRIM    -0.525047   0.0\n",
       "ZN       0.363344   1.0\n",
       "INDUS   -0.541556   0.0\n",
       "CHAS     0.158412   1.0\n",
       "NOX     -0.510600   0.0\n",
       "RM       0.632021   1.0\n",
       "AGE     -0.453422   0.0\n",
       "DIS      0.342780   1.0\n",
       "RAD     -0.481971   0.0\n",
       "TAX     -0.561466   0.0\n",
       "PTRATIO -0.501729   0.0\n",
       "B        0.402382   1.0\n",
       "LSTAT   -0.805034   0.0"
      ]
     },
     "execution_count": 39,
     "metadata": {},
     "output_type": "execute_result"
    }
   ],
   "source": [
    "df.apply(lambda x: pd.Series(permutation.corr_test(x.values, y.values, b=1000))).T"
   ]
  },
  {
   "cell_type": "markdown",
   "metadata": {},
   "source": [
    "Use `ttest` to determine if properties along the Charles River are more expensive"
   ]
  },
  {
   "cell_type": "code",
   "execution_count": 40,
   "metadata": {},
   "outputs": [
    {
     "data": {
      "text/plain": [
       "{'t': 3.7440239305494125, 'prop': 0.999}"
      ]
     },
     "execution_count": 40,
     "metadata": {},
     "output_type": "execute_result"
    }
   ],
   "source": [
    "permutation.ttest(y[df[\"CHAS\"] == 1], y[df[\"CHAS\"] == 0], b=1000)"
   ]
  },
  {
   "cell_type": "markdown",
   "metadata": {},
   "source": [
    "`wilcoxon` can be used to test the same hypothesis"
   ]
  },
  {
   "cell_type": "code",
   "execution_count": 41,
   "metadata": {},
   "outputs": [
    {
     "data": {
      "text/plain": [
       "{'w': 11509.5, 'prop': 1.0}"
      ]
     },
     "execution_count": 41,
     "metadata": {},
     "output_type": "execute_result"
    }
   ],
   "source": [
    "permutation.wilcoxon(y[df[\"CHAS\"] == 1], y[df[\"CHAS\"] == 0], b=1000)"
   ]
  },
  {
   "cell_type": "markdown",
   "metadata": {},
   "source": [
    "Load linear model libraries"
   ]
  },
  {
   "cell_type": "code",
   "execution_count": 42,
   "metadata": {},
   "outputs": [],
   "source": [
    "from sklearn.preprocessing import StandardScaler\n",
    "from sklearn.linear_model import LinearRegression\n",
    "from sklearn.model_selection import cross_val_predict"
   ]
  },
  {
   "cell_type": "markdown",
   "metadata": {},
   "source": [
    "Here we define a function `fitreg` which takes a matrix `A` that contains both predictors and a response variable and returns the least squares coefficients of the predictors along with an intercept.  Note how the standardization is actually performed *inside* the function.  This means that the measures of center and scale (which are in fact model parameters) are estimated at every iteration, and so any variation in the coefficients that is induced by this process can be accounted-for by the bootstrapping process.  In theory a full modeling workflow can be defined as a function which can then be bootstrapped."
   ]
  },
  {
   "cell_type": "code",
   "execution_count": 43,
   "metadata": {},
   "outputs": [],
   "source": [
    "def fitreg(A):\n",
    "    scale = StandardScaler()\n",
    "    reg = LinearRegression(fit_intercept=True)\n",
    "    X_scale = scale.fit_transform(A[:, :A.shape[1]-1])\n",
    "    y = A[:, A.shape[1]-1]\n",
    "    reg.fit(X_scale, y)\n",
    "    return {\"coef\": reg.coef_, \"intercept\": reg.intercept_}"
   ]
  },
  {
   "cell_type": "markdown",
   "metadata": {},
   "source": [
    "Apply the function to 5,000 bootstrap copies of the Boston housing data.  The output is an array of dictionaries containing the coefficients and intercept for each data set.  We then wrap this array into a `pandas` `DataFrame`."
   ]
  },
  {
   "cell_type": "code",
   "execution_count": 44,
   "metadata": {},
   "outputs": [
    {
     "data": {
      "text/plain": [
       "array([{'coef': array([-0.06543269,  0.0111792 ,  0.02017785,  0.01644507, -0.0960268 ,\n",
       "        0.07141562,  0.02288376, -0.08998764,  0.11981003, -0.09010673,\n",
       "       -0.07425931,  0.06033792, -0.20090051]), 'intercept': 3.0466610441539967},\n",
       "       {'coef': array([-0.12851959,  0.03815941,  0.01163993,  0.0301858 , -0.11062475,\n",
       "        0.04278775,  0.02465512, -0.10659792,  0.16046287, -0.09829106,\n",
       "       -0.07260865,  0.04131499, -0.21673256]), 'intercept': 3.0182941666657954},\n",
       "       {'coef': array([-0.10389886,  0.03091645,  0.00965653,  0.02533494, -0.12467995,\n",
       "        0.04626538,  0.0167342 , -0.15902037,  0.11432599, -0.09435715,\n",
       "       -0.07590444,  0.01210304, -0.24116396]), 'intercept': 3.020733734724863}],\n",
       "      dtype=object)"
      ]
     },
     "execution_count": 44,
     "metadata": {},
     "output_type": "execute_result"
    }
   ],
   "source": [
    "boot_coef = bootstrap.bootstrap(a=df.join(y).values, f=fitreg, b=5000, random_state=2357)\n",
    "boot_coef[:3]"
   ]
  },
  {
   "cell_type": "code",
   "execution_count": 45,
   "metadata": {},
   "outputs": [
    {
     "data": {
      "text/html": [
       "<div>\n",
       "<style scoped>\n",
       "    .dataframe tbody tr th:only-of-type {\n",
       "        vertical-align: middle;\n",
       "    }\n",
       "\n",
       "    .dataframe tbody tr th {\n",
       "        vertical-align: top;\n",
       "    }\n",
       "\n",
       "    .dataframe thead th {\n",
       "        text-align: right;\n",
       "    }\n",
       "</style>\n",
       "<table border=\"1\" class=\"dataframe\">\n",
       "  <thead>\n",
       "    <tr style=\"text-align: right;\">\n",
       "      <th></th>\n",
       "      <th>coef</th>\n",
       "      <th>intercept</th>\n",
       "    </tr>\n",
       "  </thead>\n",
       "  <tbody>\n",
       "    <tr>\n",
       "      <th>0</th>\n",
       "      <td>[-0.06543269207006225, 0.011179204422946941, 0...</td>\n",
       "      <td>3.046661</td>\n",
       "    </tr>\n",
       "    <tr>\n",
       "      <th>1</th>\n",
       "      <td>[-0.12851958889231352, 0.038159414969287674, 0...</td>\n",
       "      <td>3.018294</td>\n",
       "    </tr>\n",
       "    <tr>\n",
       "      <th>2</th>\n",
       "      <td>[-0.10389886233187372, 0.030916453706549586, 0...</td>\n",
       "      <td>3.020734</td>\n",
       "    </tr>\n",
       "    <tr>\n",
       "      <th>3</th>\n",
       "      <td>[-0.0714731445672803, 0.02774615980849596, 0.0...</td>\n",
       "      <td>3.036162</td>\n",
       "    </tr>\n",
       "    <tr>\n",
       "      <th>4</th>\n",
       "      <td>[-0.06056972556803639, 0.03658851705498406, 0....</td>\n",
       "      <td>3.050035</td>\n",
       "    </tr>\n",
       "  </tbody>\n",
       "</table>\n",
       "</div>"
      ],
      "text/plain": [
       "                                                coef  intercept\n",
       "0  [-0.06543269207006225, 0.011179204422946941, 0...   3.046661\n",
       "1  [-0.12851958889231352, 0.038159414969287674, 0...   3.018294\n",
       "2  [-0.10389886233187372, 0.030916453706549586, 0...   3.020734\n",
       "3  [-0.0714731445672803, 0.02774615980849596, 0.0...   3.036162\n",
       "4  [-0.06056972556803639, 0.03658851705498406, 0....   3.050035"
      ]
     },
     "execution_count": 45,
     "metadata": {},
     "output_type": "execute_result"
    }
   ],
   "source": [
    "param_frame = pd.DataFrame([pd.Series(x) for x in boot_coef])\n",
    "param_frame.head()"
   ]
  },
  {
   "cell_type": "markdown",
   "metadata": {},
   "source": [
    "Extract the coefficients for the `CRIM` variable and plot the distribution"
   ]
  },
  {
   "cell_type": "code",
   "execution_count": 46,
   "metadata": {},
   "outputs": [],
   "source": [
    "crim_coef = param_frame[\"coef\"].map(lambda x: x[0])"
   ]
  },
  {
   "cell_type": "code",
   "execution_count": 47,
   "metadata": {},
   "outputs": [
    {
     "data": {
      "text/plain": [
       "<matplotlib.axes._subplots.AxesSubplot at 0x11210f358>"
      ]
     },
     "execution_count": 47,
     "metadata": {},
     "output_type": "execute_result"
    },
    {
     "data": {
      "image/png": "[encoded data removed]",
      "text/plain": [
       "<Figure size 432x288 with 1 Axes>"
      ]
     },
     "metadata": {},
     "output_type": "display_data"
    }
   ],
   "source": [
    "sns.distplot(crim_coef, hist=False)"
   ]
  },
  {
   "cell_type": "markdown",
   "metadata": {},
   "source": [
    "Extract endpoints of percentile bootstrap confidence interval"
   ]
  },
  {
   "cell_type": "code",
   "execution_count": 48,
   "metadata": {},
   "outputs": [],
   "source": [
    "q = utils.eqf(crim_coef)"
   ]
  },
  {
   "cell_type": "code",
   "execution_count": 49,
   "metadata": {},
   "outputs": [
    {
     "data": {
      "text/plain": [
       "(-0.12395984564069394, -0.05341523015107107)"
      ]
     },
     "execution_count": 49,
     "metadata": {},
     "output_type": "execute_result"
    }
   ],
   "source": [
    "(q(0.025), q(0.975))"
   ]
  },
  {
   "cell_type": "markdown",
   "metadata": {},
   "source": [
    "Bootstrap confidence interval of correlation coefficient between `CRIM` and `target`.  This gives us a plausible range for the true correlation between these two quantities."
   ]
  },
  {
   "cell_type": "code",
   "execution_count": 50,
   "metadata": {},
   "outputs": [
    {
     "data": {
      "text/plain": [
       "(-0.6069349372897601, -0.4537151460362293)"
      ]
     },
     "execution_count": 50,
     "metadata": {},
     "output_type": "execute_result"
    }
   ],
   "source": [
    "bootstrap.bootstrap_ci(a=df[[\"CRIM\"]].join(y).values,\n",
    "                       f=lambda x: np.corrcoef(x[:, 0], x[:, 1])[0, 1],\n",
    "                       p=0.95,\n",
    "                       b=10000,\n",
    "                       ci_method=\"percentile\",\n",
    "                       random_state=2357)"
   ]
  },
  {
   "cell_type": "markdown",
   "metadata": {},
   "source": [
    "#### Bootstrapped predictions"
   ]
  },
  {
   "cell_type": "markdown",
   "metadata": {},
   "source": [
    "Alternatively, instead of returning model parameters we might wish to return the fitted models themselves and generate bootstrapped predictions.  Here we define a function that fits and returns a GBM model given a set of predictors and a response variable, and then apply this function to 500 bootstrap samples."
   ]
  },
  {
   "cell_type": "code",
   "execution_count": 51,
   "metadata": {},
   "outputs": [],
   "source": [
    "import lightgbm as lgb\n",
    "\n",
    "def fitgbm(A):\n",
    "    reg = lgb.LGBMRegressor()\n",
    "    X = A[:, :A.shape[1]-1]\n",
    "    y = A[:, A.shape[1]-1]\n",
    "    reg.fit(X, y)\n",
    "    return reg"
   ]
  },
  {
   "cell_type": "code",
   "execution_count": 52,
   "metadata": {},
   "outputs": [
    {
     "data": {
      "text/html": [
       "<div>\n",
       "<style scoped>\n",
       "    .dataframe tbody tr th:only-of-type {\n",
       "        vertical-align: middle;\n",
       "    }\n",
       "\n",
       "    .dataframe tbody tr th {\n",
       "        vertical-align: top;\n",
       "    }\n",
       "\n",
       "    .dataframe thead th {\n",
       "        text-align: right;\n",
       "    }\n",
       "</style>\n",
       "<table border=\"1\" class=\"dataframe\">\n",
       "  <thead>\n",
       "    <tr style=\"text-align: right;\">\n",
       "      <th></th>\n",
       "      <th>0</th>\n",
       "      <th>1</th>\n",
       "      <th>2</th>\n",
       "      <th>3</th>\n",
       "      <th>4</th>\n",
       "      <th>5</th>\n",
       "      <th>6</th>\n",
       "      <th>7</th>\n",
       "      <th>8</th>\n",
       "      <th>9</th>\n",
       "      <th>...</th>\n",
       "      <th>496</th>\n",
       "      <th>497</th>\n",
       "      <th>498</th>\n",
       "      <th>499</th>\n",
       "      <th>500</th>\n",
       "      <th>501</th>\n",
       "      <th>502</th>\n",
       "      <th>503</th>\n",
       "      <th>504</th>\n",
       "      <th>505</th>\n",
       "    </tr>\n",
       "  </thead>\n",
       "  <tbody>\n",
       "    <tr>\n",
       "      <th>0</th>\n",
       "      <td>3.274353</td>\n",
       "      <td>3.055461</td>\n",
       "      <td>3.544635</td>\n",
       "      <td>3.575082</td>\n",
       "      <td>3.559760</td>\n",
       "      <td>3.207295</td>\n",
       "      <td>3.115068</td>\n",
       "      <td>3.116506</td>\n",
       "      <td>2.702895</td>\n",
       "      <td>2.951555</td>\n",
       "      <td>...</td>\n",
       "      <td>2.983547</td>\n",
       "      <td>2.956085</td>\n",
       "      <td>3.068812</td>\n",
       "      <td>2.932023</td>\n",
       "      <td>3.013016</td>\n",
       "      <td>3.120661</td>\n",
       "      <td>3.034471</td>\n",
       "      <td>3.169812</td>\n",
       "      <td>3.239204</td>\n",
       "      <td>3.039640</td>\n",
       "    </tr>\n",
       "    <tr>\n",
       "      <th>1</th>\n",
       "      <td>3.182319</td>\n",
       "      <td>3.067757</td>\n",
       "      <td>3.571281</td>\n",
       "      <td>3.528224</td>\n",
       "      <td>3.582960</td>\n",
       "      <td>3.182152</td>\n",
       "      <td>2.994028</td>\n",
       "      <td>2.803870</td>\n",
       "      <td>2.716090</td>\n",
       "      <td>2.928752</td>\n",
       "      <td>...</td>\n",
       "      <td>2.959672</td>\n",
       "      <td>2.960524</td>\n",
       "      <td>3.069175</td>\n",
       "      <td>2.858126</td>\n",
       "      <td>2.925777</td>\n",
       "      <td>3.167507</td>\n",
       "      <td>2.975043</td>\n",
       "      <td>3.165337</td>\n",
       "      <td>3.139692</td>\n",
       "      <td>2.762722</td>\n",
       "    </tr>\n",
       "    <tr>\n",
       "      <th>2</th>\n",
       "      <td>3.173752</td>\n",
       "      <td>3.079860</td>\n",
       "      <td>3.537352</td>\n",
       "      <td>3.547876</td>\n",
       "      <td>3.564605</td>\n",
       "      <td>3.298823</td>\n",
       "      <td>3.006455</td>\n",
       "      <td>3.120260</td>\n",
       "      <td>2.635271</td>\n",
       "      <td>2.944478</td>\n",
       "      <td>...</td>\n",
       "      <td>2.958240</td>\n",
       "      <td>2.926532</td>\n",
       "      <td>2.960468</td>\n",
       "      <td>2.889740</td>\n",
       "      <td>2.872398</td>\n",
       "      <td>3.098149</td>\n",
       "      <td>3.012330</td>\n",
       "      <td>3.152478</td>\n",
       "      <td>3.125289</td>\n",
       "      <td>3.019576</td>\n",
       "    </tr>\n",
       "    <tr>\n",
       "      <th>3</th>\n",
       "      <td>3.180002</td>\n",
       "      <td>3.045566</td>\n",
       "      <td>3.541282</td>\n",
       "      <td>3.561116</td>\n",
       "      <td>3.547255</td>\n",
       "      <td>3.335361</td>\n",
       "      <td>3.129902</td>\n",
       "      <td>3.097080</td>\n",
       "      <td>2.821937</td>\n",
       "      <td>2.908713</td>\n",
       "      <td>...</td>\n",
       "      <td>2.969109</td>\n",
       "      <td>2.922114</td>\n",
       "      <td>3.061139</td>\n",
       "      <td>2.883476</td>\n",
       "      <td>3.018125</td>\n",
       "      <td>3.104769</td>\n",
       "      <td>3.022036</td>\n",
       "      <td>3.148377</td>\n",
       "      <td>3.124960</td>\n",
       "      <td>3.008366</td>\n",
       "    </tr>\n",
       "    <tr>\n",
       "      <th>4</th>\n",
       "      <td>3.242950</td>\n",
       "      <td>3.053115</td>\n",
       "      <td>3.542118</td>\n",
       "      <td>3.525466</td>\n",
       "      <td>3.596465</td>\n",
       "      <td>3.299582</td>\n",
       "      <td>3.125553</td>\n",
       "      <td>2.817256</td>\n",
       "      <td>2.701256</td>\n",
       "      <td>2.989970</td>\n",
       "      <td>...</td>\n",
       "      <td>2.962748</td>\n",
       "      <td>2.923763</td>\n",
       "      <td>2.953551</td>\n",
       "      <td>2.922948</td>\n",
       "      <td>2.813082</td>\n",
       "      <td>3.087007</td>\n",
       "      <td>2.955761</td>\n",
       "      <td>3.183434</td>\n",
       "      <td>3.080825</td>\n",
       "      <td>2.704016</td>\n",
       "    </tr>\n",
       "  </tbody>\n",
       "</table>\n",
       "<p>5 rows × 506 columns</p>\n",
       "</div>"
      ],
      "text/plain": [
       "        0         1         2         3         4         5         6    \\\n",
       "0  3.274353  3.055461  3.544635  3.575082  3.559760  3.207295  3.115068   \n",
       "1  3.182319  3.067757  3.571281  3.528224  3.582960  3.182152  2.994028   \n",
       "2  3.173752  3.079860  3.537352  3.547876  3.564605  3.298823  3.006455   \n",
       "3  3.180002  3.045566  3.541282  3.561116  3.547255  3.335361  3.129902   \n",
       "4  3.242950  3.053115  3.542118  3.525466  3.596465  3.299582  3.125553   \n",
       "\n",
       "        7         8         9      ...          496       497       498  \\\n",
       "0  3.116506  2.702895  2.951555    ...     2.983547  2.956085  3.068812   \n",
       "1  2.803870  2.716090  2.928752    ...     2.959672  2.960524  3.069175   \n",
       "2  3.120260  2.635271  2.944478    ...     2.958240  2.926532  2.960468   \n",
       "3  3.097080  2.821937  2.908713    ...     2.969109  2.922114  3.061139   \n",
       "4  2.817256  2.701256  2.989970    ...     2.962748  2.923763  2.953551   \n",
       "\n",
       "        499       500       501       502       503       504       505  \n",
       "0  2.932023  3.013016  3.120661  3.034471  3.169812  3.239204  3.039640  \n",
       "1  2.858126  2.925777  3.167507  2.975043  3.165337  3.139692  2.762722  \n",
       "2  2.889740  2.872398  3.098149  3.012330  3.152478  3.125289  3.019576  \n",
       "3  2.883476  3.018125  3.104769  3.022036  3.148377  3.124960  3.008366  \n",
       "4  2.922948  2.813082  3.087007  2.955761  3.183434  3.080825  2.704016  \n",
       "\n",
       "[5 rows x 506 columns]"
      ]
     },
     "execution_count": 52,
     "metadata": {},
     "output_type": "execute_result"
    }
   ],
   "source": [
    "boot_mod = bootstrap.bootstrap(a=df.join(y).values, f=fitgbm, b=500, random_state=2357)\n",
    "boot_pred = pd.DataFrame(np.asarray([m.predict(df.values) for m in boot_mod]))\n",
    "boot_pred.head()"
   ]
  },
  {
   "cell_type": "code",
   "execution_count": 53,
   "metadata": {},
   "outputs": [
    {
     "data": {
      "text/plain": [
       "(500, 506)"
      ]
     },
     "execution_count": 53,
     "metadata": {},
     "output_type": "execute_result"
    }
   ],
   "source": [
    "boot_pred.shape"
   ]
  },
  {
   "cell_type": "markdown",
   "metadata": {},
   "source": [
    "Calculate standard deviations of bootstrapped predictions"
   ]
  },
  {
   "cell_type": "code",
   "execution_count": 54,
   "metadata": {},
   "outputs": [],
   "source": [
    "pred_std = boot_pred.apply(np.std).sort_values(ascending=False)"
   ]
  },
  {
   "cell_type": "markdown",
   "metadata": {},
   "source": [
    "Rows with the most variation in the bootstrapped predictions.  The values of these attributes seem to lie along the extremes of their respective distributions, which makes intuitive sense as the model should be least confident of predictions made along the periphery of the training data."
   ]
  },
  {
   "cell_type": "code",
   "execution_count": 55,
   "metadata": {},
   "outputs": [
    {
     "data": {
      "text/html": [
       "<div>\n",
       "<style scoped>\n",
       "    .dataframe tbody tr th:only-of-type {\n",
       "        vertical-align: middle;\n",
       "    }\n",
       "\n",
       "    .dataframe tbody tr th {\n",
       "        vertical-align: top;\n",
       "    }\n",
       "\n",
       "    .dataframe thead th {\n",
       "        text-align: right;\n",
       "    }\n",
       "</style>\n",
       "<table border=\"1\" class=\"dataframe\">\n",
       "  <thead>\n",
       "    <tr style=\"text-align: right;\">\n",
       "      <th></th>\n",
       "      <th>CRIM</th>\n",
       "      <th>ZN</th>\n",
       "      <th>INDUS</th>\n",
       "      <th>CHAS</th>\n",
       "      <th>NOX</th>\n",
       "      <th>RM</th>\n",
       "      <th>AGE</th>\n",
       "      <th>DIS</th>\n",
       "      <th>RAD</th>\n",
       "      <th>TAX</th>\n",
       "      <th>PTRATIO</th>\n",
       "      <th>B</th>\n",
       "      <th>LSTAT</th>\n",
       "    </tr>\n",
       "  </thead>\n",
       "  <tbody>\n",
       "    <tr>\n",
       "      <th>364</th>\n",
       "      <td>3.47428</td>\n",
       "      <td>0.0</td>\n",
       "      <td>18.10</td>\n",
       "      <td>1.0</td>\n",
       "      <td>0.718</td>\n",
       "      <td>8.780</td>\n",
       "      <td>82.9</td>\n",
       "      <td>1.9047</td>\n",
       "      <td>24.0</td>\n",
       "      <td>666.0</td>\n",
       "      <td>20.2</td>\n",
       "      <td>354.55</td>\n",
       "      <td>5.29</td>\n",
       "    </tr>\n",
       "    <tr>\n",
       "      <th>372</th>\n",
       "      <td>8.26725</td>\n",
       "      <td>0.0</td>\n",
       "      <td>18.10</td>\n",
       "      <td>1.0</td>\n",
       "      <td>0.668</td>\n",
       "      <td>5.875</td>\n",
       "      <td>89.6</td>\n",
       "      <td>1.1296</td>\n",
       "      <td>24.0</td>\n",
       "      <td>666.0</td>\n",
       "      <td>20.2</td>\n",
       "      <td>347.88</td>\n",
       "      <td>8.88</td>\n",
       "    </tr>\n",
       "    <tr>\n",
       "      <th>375</th>\n",
       "      <td>19.60910</td>\n",
       "      <td>0.0</td>\n",
       "      <td>18.10</td>\n",
       "      <td>0.0</td>\n",
       "      <td>0.671</td>\n",
       "      <td>7.313</td>\n",
       "      <td>97.9</td>\n",
       "      <td>1.3163</td>\n",
       "      <td>24.0</td>\n",
       "      <td>666.0</td>\n",
       "      <td>20.2</td>\n",
       "      <td>396.90</td>\n",
       "      <td>13.44</td>\n",
       "    </tr>\n",
       "    <tr>\n",
       "      <th>399</th>\n",
       "      <td>9.91655</td>\n",
       "      <td>0.0</td>\n",
       "      <td>18.10</td>\n",
       "      <td>0.0</td>\n",
       "      <td>0.693</td>\n",
       "      <td>5.852</td>\n",
       "      <td>77.8</td>\n",
       "      <td>1.5004</td>\n",
       "      <td>24.0</td>\n",
       "      <td>666.0</td>\n",
       "      <td>20.2</td>\n",
       "      <td>338.16</td>\n",
       "      <td>29.97</td>\n",
       "    </tr>\n",
       "    <tr>\n",
       "      <th>489</th>\n",
       "      <td>0.18337</td>\n",
       "      <td>0.0</td>\n",
       "      <td>27.74</td>\n",
       "      <td>0.0</td>\n",
       "      <td>0.609</td>\n",
       "      <td>5.414</td>\n",
       "      <td>98.3</td>\n",
       "      <td>1.7554</td>\n",
       "      <td>4.0</td>\n",
       "      <td>711.0</td>\n",
       "      <td>20.1</td>\n",
       "      <td>344.05</td>\n",
       "      <td>23.97</td>\n",
       "    </tr>\n",
       "    <tr>\n",
       "      <th>409</th>\n",
       "      <td>14.43830</td>\n",
       "      <td>0.0</td>\n",
       "      <td>18.10</td>\n",
       "      <td>0.0</td>\n",
       "      <td>0.597</td>\n",
       "      <td>6.852</td>\n",
       "      <td>100.0</td>\n",
       "      <td>1.4655</td>\n",
       "      <td>24.0</td>\n",
       "      <td>666.0</td>\n",
       "      <td>20.2</td>\n",
       "      <td>179.36</td>\n",
       "      <td>19.78</td>\n",
       "    </tr>\n",
       "    <tr>\n",
       "      <th>410</th>\n",
       "      <td>51.13580</td>\n",
       "      <td>0.0</td>\n",
       "      <td>18.10</td>\n",
       "      <td>0.0</td>\n",
       "      <td>0.597</td>\n",
       "      <td>5.757</td>\n",
       "      <td>100.0</td>\n",
       "      <td>1.4130</td>\n",
       "      <td>24.0</td>\n",
       "      <td>666.0</td>\n",
       "      <td>20.2</td>\n",
       "      <td>2.60</td>\n",
       "      <td>10.11</td>\n",
       "    </tr>\n",
       "    <tr>\n",
       "      <th>405</th>\n",
       "      <td>67.92080</td>\n",
       "      <td>0.0</td>\n",
       "      <td>18.10</td>\n",
       "      <td>0.0</td>\n",
       "      <td>0.693</td>\n",
       "      <td>5.683</td>\n",
       "      <td>100.0</td>\n",
       "      <td>1.4254</td>\n",
       "      <td>24.0</td>\n",
       "      <td>666.0</td>\n",
       "      <td>20.2</td>\n",
       "      <td>384.97</td>\n",
       "      <td>22.98</td>\n",
       "    </tr>\n",
       "    <tr>\n",
       "      <th>412</th>\n",
       "      <td>18.81100</td>\n",
       "      <td>0.0</td>\n",
       "      <td>18.10</td>\n",
       "      <td>0.0</td>\n",
       "      <td>0.597</td>\n",
       "      <td>4.628</td>\n",
       "      <td>100.0</td>\n",
       "      <td>1.5539</td>\n",
       "      <td>24.0</td>\n",
       "      <td>666.0</td>\n",
       "      <td>20.2</td>\n",
       "      <td>28.79</td>\n",
       "      <td>34.37</td>\n",
       "    </tr>\n",
       "    <tr>\n",
       "      <th>490</th>\n",
       "      <td>0.20746</td>\n",
       "      <td>0.0</td>\n",
       "      <td>27.74</td>\n",
       "      <td>0.0</td>\n",
       "      <td>0.609</td>\n",
       "      <td>5.093</td>\n",
       "      <td>98.0</td>\n",
       "      <td>1.8226</td>\n",
       "      <td>4.0</td>\n",
       "      <td>711.0</td>\n",
       "      <td>20.1</td>\n",
       "      <td>318.43</td>\n",
       "      <td>29.68</td>\n",
       "    </tr>\n",
       "  </tbody>\n",
       "</table>\n",
       "</div>"
      ],
      "text/plain": [
       "         CRIM   ZN  INDUS  CHAS    NOX     RM    AGE     DIS   RAD    TAX  \\\n",
       "364   3.47428  0.0  18.10   1.0  0.718  8.780   82.9  1.9047  24.0  666.0   \n",
       "372   8.26725  0.0  18.10   1.0  0.668  5.875   89.6  1.1296  24.0  666.0   \n",
       "375  19.60910  0.0  18.10   0.0  0.671  7.313   97.9  1.3163  24.0  666.0   \n",
       "399   9.91655  0.0  18.10   0.0  0.693  5.852   77.8  1.5004  24.0  666.0   \n",
       "489   0.18337  0.0  27.74   0.0  0.609  5.414   98.3  1.7554   4.0  711.0   \n",
       "409  14.43830  0.0  18.10   0.0  0.597  6.852  100.0  1.4655  24.0  666.0   \n",
       "410  51.13580  0.0  18.10   0.0  0.597  5.757  100.0  1.4130  24.0  666.0   \n",
       "405  67.92080  0.0  18.10   0.0  0.693  5.683  100.0  1.4254  24.0  666.0   \n",
       "412  18.81100  0.0  18.10   0.0  0.597  4.628  100.0  1.5539  24.0  666.0   \n",
       "490   0.20746  0.0  27.74   0.0  0.609  5.093   98.0  1.8226   4.0  711.0   \n",
       "\n",
       "     PTRATIO       B  LSTAT  \n",
       "364     20.2  354.55   5.29  \n",
       "372     20.2  347.88   8.88  \n",
       "375     20.2  396.90  13.44  \n",
       "399     20.2  338.16  29.97  \n",
       "489     20.1  344.05  23.97  \n",
       "409     20.2  179.36  19.78  \n",
       "410     20.2    2.60  10.11  \n",
       "405     20.2  384.97  22.98  \n",
       "412     20.2   28.79  34.37  \n",
       "490     20.1  318.43  29.68  "
      ]
     },
     "execution_count": 55,
     "metadata": {},
     "output_type": "execute_result"
    }
   ],
   "source": [
    "df.loc[pred_std.head(10).index]"
   ]
  },
  {
   "cell_type": "markdown",
   "metadata": {},
   "source": [
    "Rows with the least variation.  These appear to be average observations that occur in the center of the training data."
   ]
  },
  {
   "cell_type": "code",
   "execution_count": 56,
   "metadata": {},
   "outputs": [
    {
     "data": {
      "text/html": [
       "<div>\n",
       "<style scoped>\n",
       "    .dataframe tbody tr th:only-of-type {\n",
       "        vertical-align: middle;\n",
       "    }\n",
       "\n",
       "    .dataframe tbody tr th {\n",
       "        vertical-align: top;\n",
       "    }\n",
       "\n",
       "    .dataframe thead th {\n",
       "        text-align: right;\n",
       "    }\n",
       "</style>\n",
       "<table border=\"1\" class=\"dataframe\">\n",
       "  <thead>\n",
       "    <tr style=\"text-align: right;\">\n",
       "      <th></th>\n",
       "      <th>CRIM</th>\n",
       "      <th>ZN</th>\n",
       "      <th>INDUS</th>\n",
       "      <th>CHAS</th>\n",
       "      <th>NOX</th>\n",
       "      <th>RM</th>\n",
       "      <th>AGE</th>\n",
       "      <th>DIS</th>\n",
       "      <th>RAD</th>\n",
       "      <th>TAX</th>\n",
       "      <th>PTRATIO</th>\n",
       "      <th>B</th>\n",
       "      <th>LSTAT</th>\n",
       "    </tr>\n",
       "  </thead>\n",
       "  <tbody>\n",
       "    <tr>\n",
       "      <th>280</th>\n",
       "      <td>0.03578</td>\n",
       "      <td>20.0</td>\n",
       "      <td>3.33</td>\n",
       "      <td>0.0</td>\n",
       "      <td>0.4429</td>\n",
       "      <td>7.820</td>\n",
       "      <td>64.5</td>\n",
       "      <td>4.6947</td>\n",
       "      <td>5.0</td>\n",
       "      <td>216.0</td>\n",
       "      <td>14.9</td>\n",
       "      <td>387.31</td>\n",
       "      <td>3.76</td>\n",
       "    </tr>\n",
       "    <tr>\n",
       "      <th>74</th>\n",
       "      <td>0.07896</td>\n",
       "      <td>0.0</td>\n",
       "      <td>12.83</td>\n",
       "      <td>0.0</td>\n",
       "      <td>0.4370</td>\n",
       "      <td>6.273</td>\n",
       "      <td>6.0</td>\n",
       "      <td>4.2515</td>\n",
       "      <td>5.0</td>\n",
       "      <td>398.0</td>\n",
       "      <td>18.7</td>\n",
       "      <td>394.92</td>\n",
       "      <td>6.78</td>\n",
       "    </tr>\n",
       "    <tr>\n",
       "      <th>271</th>\n",
       "      <td>0.16211</td>\n",
       "      <td>20.0</td>\n",
       "      <td>6.96</td>\n",
       "      <td>0.0</td>\n",
       "      <td>0.4640</td>\n",
       "      <td>6.240</td>\n",
       "      <td>16.3</td>\n",
       "      <td>4.4290</td>\n",
       "      <td>3.0</td>\n",
       "      <td>223.0</td>\n",
       "      <td>18.6</td>\n",
       "      <td>396.90</td>\n",
       "      <td>6.59</td>\n",
       "    </tr>\n",
       "    <tr>\n",
       "      <th>287</th>\n",
       "      <td>0.03871</td>\n",
       "      <td>52.5</td>\n",
       "      <td>5.32</td>\n",
       "      <td>0.0</td>\n",
       "      <td>0.4050</td>\n",
       "      <td>6.209</td>\n",
       "      <td>31.3</td>\n",
       "      <td>7.3172</td>\n",
       "      <td>6.0</td>\n",
       "      <td>293.0</td>\n",
       "      <td>16.6</td>\n",
       "      <td>396.90</td>\n",
       "      <td>7.14</td>\n",
       "    </tr>\n",
       "    <tr>\n",
       "      <th>250</th>\n",
       "      <td>0.14030</td>\n",
       "      <td>22.0</td>\n",
       "      <td>5.86</td>\n",
       "      <td>0.0</td>\n",
       "      <td>0.4310</td>\n",
       "      <td>6.487</td>\n",
       "      <td>13.0</td>\n",
       "      <td>7.3967</td>\n",
       "      <td>7.0</td>\n",
       "      <td>330.0</td>\n",
       "      <td>19.1</td>\n",
       "      <td>396.28</td>\n",
       "      <td>5.90</td>\n",
       "    </tr>\n",
       "    <tr>\n",
       "      <th>70</th>\n",
       "      <td>0.08826</td>\n",
       "      <td>0.0</td>\n",
       "      <td>10.81</td>\n",
       "      <td>0.0</td>\n",
       "      <td>0.4130</td>\n",
       "      <td>6.417</td>\n",
       "      <td>6.6</td>\n",
       "      <td>5.2873</td>\n",
       "      <td>4.0</td>\n",
       "      <td>305.0</td>\n",
       "      <td>19.2</td>\n",
       "      <td>383.73</td>\n",
       "      <td>6.72</td>\n",
       "    </tr>\n",
       "    <tr>\n",
       "      <th>288</th>\n",
       "      <td>0.04590</td>\n",
       "      <td>52.5</td>\n",
       "      <td>5.32</td>\n",
       "      <td>0.0</td>\n",
       "      <td>0.4050</td>\n",
       "      <td>6.315</td>\n",
       "      <td>45.6</td>\n",
       "      <td>7.3172</td>\n",
       "      <td>6.0</td>\n",
       "      <td>293.0</td>\n",
       "      <td>16.6</td>\n",
       "      <td>396.90</td>\n",
       "      <td>7.60</td>\n",
       "    </tr>\n",
       "    <tr>\n",
       "      <th>43</th>\n",
       "      <td>0.15936</td>\n",
       "      <td>0.0</td>\n",
       "      <td>6.91</td>\n",
       "      <td>0.0</td>\n",
       "      <td>0.4480</td>\n",
       "      <td>6.211</td>\n",
       "      <td>6.5</td>\n",
       "      <td>5.7209</td>\n",
       "      <td>3.0</td>\n",
       "      <td>233.0</td>\n",
       "      <td>17.9</td>\n",
       "      <td>394.46</td>\n",
       "      <td>7.44</td>\n",
       "    </tr>\n",
       "    <tr>\n",
       "      <th>321</th>\n",
       "      <td>0.18159</td>\n",
       "      <td>0.0</td>\n",
       "      <td>7.38</td>\n",
       "      <td>0.0</td>\n",
       "      <td>0.4930</td>\n",
       "      <td>6.376</td>\n",
       "      <td>54.3</td>\n",
       "      <td>4.5404</td>\n",
       "      <td>5.0</td>\n",
       "      <td>287.0</td>\n",
       "      <td>19.6</td>\n",
       "      <td>396.90</td>\n",
       "      <td>6.87</td>\n",
       "    </tr>\n",
       "    <tr>\n",
       "      <th>320</th>\n",
       "      <td>0.16760</td>\n",
       "      <td>0.0</td>\n",
       "      <td>7.38</td>\n",
       "      <td>0.0</td>\n",
       "      <td>0.4930</td>\n",
       "      <td>6.426</td>\n",
       "      <td>52.3</td>\n",
       "      <td>4.5404</td>\n",
       "      <td>5.0</td>\n",
       "      <td>287.0</td>\n",
       "      <td>19.6</td>\n",
       "      <td>396.90</td>\n",
       "      <td>7.20</td>\n",
       "    </tr>\n",
       "  </tbody>\n",
       "</table>\n",
       "</div>"
      ],
      "text/plain": [
       "        CRIM    ZN  INDUS  CHAS     NOX     RM   AGE     DIS  RAD    TAX  \\\n",
       "280  0.03578  20.0   3.33   0.0  0.4429  7.820  64.5  4.6947  5.0  216.0   \n",
       "74   0.07896   0.0  12.83   0.0  0.4370  6.273   6.0  4.2515  5.0  398.0   \n",
       "271  0.16211  20.0   6.96   0.0  0.4640  6.240  16.3  4.4290  3.0  223.0   \n",
       "287  0.03871  52.5   5.32   0.0  0.4050  6.209  31.3  7.3172  6.0  293.0   \n",
       "250  0.14030  22.0   5.86   0.0  0.4310  6.487  13.0  7.3967  7.0  330.0   \n",
       "70   0.08826   0.0  10.81   0.0  0.4130  6.417   6.6  5.2873  4.0  305.0   \n",
       "288  0.04590  52.5   5.32   0.0  0.4050  6.315  45.6  7.3172  6.0  293.0   \n",
       "43   0.15936   0.0   6.91   0.0  0.4480  6.211   6.5  5.7209  3.0  233.0   \n",
       "321  0.18159   0.0   7.38   0.0  0.4930  6.376  54.3  4.5404  5.0  287.0   \n",
       "320  0.16760   0.0   7.38   0.0  0.4930  6.426  52.3  4.5404  5.0  287.0   \n",
       "\n",
       "     PTRATIO       B  LSTAT  \n",
       "280     14.9  387.31   3.76  \n",
       "74      18.7  394.92   6.78  \n",
       "271     18.6  396.90   6.59  \n",
       "287     16.6  396.90   7.14  \n",
       "250     19.1  396.28   5.90  \n",
       "70      19.2  383.73   6.72  \n",
       "288     16.6  396.90   7.60  \n",
       "43      17.9  394.46   7.44  \n",
       "321     19.6  396.90   6.87  \n",
       "320     19.6  396.90   7.20  "
      ]
     },
     "execution_count": 56,
     "metadata": {},
     "output_type": "execute_result"
    }
   ],
   "source": [
    "df.loc[pred_std.tail(10).index]"
   ]
  },
  {
   "cell_type": "markdown",
   "metadata": {},
   "source": [
    "Minimum and maximum for each of attribute"
   ]
  },
  {
   "cell_type": "code",
   "execution_count": 57,
   "metadata": {},
   "outputs": [
    {
     "data": {
      "text/html": [
       "<div>\n",
       "<style scoped>\n",
       "    .dataframe tbody tr th:only-of-type {\n",
       "        vertical-align: middle;\n",
       "    }\n",
       "\n",
       "    .dataframe tbody tr th {\n",
       "        vertical-align: top;\n",
       "    }\n",
       "\n",
       "    .dataframe thead th {\n",
       "        text-align: right;\n",
       "    }\n",
       "</style>\n",
       "<table border=\"1\" class=\"dataframe\">\n",
       "  <thead>\n",
       "    <tr style=\"text-align: right;\">\n",
       "      <th></th>\n",
       "      <th>min</th>\n",
       "      <th>max</th>\n",
       "    </tr>\n",
       "  </thead>\n",
       "  <tbody>\n",
       "    <tr>\n",
       "      <th>CRIM</th>\n",
       "      <td>0.00632</td>\n",
       "      <td>88.9762</td>\n",
       "    </tr>\n",
       "    <tr>\n",
       "      <th>ZN</th>\n",
       "      <td>0.00000</td>\n",
       "      <td>100.0000</td>\n",
       "    </tr>\n",
       "    <tr>\n",
       "      <th>INDUS</th>\n",
       "      <td>0.46000</td>\n",
       "      <td>27.7400</td>\n",
       "    </tr>\n",
       "    <tr>\n",
       "      <th>CHAS</th>\n",
       "      <td>0.00000</td>\n",
       "      <td>1.0000</td>\n",
       "    </tr>\n",
       "    <tr>\n",
       "      <th>NOX</th>\n",
       "      <td>0.38500</td>\n",
       "      <td>0.8710</td>\n",
       "    </tr>\n",
       "    <tr>\n",
       "      <th>RM</th>\n",
       "      <td>3.56100</td>\n",
       "      <td>8.7800</td>\n",
       "    </tr>\n",
       "    <tr>\n",
       "      <th>AGE</th>\n",
       "      <td>2.90000</td>\n",
       "      <td>100.0000</td>\n",
       "    </tr>\n",
       "    <tr>\n",
       "      <th>DIS</th>\n",
       "      <td>1.12960</td>\n",
       "      <td>12.1265</td>\n",
       "    </tr>\n",
       "    <tr>\n",
       "      <th>RAD</th>\n",
       "      <td>1.00000</td>\n",
       "      <td>24.0000</td>\n",
       "    </tr>\n",
       "    <tr>\n",
       "      <th>TAX</th>\n",
       "      <td>187.00000</td>\n",
       "      <td>711.0000</td>\n",
       "    </tr>\n",
       "    <tr>\n",
       "      <th>PTRATIO</th>\n",
       "      <td>12.60000</td>\n",
       "      <td>22.0000</td>\n",
       "    </tr>\n",
       "    <tr>\n",
       "      <th>B</th>\n",
       "      <td>0.32000</td>\n",
       "      <td>396.9000</td>\n",
       "    </tr>\n",
       "    <tr>\n",
       "      <th>LSTAT</th>\n",
       "      <td>1.73000</td>\n",
       "      <td>37.9700</td>\n",
       "    </tr>\n",
       "  </tbody>\n",
       "</table>\n",
       "</div>"
      ],
      "text/plain": [
       "               min       max\n",
       "CRIM       0.00632   88.9762\n",
       "ZN         0.00000  100.0000\n",
       "INDUS      0.46000   27.7400\n",
       "CHAS       0.00000    1.0000\n",
       "NOX        0.38500    0.8710\n",
       "RM         3.56100    8.7800\n",
       "AGE        2.90000  100.0000\n",
       "DIS        1.12960   12.1265\n",
       "RAD        1.00000   24.0000\n",
       "TAX      187.00000  711.0000\n",
       "PTRATIO   12.60000   22.0000\n",
       "B          0.32000  396.9000\n",
       "LSTAT      1.73000   37.9700"
      ]
     },
     "execution_count": 57,
     "metadata": {},
     "output_type": "execute_result"
    }
   ],
   "source": [
    "df.apply(lambda x: pd.Series({\"min\": x.min(), \"max\": x.max()})).T"
   ]
  }
 ],
 "metadata": {
  "kernelspec": {
   "display_name": "Python 3",
   "language": "python",
   "name": "python3"
  },
  "language_info": {
   "codemirror_mode": {
    "name": "ipython",
    "version": 3
   },
   "file_extension": ".py",
   "mimetype": "text/x-python",
   "name": "python",
   "nbconvert_exporter": "python",
   "pygments_lexer": "ipython3",
   "version": "3.6.5"
  }
 },
 "nbformat": 4,
 "nbformat_minor": 2
}
