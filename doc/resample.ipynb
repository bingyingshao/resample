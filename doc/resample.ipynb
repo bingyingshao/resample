{
 "cells": [
  {
   "cell_type": "markdown",
   "metadata": {},
   "source": [
    "## resample"
   ]
  },
  {
   "cell_type": "code",
   "execution_count": 1,
   "metadata": {},
   "outputs": [],
   "source": [
    "import warnings\n",
    "import numpy as np\n",
    "import scipy.stats as stats\n",
    "import pandas as pd\n",
    "from resample import permutation, bootstrap, utils\n",
    "from sklearn.datasets import load_boston\n",
    "import seaborn as sns\n",
    "\n",
    "warnings.simplefilter(\"ignore\")"
   ]
  },
  {
   "cell_type": "markdown",
   "metadata": {},
   "source": [
    "## Basic Functionality"
   ]
  },
  {
   "cell_type": "markdown",
   "metadata": {},
   "source": [
    "#### Generating bootstrap samples"
   ]
  },
  {
   "cell_type": "code",
   "execution_count": 2,
   "metadata": {},
   "outputs": [
    {
     "data": {
      "text/plain": [
       "array([-0.29656605,  0.07534743, -0.52224245, -0.78325863, -0.41035495,\n",
       "       -0.4356161 , -1.51199952, -1.80609202,  1.47350599, -2.3066097 ,\n",
       "       -1.35834249,  0.52980643,  0.37418859, -1.8839711 , -0.68349536,\n",
       "        0.98135413, -1.0680027 , -0.61047979,  1.04843691, -1.42189968,\n",
       "       -0.56930293, -0.26351855, -0.3459307 ,  0.29396125, -1.01616749])"
      ]
     },
     "execution_count": 2,
     "metadata": {},
     "output_type": "execute_result"
    }
   ],
   "source": [
    "x = np.random.randn(25)\n",
    "x"
   ]
  },
  {
   "cell_type": "markdown",
   "metadata": {},
   "source": [
    "The default is a balanced bootstrap.  This means that each element has the same distribution over all bootstrap samples as in the original sample (this is a technique used to reduce Monte Carlo variance caused by using only a finite number of bootstrap iterations)."
   ]
  },
  {
   "cell_type": "code",
   "execution_count": 3,
   "metadata": {},
   "outputs": [
    {
     "data": {
      "text/plain": [
       "array([[-1.35834249, -1.0680027 ,  0.37418859, ..., -1.8839711 ,\n",
       "        -1.80609202,  0.37418859],\n",
       "       [-1.80609202, -0.68349536, -2.3066097 , ..., -1.01616749,\n",
       "         1.47350599, -1.8839711 ],\n",
       "       [ 1.04843691,  0.52980643, -0.26351855, ..., -1.35834249,\n",
       "         0.52980643, -0.41035495],\n",
       "       ...,\n",
       "       [ 0.07534743, -0.68349536, -1.8839711 , ..., -1.8839711 ,\n",
       "        -0.68349536, -0.4356161 ],\n",
       "       [-0.78325863, -0.4356161 , -0.41035495, ..., -1.42189968,\n",
       "        -0.41035495, -1.80609202],\n",
       "       [-0.52224245, -0.56930293, -0.78325863, ...,  0.52980643,\n",
       "         1.04843691, -0.41035495]])"
      ]
     },
     "execution_count": 3,
     "metadata": {},
     "output_type": "execute_result"
    }
   ],
   "source": [
    "bootstrap.bootstrap(x)"
   ]
  },
  {
   "cell_type": "markdown",
   "metadata": {},
   "source": [
    "Ordinary sampling with replacement can be done by modifying the `method` argument"
   ]
  },
  {
   "cell_type": "code",
   "execution_count": 4,
   "metadata": {},
   "outputs": [
    {
     "data": {
      "text/plain": [
       "array([[-0.78325863, -0.4356161 , -0.56930293, ..., -0.41035495,\n",
       "        -1.0680027 ,  0.98135413],\n",
       "       [-1.80609202, -1.35834249, -1.80609202, ...,  0.07534743,\n",
       "        -2.3066097 , -1.35834249],\n",
       "       [-2.3066097 , -0.68349536, -0.3459307 , ...,  1.04843691,\n",
       "         0.29396125, -1.01616749],\n",
       "       ...,\n",
       "       [-1.35834249, -1.0680027 , -1.51199952, ...,  0.07534743,\n",
       "        -0.78325863, -0.29656605],\n",
       "       [-0.29656605, -0.41035495, -1.01616749, ..., -1.51199952,\n",
       "        -1.0680027 ,  0.07534743],\n",
       "       [ 0.37418859,  0.29396125, -1.01616749, ..., -1.8839711 ,\n",
       "        -1.42189968,  1.47350599]])"
      ]
     },
     "execution_count": 4,
     "metadata": {},
     "output_type": "execute_result"
    }
   ],
   "source": [
    "bootstrap.bootstrap(x, method=\"ordinary\")"
   ]
  },
  {
   "cell_type": "markdown",
   "metadata": {},
   "source": [
    "Bootstrapping of higher-dimensional arrays is also possible, with resampling always occuring along the $0^{\\text{th}}$ axis (rows in the case of a two dimensional array)"
   ]
  },
  {
   "cell_type": "code",
   "execution_count": 5,
   "metadata": {},
   "outputs": [
    {
     "data": {
      "text/plain": [
       "array([[ 1.36004227,  0.65721097],\n",
       "       [ 1.07364633,  0.30937743],\n",
       "       [ 0.08071929,  1.36783581],\n",
       "       [ 0.18985997, -1.4517944 ],\n",
       "       [-0.32419781,  0.13198154],\n",
       "       [-0.18625342, -0.73181373],\n",
       "       [-0.59405932, -0.94902058],\n",
       "       [-0.75864075,  0.82650728],\n",
       "       [ 0.13981603,  0.12599238],\n",
       "       [-1.20945516, -0.12137577]])"
      ]
     },
     "execution_count": 5,
     "metadata": {},
     "output_type": "execute_result"
    }
   ],
   "source": [
    "x = np.random.normal(size=(10, 2))\n",
    "x"
   ]
  },
  {
   "cell_type": "code",
   "execution_count": 6,
   "metadata": {},
   "outputs": [
    {
     "data": {
      "text/plain": [
       "array([[[-0.75864075,  0.82650728],\n",
       "        [ 1.36004227,  0.65721097],\n",
       "        [-0.59405932, -0.94902058],\n",
       "        [ 0.08071929,  1.36783581],\n",
       "        [ 0.13981603,  0.12599238],\n",
       "        [ 1.07364633,  0.30937743],\n",
       "        [ 0.13981603,  0.12599238],\n",
       "        [ 1.36004227,  0.65721097],\n",
       "        [-0.32419781,  0.13198154],\n",
       "        [-0.18625342, -0.73181373]],\n",
       "\n",
       "       [[-0.75864075,  0.82650728],\n",
       "        [ 0.18985997, -1.4517944 ],\n",
       "        [-1.20945516, -0.12137577],\n",
       "        [-0.18625342, -0.73181373],\n",
       "        [-0.32419781,  0.13198154],\n",
       "        [-0.32419781,  0.13198154],\n",
       "        [ 0.08071929,  1.36783581],\n",
       "        [-0.59405932, -0.94902058],\n",
       "        [ 0.18985997, -1.4517944 ],\n",
       "        [-0.18625342, -0.73181373]],\n",
       "\n",
       "       [[ 0.08071929,  1.36783581],\n",
       "        [ 1.07364633,  0.30937743],\n",
       "        [ 1.07364633,  0.30937743],\n",
       "        [-1.20945516, -0.12137577],\n",
       "        [ 0.18985997, -1.4517944 ],\n",
       "        [-0.59405932, -0.94902058],\n",
       "        [-0.75864075,  0.82650728],\n",
       "        [ 0.13981603,  0.12599238],\n",
       "        [ 1.36004227,  0.65721097],\n",
       "        [-1.20945516, -0.12137577]]])"
      ]
     },
     "execution_count": 6,
     "metadata": {},
     "output_type": "execute_result"
    }
   ],
   "source": [
    "bootstrap.bootstrap(x, b=3)"
   ]
  },
  {
   "cell_type": "markdown",
   "metadata": {},
   "source": [
    "`bootstrap` can be called on any array-like object"
   ]
  },
  {
   "cell_type": "code",
   "execution_count": 7,
   "metadata": {},
   "outputs": [
    {
     "data": {
      "text/plain": [
       "array([['b', 'd', 'd', 'c'],\n",
       "       ['d', 'b', 'd', 'b'],\n",
       "       ['d', 'a', 'c', 'a'],\n",
       "       ['c', 'a', 'd', 'c'],\n",
       "       ['d', 'b', 'c', 'a'],\n",
       "       ['b', 'b', 'd', 'a'],\n",
       "       ['b', 'd', 'c', 'a'],\n",
       "       ['c', 'c', 'a', 'a'],\n",
       "       ['b', 'b', 'd', 'a'],\n",
       "       ['b', 'c', 'a', 'c']], dtype='<U1')"
      ]
     },
     "execution_count": 7,
     "metadata": {},
     "output_type": "execute_result"
    }
   ],
   "source": [
    "bootstrap.bootstrap(list(\"abcd\"), b=10)"
   ]
  },
  {
   "cell_type": "code",
   "execution_count": 8,
   "metadata": {},
   "outputs": [
    {
     "data": {
      "text/plain": [
       "array([[{'a': 1, 'b': 2}, {'a': 1, 'b': 2}, {'a': 1, 'b': 2}],\n",
       "       [{'a', 5}, {'c': 5, 'd': 3}, {'c': 5, 'd': 3}],\n",
       "       [{'a', 5}, {'a': 1, 'b': 2}, {'a', 5}],\n",
       "       [{'a', 5}, {'c': 5, 'd': 3}, {'c': 5, 'd': 3}],\n",
       "       [{'a', 5}, {'a': 1, 'b': 2}, {'c': 5, 'd': 3}],\n",
       "       [{'a', 5}, {'a', 5}, {'a', 5}],\n",
       "       [{'a', 5}, {'c': 5, 'd': 3}, {'a': 1, 'b': 2}],\n",
       "       [{'c': 5, 'd': 3}, {'c': 5, 'd': 3}, {'a', 5}],\n",
       "       [{'a': 1, 'b': 2}, {'a': 1, 'b': 2}, {'c': 5, 'd': 3}],\n",
       "       [{'c': 5, 'd': 3}, {'a': 1, 'b': 2}, {'a': 1, 'b': 2}]],\n",
       "      dtype=object)"
      ]
     },
     "execution_count": 8,
     "metadata": {},
     "output_type": "execute_result"
    }
   ],
   "source": [
    "bootstrap.bootstrap([{\"a\": 1, \"b\": 2}, {\"a\", 5}, {\"c\": 5, \"d\": 3}], b=10)"
   ]
  },
  {
   "cell_type": "markdown",
   "metadata": {},
   "source": [
    "This includes `numpy` arrays of arbitrary dimension"
   ]
  },
  {
   "cell_type": "code",
   "execution_count": 9,
   "metadata": {},
   "outputs": [
    {
     "data": {
      "text/plain": [
       "(100, 32, 16, 8, 4, 2)"
      ]
     },
     "execution_count": 9,
     "metadata": {},
     "output_type": "execute_result"
    }
   ],
   "source": [
    "x = np.random.normal(size=(32, 16, 8, 4, 2))\n",
    "bootstrap.bootstrap(x).shape"
   ]
  },
  {
   "cell_type": "markdown",
   "metadata": {},
   "source": [
    "#### Stratified sampling"
   ]
  },
  {
   "cell_type": "markdown",
   "metadata": {},
   "source": [
    "By using the `strata` argument we can ensure that the distributions of specific classes are maintained over all bootstrap samples.  This is especially useful in classification tasks where we wish to eliminate unwanted variance with respect to the class proportions when modeling.  To illustrate we create an indicator for whether or not the value of `x` is negative and pass this to `strata` when generating our samples.  (The value of `strata` can be of any type, it only needs to have the same length as the input array.  The stratification will simply be done with respect to the distinct values of the argument.)"
   ]
  },
  {
   "cell_type": "code",
   "execution_count": 10,
   "metadata": {},
   "outputs": [
    {
     "data": {
      "text/plain": [
       "array([ 0.72702849, -0.27128418, -0.83663856,  0.57710267,  0.87171733,\n",
       "        0.0059373 ,  1.3261909 ,  0.03876052,  0.15329282,  0.45596825,\n",
       "       -0.29719526, -0.82861159, -0.92897268, -0.09843855,  0.08241022,\n",
       "        0.50212602, -1.02848199, -1.64882071,  0.94468391, -1.47530147,\n",
       "       -0.73550768, -2.07417922, -0.25317472,  0.02367116,  0.28747802])"
      ]
     },
     "execution_count": 10,
     "metadata": {},
     "output_type": "execute_result"
    }
   ],
   "source": [
    "x = np.random.randn(25)\n",
    "x"
   ]
  },
  {
   "cell_type": "code",
   "execution_count": 11,
   "metadata": {},
   "outputs": [
    {
     "data": {
      "text/plain": [
       "0.48"
      ]
     },
     "execution_count": 11,
     "metadata": {},
     "output_type": "execute_result"
    }
   ],
   "source": [
    "y = x < 0\n",
    "np.mean(y)"
   ]
  },
  {
   "cell_type": "markdown",
   "metadata": {},
   "source": [
    "All bootstrap samples have the same proportion of negative values as in `x`"
   ]
  },
  {
   "cell_type": "code",
   "execution_count": 12,
   "metadata": {},
   "outputs": [
    {
     "data": {
      "text/plain": [
       "[0.48, 0.48, 0.48, 0.48, 0.48, 0.48, 0.48, 0.48, 0.48, 0.48]"
      ]
     },
     "execution_count": 12,
     "metadata": {},
     "output_type": "execute_result"
    }
   ],
   "source": [
    "boot = bootstrap.bootstrap(x, b=10, strata=y)\n",
    "[np.mean(s < 0) for s in boot]"
   ]
  },
  {
   "cell_type": "markdown",
   "metadata": {},
   "source": [
    "#### Applying functions to bootstrap samples"
   ]
  },
  {
   "cell_type": "markdown",
   "metadata": {},
   "source": [
    "An optional function `f` can be applied to each bootstrap sample"
   ]
  },
  {
   "cell_type": "code",
   "execution_count": 13,
   "metadata": {},
   "outputs": [
    {
     "data": {
      "text/plain": [
       "array([0.5892087 , 0.5574811 , 0.86641513, 0.94656258, 0.5369814 ,\n",
       "       0.58692243, 0.61491011, 0.5488679 , 0.81898949, 0.69233318])"
      ]
     },
     "execution_count": 13,
     "metadata": {},
     "output_type": "execute_result"
    }
   ],
   "source": [
    "bootstrap.bootstrap(x, f=np.var, b=10)"
   ]
  },
  {
   "cell_type": "markdown",
   "metadata": {},
   "source": [
    "`f` can have any return value, the only requirement is that it accept the bootstrapped elements as inputs.  Here we return an entire dictionary of summary statistics."
   ]
  },
  {
   "cell_type": "code",
   "execution_count": 14,
   "metadata": {},
   "outputs": [
    {
     "data": {
      "text/plain": [
       "array([{'min': -2.0741792160649166, 'median': -0.09843854752034874, 'iqr': 0.911021804019155, 'max': 1.3261909006760153},\n",
       "       {'min': -2.0741792160649166, 'median': 0.03876052357778216, 'iqr': 1.4310987009549891, 'max': 0.8717173319092997},\n",
       "       {'min': -1.4753014662483692, 'median': 0.02367116116021441, 'iqr': 0.7993212766063782, 'max': 0.9446839051410235},\n",
       "       {'min': -1.6488207122503642, 'median': 0.02367116116021441, 'iqr': 1.237633700455922, 'max': 1.3261909006760153},\n",
       "       {'min': -2.0741792160649166, 'median': -0.25317471711372685, 'iqr': 1.3849409340052576, 'max': 0.9446839051410235},\n",
       "       {'min': -2.0741792160649166, 'median': 0.15329281796174393, 'iqr': 0.9983126698440339, 'max': 1.3261909006760153},\n",
       "       {'min': -1.6488207122503642, 'median': -0.29719525675308334, 'iqr': 1.0113828995946432, 'max': 1.3261909006760153},\n",
       "       {'min': -1.6488207122503642, 'median': -0.09843854752034874, 'iqr': 1.0822654990634382, 'max': 1.3261909006760153},\n",
       "       {'min': -1.0284819858131211, 'median': 0.005937295089814656, 'iqr': 0.45048807471482727, 'max': 1.3261909006760153},\n",
       "       {'min': -2.0741792160649166, 'median': -0.09843854752034874, 'iqr': 0.9190487826069044, 'max': 1.3261909006760153}],\n",
       "      dtype=object)"
      ]
     },
     "execution_count": 14,
     "metadata": {},
     "output_type": "execute_result"
    }
   ],
   "source": [
    "def summary(s):\n",
    "    return {\"min\": np.min(s),\n",
    "            \"median\": np.median(s),\n",
    "            \"iqr\": stats.iqr(s),\n",
    "            \"max\": np.max(s)}\n",
    "\n",
    "bootstrap.bootstrap(x, f=summary, b=10)"
   ]
  },
  {
   "cell_type": "markdown",
   "metadata": {},
   "source": [
    "#### Confidence intervals\n",
    "\n",
    "The `bootstrap_ci` function provides implementations of various methods for calculating bootstrap confidence intervals (e.g., percentile, BCA and bootstrap $t$)"
   ]
  },
  {
   "cell_type": "code",
   "execution_count": 15,
   "metadata": {},
   "outputs": [
    {
     "data": {
      "text/plain": [
       "array([ 0.40926036, -0.44007378,  1.7712611 , -0.89676204,  0.89596196,\n",
       "       -1.36537294, -0.32295212, -0.08766879,  0.07946489,  0.46098012,\n",
       "        0.89512412,  0.23178896, -1.22790425,  0.45962138,  0.69402408,\n",
       "       -1.82224042, -0.15902052,  0.51637099, -0.14712054, -0.96534625,\n",
       "        0.47238515,  0.13778254,  0.84315605,  0.38578804, -1.03215432])"
      ]
     },
     "execution_count": 15,
     "metadata": {},
     "output_type": "execute_result"
    }
   ],
   "source": [
    "x = np.random.randn(25)\n",
    "x"
   ]
  },
  {
   "cell_type": "markdown",
   "metadata": {},
   "source": [
    "The default is a percentile interval"
   ]
  },
  {
   "cell_type": "code",
   "execution_count": 16,
   "metadata": {},
   "outputs": [
    {
     "data": {
      "text/plain": [
       "(0.21832619558431235, 1.043078573349724)"
      ]
     },
     "execution_count": 16,
     "metadata": {},
     "output_type": "execute_result"
    }
   ],
   "source": [
    "bootstrap.bootstrap_ci(x, f=np.var)"
   ]
  },
  {
   "cell_type": "markdown",
   "metadata": {},
   "source": [
    "The `ci_method` argument controls the confidence interval method"
   ]
  },
  {
   "cell_type": "code",
   "execution_count": 17,
   "metadata": {},
   "outputs": [
    {
     "data": {
      "text/plain": [
       "(0.3405389409243889, 1.0330002793561892)"
      ]
     },
     "execution_count": 17,
     "metadata": {},
     "output_type": "execute_result"
    }
   ],
   "source": [
    "ci = bootstrap.bootstrap_ci(x, f=np.var, b=10000, ci_method=\"percentile\", random_state=2357)\n",
    "ci"
   ]
  },
  {
   "cell_type": "markdown",
   "metadata": {},
   "source": [
    "Length"
   ]
  },
  {
   "cell_type": "code",
   "execution_count": 18,
   "metadata": {},
   "outputs": [
    {
     "data": {
      "text/plain": [
       "0.6924613384318004"
      ]
     },
     "execution_count": 18,
     "metadata": {},
     "output_type": "execute_result"
    }
   ],
   "source": [
    "ci[1] - ci[0]"
   ]
  },
  {
   "cell_type": "markdown",
   "metadata": {},
   "source": [
    "Bias-corrected and accelerated"
   ]
  },
  {
   "cell_type": "code",
   "execution_count": 19,
   "metadata": {},
   "outputs": [
    {
     "data": {
      "text/plain": [
       "(0.47076885403016683, 1.1048169087346449)"
      ]
     },
     "execution_count": 19,
     "metadata": {},
     "output_type": "execute_result"
    }
   ],
   "source": [
    "ci = bootstrap.bootstrap_ci(x, f=np.var, b=10000, ci_method=\"bca\", random_state=2357)\n",
    "ci"
   ]
  },
  {
   "cell_type": "markdown",
   "metadata": {},
   "source": [
    "Length"
   ]
  },
  {
   "cell_type": "code",
   "execution_count": 20,
   "metadata": {},
   "outputs": [
    {
     "data": {
      "text/plain": [
       "0.634048054704478"
      ]
     },
     "execution_count": 20,
     "metadata": {},
     "output_type": "execute_result"
    }
   ],
   "source": [
    "ci[1] - ci[0]"
   ]
  },
  {
   "cell_type": "markdown",
   "metadata": {},
   "source": [
    "Bootstrap $t$ (the Studentized bootstrap)"
   ]
  },
  {
   "cell_type": "code",
   "execution_count": 21,
   "metadata": {},
   "outputs": [
    {
     "data": {
      "text/plain": [
       "(0.40013594713077494, 0.9795520186798902)"
      ]
     },
     "execution_count": 21,
     "metadata": {},
     "output_type": "execute_result"
    }
   ],
   "source": [
    "ci = bootstrap.bootstrap_ci(x, f=np.var, b=10000, ci_method=\"t\", random_state=2357)\n",
    "ci"
   ]
  },
  {
   "cell_type": "markdown",
   "metadata": {},
   "source": [
    "Length"
   ]
  },
  {
   "cell_type": "code",
   "execution_count": 22,
   "metadata": {},
   "outputs": [
    {
     "data": {
      "text/plain": [
       "0.5794160715491152"
      ]
     },
     "execution_count": 22,
     "metadata": {},
     "output_type": "execute_result"
    }
   ],
   "source": [
    "ci[1] - ci[0]"
   ]
  },
  {
   "cell_type": "markdown",
   "metadata": {},
   "source": [
    "#### Tools for working with empirical distributions"
   ]
  },
  {
   "cell_type": "code",
   "execution_count": 23,
   "metadata": {},
   "outputs": [],
   "source": [
    "x = np.random.randn(10**4)"
   ]
  },
  {
   "cell_type": "markdown",
   "metadata": {},
   "source": [
    "`ecdf` returns the empirical cumulative distribution function of a sample $\\{ x_i \\}_{i=1}^{n}$\n",
    "\n",
    "$$\n",
    "\\hat{F}_n(s) = n^{-1} \\sum_{i=1}^{n} I(x_i \\leq s) .\n",
    "$$\n",
    "\n",
    "This represents the proportion of the sample less than or equal to $s$."
   ]
  },
  {
   "cell_type": "code",
   "execution_count": 24,
   "metadata": {},
   "outputs": [],
   "source": [
    "F = utils.ecdf(x)"
   ]
  },
  {
   "cell_type": "code",
   "execution_count": 25,
   "metadata": {},
   "outputs": [
    {
     "data": {
      "text/plain": [
       "0.1586"
      ]
     },
     "execution_count": 25,
     "metadata": {},
     "output_type": "execute_result"
    }
   ],
   "source": [
    "F(-1)"
   ]
  },
  {
   "cell_type": "code",
   "execution_count": 26,
   "metadata": {},
   "outputs": [
    {
     "data": {
      "text/plain": [
       "0.4997"
      ]
     },
     "execution_count": 26,
     "metadata": {},
     "output_type": "execute_result"
    }
   ],
   "source": [
    "F(0)"
   ]
  },
  {
   "cell_type": "code",
   "execution_count": 27,
   "metadata": {},
   "outputs": [
    {
     "data": {
      "text/plain": [
       "0.8379"
      ]
     },
     "execution_count": 27,
     "metadata": {},
     "output_type": "execute_result"
    }
   ],
   "source": [
    "F(1)"
   ]
  },
  {
   "cell_type": "markdown",
   "metadata": {},
   "source": [
    "Once the function is created lookups are significantly faster than simply computing a direct average"
   ]
  },
  {
   "cell_type": "code",
   "execution_count": 28,
   "metadata": {},
   "outputs": [
    {
     "name": "stdout",
     "output_type": "stream",
     "text": [
      "1.85 µs ± 88.8 ns per loop (mean ± std. dev. of 7 runs, 1000000 loops each)\n"
     ]
    }
   ],
   "source": [
    "%timeit F(0)"
   ]
  },
  {
   "cell_type": "code",
   "execution_count": 29,
   "metadata": {},
   "outputs": [
    {
     "name": "stdout",
     "output_type": "stream",
     "text": [
      "39.2 µs ± 3.11 µs per loop (mean ± std. dev. of 7 runs, 10000 loops each)\n"
     ]
    }
   ],
   "source": [
    "%timeit np.mean(x <= 0)"
   ]
  },
  {
   "cell_type": "markdown",
   "metadata": {},
   "source": [
    "`eqf` returns the empirical quantile function\n",
    "\n",
    "$$\n",
    "\\hat{G}_n(p) = \\hat{F}_n^{-1}(p) ,\n",
    "$$\n",
    "\n",
    "or the inverse of `ecdf`.\n",
    "\n",
    "(This statement is not strictly speaking true since $\\hat{F}_n$ is not invertible.  To get around this we use linear interpolation between the observed sample points so that $\\hat{F}_n^{-1}$ is well-defined.  The result is that $\\hat{G}_n(p)$ is defined for all $p \\in [0, 1]$.)"
   ]
  },
  {
   "cell_type": "code",
   "execution_count": 30,
   "metadata": {},
   "outputs": [],
   "source": [
    "G = utils.eqf(x)"
   ]
  },
  {
   "cell_type": "code",
   "execution_count": 31,
   "metadata": {},
   "outputs": [
    {
     "data": {
      "text/plain": [
       "-0.6675230143553635"
      ]
     },
     "execution_count": 31,
     "metadata": {},
     "output_type": "execute_result"
    }
   ],
   "source": [
    "G(0.25)"
   ]
  },
  {
   "cell_type": "code",
   "execution_count": 32,
   "metadata": {},
   "outputs": [
    {
     "data": {
      "text/plain": [
       "0.0008463886547689977"
      ]
     },
     "execution_count": 32,
     "metadata": {},
     "output_type": "execute_result"
    }
   ],
   "source": [
    "G(0.5)"
   ]
  },
  {
   "cell_type": "code",
   "execution_count": 33,
   "metadata": {},
   "outputs": [
    {
     "data": {
      "text/plain": [
       "0.68234460308311"
      ]
     },
     "execution_count": 33,
     "metadata": {},
     "output_type": "execute_result"
    }
   ],
   "source": [
    "G(0.75)"
   ]
  },
  {
   "cell_type": "markdown",
   "metadata": {},
   "source": [
    "## Boston Housing Example"
   ]
  },
  {
   "cell_type": "code",
   "execution_count": 34,
   "metadata": {},
   "outputs": [
    {
     "name": "stdout",
     "output_type": "stream",
     "text": [
      "Boston House Prices dataset\n",
      "===========================\n",
      "\n",
      "Notes\n",
      "------\n",
      "Data Set Characteristics:  \n",
      "\n",
      "    :Number of Instances: 506 \n",
      "\n",
      "    :Number of Attributes: 13 numeric/categorical predictive\n",
      "    \n",
      "    :Median Value (attribute 14) is usually the target\n",
      "\n",
      "    :Attribute Information (in order):\n",
      "        - CRIM     per capita crime rate by town\n",
      "        - ZN       proportion of residential land zoned for lots over 25,000 sq.ft.\n",
      "        - INDUS    proportion of non-retail business acres per town\n",
      "        - CHAS     Charles River dummy variable (= 1 if tract bounds river; 0 otherwise)\n",
      "        - NOX      nitric oxides concentration (parts per 10 million)\n",
      "        - RM       average number of rooms per dwelling\n",
      "        - AGE      proportion of owner-occupied units built prior to 1940\n",
      "        - DIS      weighted distances to five Boston employment centres\n",
      "        - RAD      index of accessibility to radial highways\n",
      "        - TAX      full-value property-tax rate per $10,000\n",
      "        - PTRATIO  pupil-teacher ratio by town\n",
      "        - B        1000(Bk - 0.63)^2 where Bk is the proportion of blacks by town\n",
      "        - LSTAT    % lower status of the population\n",
      "        - MEDV     Median value of owner-occupied homes in $1000's\n",
      "\n",
      "    :Missing Attribute Values: None\n",
      "\n",
      "    :Creator: Harrison, D. and Rubinfeld, D.L.\n",
      "\n",
      "This is a copy of UCI ML housing dataset.\n",
      "http://archive.ics.uci.edu/ml/datasets/Housing\n",
      "\n",
      "\n",
      "This dataset was taken from the StatLib library which is maintained at Carnegie Mellon University.\n",
      "\n",
      "The Boston house-price data of Harrison, D. and Rubinfeld, D.L. 'Hedonic\n",
      "prices and the demand for clean air', J. Environ. Economics & Management,\n",
      "vol.5, 81-102, 1978.   Used in Belsley, Kuh & Welsch, 'Regression diagnostics\n",
      "...', Wiley, 1980.   N.B. Various transformations are used in the table on\n",
      "pages 244-261 of the latter.\n",
      "\n",
      "The Boston house-price data has been used in many machine learning papers that address regression\n",
      "problems.   \n",
      "     \n",
      "**References**\n",
      "\n",
      "   - Belsley, Kuh & Welsch, 'Regression diagnostics: Identifying Influential Data and Sources of Collinearity', Wiley, 1980. 244-261.\n",
      "   - Quinlan,R. (1993). Combining Instance-Based and Model-Based Learning. In Proceedings on the Tenth International Conference of Machine Learning, 236-243, University of Massachusetts, Amherst. Morgan Kaufmann.\n",
      "   - many more! (see http://archive.ics.uci.edu/ml/datasets/Housing)\n",
      "\n"
     ]
    }
   ],
   "source": [
    "bost = load_boston()\n",
    "print(bost[\"DESCR\"])"
   ]
  },
  {
   "cell_type": "code",
   "execution_count": 35,
   "metadata": {},
   "outputs": [
    {
     "data": {
      "text/html": [
       "<div>\n",
       "<style scoped>\n",
       "    .dataframe tbody tr th:only-of-type {\n",
       "        vertical-align: middle;\n",
       "    }\n",
       "\n",
       "    .dataframe tbody tr th {\n",
       "        vertical-align: top;\n",
       "    }\n",
       "\n",
       "    .dataframe thead th {\n",
       "        text-align: right;\n",
       "    }\n",
       "</style>\n",
       "<table border=\"1\" class=\"dataframe\">\n",
       "  <thead>\n",
       "    <tr style=\"text-align: right;\">\n",
       "      <th></th>\n",
       "      <th>CRIM</th>\n",
       "      <th>ZN</th>\n",
       "      <th>INDUS</th>\n",
       "      <th>CHAS</th>\n",
       "      <th>NOX</th>\n",
       "      <th>RM</th>\n",
       "      <th>AGE</th>\n",
       "      <th>DIS</th>\n",
       "      <th>RAD</th>\n",
       "      <th>TAX</th>\n",
       "      <th>PTRATIO</th>\n",
       "      <th>B</th>\n",
       "      <th>LSTAT</th>\n",
       "    </tr>\n",
       "  </thead>\n",
       "  <tbody>\n",
       "    <tr>\n",
       "      <th>0</th>\n",
       "      <td>0.00632</td>\n",
       "      <td>18.0</td>\n",
       "      <td>2.31</td>\n",
       "      <td>0.0</td>\n",
       "      <td>0.538</td>\n",
       "      <td>6.575</td>\n",
       "      <td>65.2</td>\n",
       "      <td>4.0900</td>\n",
       "      <td>1.0</td>\n",
       "      <td>296.0</td>\n",
       "      <td>15.3</td>\n",
       "      <td>396.90</td>\n",
       "      <td>4.98</td>\n",
       "    </tr>\n",
       "    <tr>\n",
       "      <th>1</th>\n",
       "      <td>0.02731</td>\n",
       "      <td>0.0</td>\n",
       "      <td>7.07</td>\n",
       "      <td>0.0</td>\n",
       "      <td>0.469</td>\n",
       "      <td>6.421</td>\n",
       "      <td>78.9</td>\n",
       "      <td>4.9671</td>\n",
       "      <td>2.0</td>\n",
       "      <td>242.0</td>\n",
       "      <td>17.8</td>\n",
       "      <td>396.90</td>\n",
       "      <td>9.14</td>\n",
       "    </tr>\n",
       "    <tr>\n",
       "      <th>2</th>\n",
       "      <td>0.02729</td>\n",
       "      <td>0.0</td>\n",
       "      <td>7.07</td>\n",
       "      <td>0.0</td>\n",
       "      <td>0.469</td>\n",
       "      <td>7.185</td>\n",
       "      <td>61.1</td>\n",
       "      <td>4.9671</td>\n",
       "      <td>2.0</td>\n",
       "      <td>242.0</td>\n",
       "      <td>17.8</td>\n",
       "      <td>392.83</td>\n",
       "      <td>4.03</td>\n",
       "    </tr>\n",
       "    <tr>\n",
       "      <th>3</th>\n",
       "      <td>0.03237</td>\n",
       "      <td>0.0</td>\n",
       "      <td>2.18</td>\n",
       "      <td>0.0</td>\n",
       "      <td>0.458</td>\n",
       "      <td>6.998</td>\n",
       "      <td>45.8</td>\n",
       "      <td>6.0622</td>\n",
       "      <td>3.0</td>\n",
       "      <td>222.0</td>\n",
       "      <td>18.7</td>\n",
       "      <td>394.63</td>\n",
       "      <td>2.94</td>\n",
       "    </tr>\n",
       "    <tr>\n",
       "      <th>4</th>\n",
       "      <td>0.06905</td>\n",
       "      <td>0.0</td>\n",
       "      <td>2.18</td>\n",
       "      <td>0.0</td>\n",
       "      <td>0.458</td>\n",
       "      <td>7.147</td>\n",
       "      <td>54.2</td>\n",
       "      <td>6.0622</td>\n",
       "      <td>3.0</td>\n",
       "      <td>222.0</td>\n",
       "      <td>18.7</td>\n",
       "      <td>396.90</td>\n",
       "      <td>5.33</td>\n",
       "    </tr>\n",
       "  </tbody>\n",
       "</table>\n",
       "</div>"
      ],
      "text/plain": [
       "      CRIM    ZN  INDUS  CHAS    NOX     RM   AGE     DIS  RAD    TAX  \\\n",
       "0  0.00632  18.0   2.31   0.0  0.538  6.575  65.2  4.0900  1.0  296.0   \n",
       "1  0.02731   0.0   7.07   0.0  0.469  6.421  78.9  4.9671  2.0  242.0   \n",
       "2  0.02729   0.0   7.07   0.0  0.469  7.185  61.1  4.9671  2.0  242.0   \n",
       "3  0.03237   0.0   2.18   0.0  0.458  6.998  45.8  6.0622  3.0  222.0   \n",
       "4  0.06905   0.0   2.18   0.0  0.458  7.147  54.2  6.0622  3.0  222.0   \n",
       "\n",
       "   PTRATIO       B  LSTAT  \n",
       "0     15.3  396.90   4.98  \n",
       "1     17.8  396.90   9.14  \n",
       "2     17.8  392.83   4.03  \n",
       "3     18.7  394.63   2.94  \n",
       "4     18.7  396.90   5.33  "
      ]
     },
     "execution_count": 35,
     "metadata": {},
     "output_type": "execute_result"
    }
   ],
   "source": [
    "df = pd.DataFrame(bost[\"data\"], columns=bost[\"feature_names\"])\n",
    "df.head()"
   ]
  },
  {
   "cell_type": "code",
   "execution_count": 36,
   "metadata": {},
   "outputs": [
    {
     "data": {
      "text/plain": [
       "0    24.0\n",
       "1    21.6\n",
       "2    34.7\n",
       "3    33.4\n",
       "4    36.2\n",
       "Name: target, dtype: float64"
      ]
     },
     "execution_count": 36,
     "metadata": {},
     "output_type": "execute_result"
    }
   ],
   "source": [
    "y = pd.Series(bost[\"target\"], name=\"target\")\n",
    "y.head()"
   ]
  },
  {
   "cell_type": "markdown",
   "metadata": {},
   "source": [
    "Use `corr_test` to test the significance of the correlation coefficients.  We see that all the correlations are highly significant since they lie at the extremes of their respective permutation distributions."
   ]
  },
  {
   "cell_type": "code",
   "execution_count": 37,
   "metadata": {},
   "outputs": [
    {
     "data": {
      "text/html": [
       "<div>\n",
       "<style scoped>\n",
       "    .dataframe tbody tr th:only-of-type {\n",
       "        vertical-align: middle;\n",
       "    }\n",
       "\n",
       "    .dataframe tbody tr th {\n",
       "        vertical-align: top;\n",
       "    }\n",
       "\n",
       "    .dataframe thead th {\n",
       "        text-align: right;\n",
       "    }\n",
       "</style>\n",
       "<table border=\"1\" class=\"dataframe\">\n",
       "  <thead>\n",
       "    <tr style=\"text-align: right;\">\n",
       "      <th></th>\n",
       "      <th>c</th>\n",
       "      <th>prop</th>\n",
       "    </tr>\n",
       "  </thead>\n",
       "  <tbody>\n",
       "    <tr>\n",
       "      <th>CRIM</th>\n",
       "      <td>-0.385832</td>\n",
       "      <td>0.0</td>\n",
       "    </tr>\n",
       "    <tr>\n",
       "      <th>ZN</th>\n",
       "      <td>0.360445</td>\n",
       "      <td>1.0</td>\n",
       "    </tr>\n",
       "    <tr>\n",
       "      <th>INDUS</th>\n",
       "      <td>-0.483725</td>\n",
       "      <td>0.0</td>\n",
       "    </tr>\n",
       "    <tr>\n",
       "      <th>CHAS</th>\n",
       "      <td>0.175260</td>\n",
       "      <td>1.0</td>\n",
       "    </tr>\n",
       "    <tr>\n",
       "      <th>NOX</th>\n",
       "      <td>-0.427321</td>\n",
       "      <td>0.0</td>\n",
       "    </tr>\n",
       "    <tr>\n",
       "      <th>RM</th>\n",
       "      <td>0.695360</td>\n",
       "      <td>1.0</td>\n",
       "    </tr>\n",
       "    <tr>\n",
       "      <th>AGE</th>\n",
       "      <td>-0.376955</td>\n",
       "      <td>0.0</td>\n",
       "    </tr>\n",
       "    <tr>\n",
       "      <th>DIS</th>\n",
       "      <td>0.249929</td>\n",
       "      <td>1.0</td>\n",
       "    </tr>\n",
       "    <tr>\n",
       "      <th>RAD</th>\n",
       "      <td>-0.381626</td>\n",
       "      <td>0.0</td>\n",
       "    </tr>\n",
       "    <tr>\n",
       "      <th>TAX</th>\n",
       "      <td>-0.468536</td>\n",
       "      <td>0.0</td>\n",
       "    </tr>\n",
       "    <tr>\n",
       "      <th>PTRATIO</th>\n",
       "      <td>-0.507787</td>\n",
       "      <td>0.0</td>\n",
       "    </tr>\n",
       "    <tr>\n",
       "      <th>B</th>\n",
       "      <td>0.333461</td>\n",
       "      <td>1.0</td>\n",
       "    </tr>\n",
       "    <tr>\n",
       "      <th>LSTAT</th>\n",
       "      <td>-0.737663</td>\n",
       "      <td>0.0</td>\n",
       "    </tr>\n",
       "  </tbody>\n",
       "</table>\n",
       "</div>"
      ],
      "text/plain": [
       "                c  prop\n",
       "CRIM    -0.385832   0.0\n",
       "ZN       0.360445   1.0\n",
       "INDUS   -0.483725   0.0\n",
       "CHAS     0.175260   1.0\n",
       "NOX     -0.427321   0.0\n",
       "RM       0.695360   1.0\n",
       "AGE     -0.376955   0.0\n",
       "DIS      0.249929   1.0\n",
       "RAD     -0.381626   0.0\n",
       "TAX     -0.468536   0.0\n",
       "PTRATIO -0.507787   0.0\n",
       "B        0.333461   1.0\n",
       "LSTAT   -0.737663   0.0"
      ]
     },
     "execution_count": 37,
     "metadata": {},
     "output_type": "execute_result"
    }
   ],
   "source": [
    "df.apply(lambda x: pd.Series(permutation.corr_test(x.values, y.values, b=1000))).T"
   ]
  },
  {
   "cell_type": "markdown",
   "metadata": {},
   "source": [
    "Use `ttest` to determine if properties along the Charles River are more expensive"
   ]
  },
  {
   "cell_type": "code",
   "execution_count": 38,
   "metadata": {},
   "outputs": [
    {
     "data": {
      "text/plain": [
       "{'t': 3.113291312794837, 'prop': 1.0}"
      ]
     },
     "execution_count": 38,
     "metadata": {},
     "output_type": "execute_result"
    }
   ],
   "source": [
    "permutation.ttest(y[df[\"CHAS\"] == 1], y[df[\"CHAS\"] == 0], b=1000)"
   ]
  },
  {
   "cell_type": "markdown",
   "metadata": {},
   "source": [
    "`wilcoxon` can be used to test the same hypothesis"
   ]
  },
  {
   "cell_type": "code",
   "execution_count": 39,
   "metadata": {},
   "outputs": [
    {
     "data": {
      "text/plain": [
       "{'w': 11509.5, 'prop': 0.998}"
      ]
     },
     "execution_count": 39,
     "metadata": {},
     "output_type": "execute_result"
    }
   ],
   "source": [
    "permutation.wilcoxon(y[df[\"CHAS\"] == 1], y[df[\"CHAS\"] == 0], b=1000)"
   ]
  },
  {
   "cell_type": "markdown",
   "metadata": {},
   "source": [
    "Load linear model libraries"
   ]
  },
  {
   "cell_type": "code",
   "execution_count": 40,
   "metadata": {},
   "outputs": [],
   "source": [
    "from sklearn.preprocessing import StandardScaler\n",
    "from sklearn.linear_model import LinearRegression\n",
    "from sklearn.model_selection import cross_val_predict"
   ]
  },
  {
   "cell_type": "markdown",
   "metadata": {},
   "source": [
    "Here we define a function `fitreg` which takes a matrix `A` that contains both predictors and a response variable and returns the least squares coefficients of the predictors along with an intercept.  Note how the standardization is actually performed *inside* the function.  This means that the measures of center and scale (which are in fact model parameters) are estimated at every iteration, and so any variation in the coefficients that is induced by this process can be accounted-for by the bootstrapping process.  In theory a full modeling workflow can be defined as a function which can then be bootstrapped."
   ]
  },
  {
   "cell_type": "code",
   "execution_count": 41,
   "metadata": {},
   "outputs": [],
   "source": [
    "def fitreg(A):\n",
    "    scale = StandardScaler()\n",
    "    reg = LinearRegression(fit_intercept=True)\n",
    "    X_scale = scale.fit_transform(A[:, :A.shape[1]-2])\n",
    "    y = A[:, A.shape[1]-1]\n",
    "    reg.fit(X_scale, y)\n",
    "    return {\"coef\": reg.coef_, \"intercept\": reg.intercept_}"
   ]
  },
  {
   "cell_type": "markdown",
   "metadata": {},
   "source": [
    "Apply the function to 5,000 bootstrap copies of the Boston housing data.  The output is an array of dictionaries containing the coefficients and intercept for each data set.  We then wrap this array into a `pandas` `DataFrame`."
   ]
  },
  {
   "cell_type": "code",
   "execution_count": 42,
   "metadata": {},
   "outputs": [
    {
     "data": {
      "text/plain": [
       "array([{'coef': array([-1.24940008,  0.4521016 , -0.12226851,  0.49288441, -2.15744612,\n",
       "        4.35705272, -0.62892876, -2.66174889,  2.71151405, -1.62770767,\n",
       "       -2.29904926,  1.67548978]), 'intercept': 22.62193675889331},\n",
       "       {'coef': array([-1.98340371,  1.1962473 , -0.54160658,  1.49201159, -3.36253846,\n",
       "        3.21354932, -0.99205584, -3.63673274,  2.9456833 , -1.18162618,\n",
       "       -1.91532297,  1.51572313]), 'intercept': 22.14584980237155},\n",
       "       {'coef': array([-1.34135503,  0.61075114, -0.44502036,  0.77009715, -3.66622407,\n",
       "        4.28706396, -0.80467974, -4.41104731,  2.62514328, -1.77952508,\n",
       "       -2.65794962,  1.17814286]), 'intercept': 22.486956521739145}],\n",
       "      dtype=object)"
      ]
     },
     "execution_count": 42,
     "metadata": {},
     "output_type": "execute_result"
    }
   ],
   "source": [
    "boot_coef = bootstrap.bootstrap(a=df.join(y).values, f=fitreg, b=5000, random_state=2357)\n",
    "boot_coef[:3]"
   ]
  },
  {
   "cell_type": "code",
   "execution_count": 43,
   "metadata": {},
   "outputs": [
    {
     "data": {
      "text/html": [
       "<div>\n",
       "<style scoped>\n",
       "    .dataframe tbody tr th:only-of-type {\n",
       "        vertical-align: middle;\n",
       "    }\n",
       "\n",
       "    .dataframe tbody tr th {\n",
       "        vertical-align: top;\n",
       "    }\n",
       "\n",
       "    .dataframe thead th {\n",
       "        text-align: right;\n",
       "    }\n",
       "</style>\n",
       "<table border=\"1\" class=\"dataframe\">\n",
       "  <thead>\n",
       "    <tr style=\"text-align: right;\">\n",
       "      <th></th>\n",
       "      <th>coef</th>\n",
       "      <th>intercept</th>\n",
       "    </tr>\n",
       "  </thead>\n",
       "  <tbody>\n",
       "    <tr>\n",
       "      <th>0</th>\n",
       "      <td>[-1.2494000801862717, 0.452101603479378, -0.12...</td>\n",
       "      <td>22.621937</td>\n",
       "    </tr>\n",
       "    <tr>\n",
       "      <th>1</th>\n",
       "      <td>[-1.9834037094578212, 1.1962473015460426, -0.5...</td>\n",
       "      <td>22.145850</td>\n",
       "    </tr>\n",
       "    <tr>\n",
       "      <th>2</th>\n",
       "      <td>[-1.3413550287062634, 0.6107511396410703, -0.4...</td>\n",
       "      <td>22.486957</td>\n",
       "    </tr>\n",
       "    <tr>\n",
       "      <th>3</th>\n",
       "      <td>[-1.0252065314677028, 0.9423924278334428, 0.16...</td>\n",
       "      <td>22.636957</td>\n",
       "    </tr>\n",
       "    <tr>\n",
       "      <th>4</th>\n",
       "      <td>[-0.7618402285907614, 0.9359590077955342, -0.4...</td>\n",
       "      <td>22.729644</td>\n",
       "    </tr>\n",
       "  </tbody>\n",
       "</table>\n",
       "</div>"
      ],
      "text/plain": [
       "                                                coef  intercept\n",
       "0  [-1.2494000801862717, 0.452101603479378, -0.12...  22.621937\n",
       "1  [-1.9834037094578212, 1.1962473015460426, -0.5...  22.145850\n",
       "2  [-1.3413550287062634, 0.6107511396410703, -0.4...  22.486957\n",
       "3  [-1.0252065314677028, 0.9423924278334428, 0.16...  22.636957\n",
       "4  [-0.7618402285907614, 0.9359590077955342, -0.4...  22.729644"
      ]
     },
     "execution_count": 43,
     "metadata": {},
     "output_type": "execute_result"
    }
   ],
   "source": [
    "param_frame = pd.DataFrame([pd.Series(x) for x in boot_coef])\n",
    "param_frame.head()"
   ]
  },
  {
   "cell_type": "markdown",
   "metadata": {},
   "source": [
    "Extract the coefficients for the `CRIM` variable and plot the histogram"
   ]
  },
  {
   "cell_type": "code",
   "execution_count": 44,
   "metadata": {},
   "outputs": [],
   "source": [
    "crim_coef = param_frame[\"coef\"].map(lambda x: x[0])"
   ]
  },
  {
   "cell_type": "code",
   "execution_count": 45,
   "metadata": {},
   "outputs": [
    {
     "data": {
      "text/plain": [
       "<matplotlib.axes._subplots.AxesSubplot at 0x10dd3be48>"
      ]
     },
     "execution_count": 45,
     "metadata": {},
     "output_type": "execute_result"
    },
    {
     "data": {
      "image/png": "[encoded data removed]",
      "text/plain": [
       "<Figure size 432x288 with 1 Axes>"
      ]
     },
     "metadata": {},
     "output_type": "display_data"
    }
   ],
   "source": [
    "sns.distplot(crim_coef, kde=False)"
   ]
  },
  {
   "cell_type": "markdown",
   "metadata": {},
   "source": [
    "Extract endpoints of percentile bootstrap confidence interval"
   ]
  },
  {
   "cell_type": "code",
   "execution_count": 46,
   "metadata": {},
   "outputs": [],
   "source": [
    "q = utils.eqf(crim_coef)"
   ]
  },
  {
   "cell_type": "code",
   "execution_count": 47,
   "metadata": {},
   "outputs": [
    {
     "data": {
      "text/plain": [
       "(-2.0578162377452105, -0.5423771568162123)"
      ]
     },
     "execution_count": 47,
     "metadata": {},
     "output_type": "execute_result"
    }
   ],
   "source": [
    "(q(0.025), q(0.975))"
   ]
  },
  {
   "cell_type": "markdown",
   "metadata": {},
   "source": [
    "Bootstrap confidence interval of correlation coefficient between `CRIM` and `target`.  This gives us a plausible range for the true correlation between these two quantities."
   ]
  },
  {
   "cell_type": "code",
   "execution_count": 48,
   "metadata": {},
   "outputs": [
    {
     "data": {
      "text/plain": [
       "(-0.4508508352669132, -0.3334594499656253)"
      ]
     },
     "execution_count": 48,
     "metadata": {},
     "output_type": "execute_result"
    }
   ],
   "source": [
    "bootstrap.bootstrap_ci(a=df[[\"CRIM\"]].join(y).values,\n",
    "                       f=lambda x: np.corrcoef(x[:, 0], x[:, 1])[0, 1],\n",
    "                       p=0.95,\n",
    "                       b=10000,\n",
    "                       ci_method=\"percentile\",\n",
    "                       random_state=2357)"
   ]
  },
  {
   "cell_type": "markdown",
   "metadata": {},
   "source": [
    "#### Confidence intervals on expected price\n",
    "\n",
    "By bootstrapping the predictions themselves we can understand which properties the model is most confident about  Here we create a function that returns the out of fold predictions for a given bootstrap sample."
   ]
  },
  {
   "cell_type": "code",
   "execution_count": 49,
   "metadata": {},
   "outputs": [],
   "source": [
    "def predreg(A):\n",
    "    scale = StandardScaler()\n",
    "    reg = LinearRegression(fit_intercept=True)\n",
    "    X_scale = scale.fit_transform(A[:, :A.shape[1]-2])\n",
    "    y = A[:, A.shape[1]-1]\n",
    "    preds = cross_val_predict(reg, X_scale, y, cv=5)\n",
    "    return preds"
   ]
  },
  {
   "cell_type": "markdown",
   "metadata": {},
   "source": [
    "Get the array of out of fold predictions for houses in the data set and convert to a `DataFrame`"
   ]
  },
  {
   "cell_type": "code",
   "execution_count": 50,
   "metadata": {},
   "outputs": [
    {
     "data": {
      "text/plain": [
       "array([[31.73227669, 17.1396954 , 17.15637121, ..., 28.17577928,\n",
       "        32.67637008, 31.18282582],\n",
       "       [23.68496168, 18.91616682, 22.97066454, ..., 18.58905637,\n",
       "        24.87517158, 24.0710947 ],\n",
       "       [13.81238273, 30.40878729, 28.10046726, ..., 23.11639242,\n",
       "        24.4231447 , 35.74492723]])"
      ]
     },
     "execution_count": 50,
     "metadata": {},
     "output_type": "execute_result"
    }
   ],
   "source": [
    "boot_pred = bootstrap.bootstrap(a=df.join(y).values, f=predreg, b=5000, random_state=2357)\n",
    "boot_pred[:3]"
   ]
  },
  {
   "cell_type": "code",
   "execution_count": 51,
   "metadata": {},
   "outputs": [
    {
     "data": {
      "text/html": [
       "<div>\n",
       "<style scoped>\n",
       "    .dataframe tbody tr th:only-of-type {\n",
       "        vertical-align: middle;\n",
       "    }\n",
       "\n",
       "    .dataframe tbody tr th {\n",
       "        vertical-align: top;\n",
       "    }\n",
       "\n",
       "    .dataframe thead th {\n",
       "        text-align: right;\n",
       "    }\n",
       "</style>\n",
       "<table border=\"1\" class=\"dataframe\">\n",
       "  <thead>\n",
       "    <tr style=\"text-align: right;\">\n",
       "      <th></th>\n",
       "      <th>0</th>\n",
       "      <th>1</th>\n",
       "      <th>2</th>\n",
       "      <th>3</th>\n",
       "      <th>4</th>\n",
       "      <th>5</th>\n",
       "      <th>6</th>\n",
       "      <th>7</th>\n",
       "      <th>8</th>\n",
       "      <th>9</th>\n",
       "      <th>...</th>\n",
       "      <th>496</th>\n",
       "      <th>497</th>\n",
       "      <th>498</th>\n",
       "      <th>499</th>\n",
       "      <th>500</th>\n",
       "      <th>501</th>\n",
       "      <th>502</th>\n",
       "      <th>503</th>\n",
       "      <th>504</th>\n",
       "      <th>505</th>\n",
       "    </tr>\n",
       "  </thead>\n",
       "  <tbody>\n",
       "    <tr>\n",
       "      <th>0</th>\n",
       "      <td>31.732277</td>\n",
       "      <td>17.139695</td>\n",
       "      <td>17.156371</td>\n",
       "      <td>34.353613</td>\n",
       "      <td>19.562545</td>\n",
       "      <td>18.063619</td>\n",
       "      <td>27.671622</td>\n",
       "      <td>25.019367</td>\n",
       "      <td>20.575474</td>\n",
       "      <td>27.223908</td>\n",
       "      <td>...</td>\n",
       "      <td>20.381632</td>\n",
       "      <td>17.055795</td>\n",
       "      <td>25.694582</td>\n",
       "      <td>16.966427</td>\n",
       "      <td>20.058569</td>\n",
       "      <td>20.612323</td>\n",
       "      <td>22.135897</td>\n",
       "      <td>28.175779</td>\n",
       "      <td>32.676370</td>\n",
       "      <td>31.182826</td>\n",
       "    </tr>\n",
       "    <tr>\n",
       "      <th>1</th>\n",
       "      <td>23.684962</td>\n",
       "      <td>18.916167</td>\n",
       "      <td>22.970665</td>\n",
       "      <td>19.761198</td>\n",
       "      <td>27.789788</td>\n",
       "      <td>25.446952</td>\n",
       "      <td>20.840577</td>\n",
       "      <td>15.345835</td>\n",
       "      <td>23.632445</td>\n",
       "      <td>32.121184</td>\n",
       "      <td>...</td>\n",
       "      <td>28.014830</td>\n",
       "      <td>18.333582</td>\n",
       "      <td>32.603797</td>\n",
       "      <td>18.638341</td>\n",
       "      <td>23.508666</td>\n",
       "      <td>19.190535</td>\n",
       "      <td>20.700009</td>\n",
       "      <td>18.589056</td>\n",
       "      <td>24.875172</td>\n",
       "      <td>24.071095</td>\n",
       "    </tr>\n",
       "    <tr>\n",
       "      <th>2</th>\n",
       "      <td>13.812383</td>\n",
       "      <td>30.408787</td>\n",
       "      <td>28.100467</td>\n",
       "      <td>28.314489</td>\n",
       "      <td>14.046009</td>\n",
       "      <td>31.180804</td>\n",
       "      <td>27.993931</td>\n",
       "      <td>38.324539</td>\n",
       "      <td>20.827645</td>\n",
       "      <td>36.989123</td>\n",
       "      <td>...</td>\n",
       "      <td>12.179307</td>\n",
       "      <td>21.034847</td>\n",
       "      <td>14.146882</td>\n",
       "      <td>22.092624</td>\n",
       "      <td>14.542785</td>\n",
       "      <td>25.501787</td>\n",
       "      <td>14.881944</td>\n",
       "      <td>23.116392</td>\n",
       "      <td>24.423145</td>\n",
       "      <td>35.744927</td>\n",
       "    </tr>\n",
       "    <tr>\n",
       "      <th>3</th>\n",
       "      <td>24.164136</td>\n",
       "      <td>28.431098</td>\n",
       "      <td>27.965644</td>\n",
       "      <td>19.997402</td>\n",
       "      <td>9.657739</td>\n",
       "      <td>14.553941</td>\n",
       "      <td>17.516871</td>\n",
       "      <td>20.697057</td>\n",
       "      <td>15.482384</td>\n",
       "      <td>20.892240</td>\n",
       "      <td>...</td>\n",
       "      <td>15.175443</td>\n",
       "      <td>25.276496</td>\n",
       "      <td>14.717044</td>\n",
       "      <td>23.828350</td>\n",
       "      <td>10.671473</td>\n",
       "      <td>19.975576</td>\n",
       "      <td>28.728738</td>\n",
       "      <td>16.753051</td>\n",
       "      <td>29.303064</td>\n",
       "      <td>20.549855</td>\n",
       "    </tr>\n",
       "    <tr>\n",
       "      <th>4</th>\n",
       "      <td>24.620743</td>\n",
       "      <td>24.258899</td>\n",
       "      <td>24.363662</td>\n",
       "      <td>14.801903</td>\n",
       "      <td>32.424043</td>\n",
       "      <td>18.345421</td>\n",
       "      <td>33.540182</td>\n",
       "      <td>20.949679</td>\n",
       "      <td>27.784176</td>\n",
       "      <td>19.506469</td>\n",
       "      <td>...</td>\n",
       "      <td>14.632827</td>\n",
       "      <td>21.207334</td>\n",
       "      <td>19.249194</td>\n",
       "      <td>22.900901</td>\n",
       "      <td>31.689216</td>\n",
       "      <td>23.911234</td>\n",
       "      <td>23.333780</td>\n",
       "      <td>14.604969</td>\n",
       "      <td>13.144598</td>\n",
       "      <td>15.765306</td>\n",
       "    </tr>\n",
       "  </tbody>\n",
       "</table>\n",
       "<p>5 rows × 506 columns</p>\n",
       "</div>"
      ],
      "text/plain": [
       "         0          1          2          3          4          5    \\\n",
       "0  31.732277  17.139695  17.156371  34.353613  19.562545  18.063619   \n",
       "1  23.684962  18.916167  22.970665  19.761198  27.789788  25.446952   \n",
       "2  13.812383  30.408787  28.100467  28.314489  14.046009  31.180804   \n",
       "3  24.164136  28.431098  27.965644  19.997402   9.657739  14.553941   \n",
       "4  24.620743  24.258899  24.363662  14.801903  32.424043  18.345421   \n",
       "\n",
       "         6          7          8          9      ...            496  \\\n",
       "0  27.671622  25.019367  20.575474  27.223908    ...      20.381632   \n",
       "1  20.840577  15.345835  23.632445  32.121184    ...      28.014830   \n",
       "2  27.993931  38.324539  20.827645  36.989123    ...      12.179307   \n",
       "3  17.516871  20.697057  15.482384  20.892240    ...      15.175443   \n",
       "4  33.540182  20.949679  27.784176  19.506469    ...      14.632827   \n",
       "\n",
       "         497        498        499        500        501        502  \\\n",
       "0  17.055795  25.694582  16.966427  20.058569  20.612323  22.135897   \n",
       "1  18.333582  32.603797  18.638341  23.508666  19.190535  20.700009   \n",
       "2  21.034847  14.146882  22.092624  14.542785  25.501787  14.881944   \n",
       "3  25.276496  14.717044  23.828350  10.671473  19.975576  28.728738   \n",
       "4  21.207334  19.249194  22.900901  31.689216  23.911234  23.333780   \n",
       "\n",
       "         503        504        505  \n",
       "0  28.175779  32.676370  31.182826  \n",
       "1  18.589056  24.875172  24.071095  \n",
       "2  23.116392  24.423145  35.744927  \n",
       "3  16.753051  29.303064  20.549855  \n",
       "4  14.604969  13.144598  15.765306  \n",
       "\n",
       "[5 rows x 506 columns]"
      ]
     },
     "execution_count": 51,
     "metadata": {},
     "output_type": "execute_result"
    }
   ],
   "source": [
    "pred_frame = pd.DataFrame(boot_pred)\n",
    "pred_frame.head()"
   ]
  },
  {
   "cell_type": "markdown",
   "metadata": {},
   "source": [
    "Bootstrapped out of fold predictions for the first three properties"
   ]
  },
  {
   "cell_type": "code",
   "execution_count": 52,
   "metadata": {},
   "outputs": [
    {
     "data": {
      "text/plain": [
       "<matplotlib.axes._subplots.AxesSubplot at 0x10b92d128>"
      ]
     },
     "execution_count": 52,
     "metadata": {},
     "output_type": "execute_result"
    },
    {
     "data": {
      "image/png": "[encoded data removed]",
      "text/plain": [
       "<Figure size 432x288 with 1 Axes>"
      ]
     },
     "metadata": {},
     "output_type": "display_data"
    }
   ],
   "source": [
    "sns.distplot(pred_frame.iloc[0, :], kde=False)"
   ]
  },
  {
   "cell_type": "code",
   "execution_count": 53,
   "metadata": {},
   "outputs": [
    {
     "data": {
      "text/plain": [
       "<matplotlib.axes._subplots.AxesSubplot at 0x10b8b55c0>"
      ]
     },
     "execution_count": 53,
     "metadata": {},
     "output_type": "execute_result"
    },
    {
     "data": {
      "image/png": "[encoded data removed]",
      "text/plain": [
       "<Figure size 432x288 with 1 Axes>"
      ]
     },
     "metadata": {},
     "output_type": "display_data"
    }
   ],
   "source": [
    "sns.distplot(pred_frame.iloc[1, :], kde=False)"
   ]
  },
  {
   "cell_type": "code",
   "execution_count": 54,
   "metadata": {},
   "outputs": [
    {
     "data": {
      "text/plain": [
       "<matplotlib.axes._subplots.AxesSubplot at 0x10decfd30>"
      ]
     },
     "execution_count": 54,
     "metadata": {},
     "output_type": "execute_result"
    },
    {
     "data": {
      "image/png": "[encoded data removed]",
      "text/plain": [
       "<Figure size 432x288 with 1 Axes>"
      ]
     },
     "metadata": {},
     "output_type": "display_data"
    }
   ],
   "source": [
    "sns.distplot(pred_frame.iloc[2, :], kde=False)"
   ]
  },
  {
   "cell_type": "markdown",
   "metadata": {},
   "source": [
    "95% confidence intervals for the expected price of each property.  These show that the model is actually quite uncertain about the expected prices of houses within the data set."
   ]
  },
  {
   "cell_type": "code",
   "execution_count": 55,
   "metadata": {},
   "outputs": [
    {
     "data": {
      "text/plain": [
       "0      (8.742119536695936, 39.29111519696061)\n",
       "1       (8.54755252055063, 38.31914102652827)\n",
       "2       (7.65201839914364, 39.35985637679014)\n",
       "3     (8.337721940370635, 39.394936315379006)\n",
       "4      (7.469910385317593, 39.58180564795519)\n",
       "5      (8.726150421568999, 39.24793109055371)\n",
       "6     (8.244021278513703, 38.948600725688905)\n",
       "7      (7.755996816232597, 39.30072630299543)\n",
       "8      (9.105250610735286, 39.45086978996228)\n",
       "9     (8.862670046047688, 39.418000340258935)\n",
       "10    (7.9445835143152435, 38.65291000485354)\n",
       "11     (8.606598745153494, 38.75001220008819)\n",
       "12    (7.952855046552974, 39.155068343122906)\n",
       "13    (7.738278653535229, 39.650937808201455)\n",
       "14      (8.0448627077445, 39.848015989687006)\n",
       "15    (8.718044393317184, 38.883621937851146)\n",
       "16     (8.14343167410612, 39.185904068430176)\n",
       "17     (8.870303845565859, 38.96796304033901)\n",
       "18     (8.247180231194564, 39.32778367179274)\n",
       "19    (8.021561298758485, 38.776043929568594)\n",
       "dtype: object"
      ]
     },
     "execution_count": 55,
     "metadata": {},
     "output_type": "execute_result"
    }
   ],
   "source": [
    "intervals = pred_frame.apply(lambda x: (x.quantile(0.025), x.quantile(0.975)))\n",
    "intervals.head(20)"
   ]
  },
  {
   "cell_type": "code",
   "execution_count": 56,
   "metadata": {},
   "outputs": [
    {
     "data": {
      "text/plain": [
       "486     (8.480579855391674, 39.85851756025357)\n",
       "487     (8.331688521502029, 39.22206828613531)\n",
       "488    (8.996448828659753, 39.422086002885735)\n",
       "489     (8.657617918634172, 38.39701221225067)\n",
       "490     (8.071898084258786, 39.15852435584959)\n",
       "491    (7.964438577876767, 39.025003530736875)\n",
       "492    (8.254053702595971, 39.102279283330816)\n",
       "493    (7.8081392667918665, 39.34727881313187)\n",
       "494     (8.425206951251445, 39.84711406709886)\n",
       "495      (8.43315137717127, 39.20902660394789)\n",
       "496    (8.555773430750536, 38.529653627130365)\n",
       "497     (7.681196957669968, 38.60497604070052)\n",
       "498     (7.928678197820241, 39.02183506799387)\n",
       "499     (8.146449229847857, 39.01121697962022)\n",
       "500      (8.19874340504707, 39.27372729968871)\n",
       "501      (8.630694537913419, 38.5726705967025)\n",
       "502    (9.361655730261587, 38.543371006494716)\n",
       "503     (8.831560026050987, 39.00661221937944)\n",
       "504     (8.326098695554723, 38.99836489408759)\n",
       "505     (8.065875506112816, 39.40520748669568)\n",
       "dtype: object"
      ]
     },
     "execution_count": 56,
     "metadata": {},
     "output_type": "execute_result"
    }
   ],
   "source": [
    "intervals.tail(20)"
   ]
  }
 ],
 "metadata": {
  "kernelspec": {
   "display_name": "Python 3",
   "language": "python",
   "name": "python3"
  },
  "language_info": {
   "codemirror_mode": {
    "name": "ipython",
    "version": 3
   },
   "file_extension": ".py",
   "mimetype": "text/x-python",
   "name": "python",
   "nbconvert_exporter": "python",
   "pygments_lexer": "ipython3",
   "version": "3.6.5"
  }
 },
 "nbformat": 4,
 "nbformat_minor": 2
}
